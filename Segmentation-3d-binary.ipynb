{
 "cells": [
  {
   "cell_type": "code",
   "execution_count": 2,
   "id": "9a35b3c7",
   "metadata": {},
   "outputs": [],
   "source": [
    "#!pip install nibabel\n",
    "#!pip install matplotlib\n",
    "#!pip install opencv-python\n",
    "#!pip install torch\n",
    "#!pip install segmentation-models-3D\n",
    "#!pip install classification-models-3D\n",
    "#!pip install efficientnet-3D\n",
    "#!pip install keras_applications\n",
    "#!pip install scikit-image\n",
    "#!pip install patchify"
   ]
  },
  {
   "cell_type": "code",
   "execution_count": 1,
   "id": "3c7ef758",
   "metadata": {},
   "outputs": [
    {
     "name": "stdout",
     "output_type": "stream",
     "text": [
      "2.9.0\n",
      "2.9.0\n",
      "Segmentation Models: using `keras` framework.\n"
     ]
    }
   ],
   "source": [
    "import numpy as np\n",
    "import pandas as pd\n",
    "import sys, os, glob\n",
    "import math, random\n",
    "import tensorflow as tf\n",
    "from matplotlib import pyplot as plt\n",
    "import random\n",
    "import keras\n",
    "\n",
    "print(tf.__version__)\n",
    "print(keras.__version__)\n",
    "\n",
    "import segmentation_models_3D as sm\n",
    "\n",
    "sys.path.append('/path/to/2014_07_13_test')\n",
    "import generate_input"
   ]
  },
  {
   "cell_type": "code",
   "execution_count": 2,
   "id": "6031fd47",
   "metadata": {},
   "outputs": [],
   "source": [
    "import nibabel as nib\n",
    "from matplotlib import pyplot as plt\n",
    "\n",
    "import torch\n",
    "\n",
    "import keras\n",
    "from keras.models import load_model\n",
    "from keras.models import Model\n",
    "from keras.layers import Input, Conv3D, MaxPooling3D, concatenate, Conv3DTranspose, BatchNormalization, Dropout, Lambda, LeakyReLU\n",
    "from keras.optimizers import Adam\n",
    "from keras.metrics import MeanIoU\n",
    "\n",
    "from keras.callbacks import ModelCheckpoint, LearningRateScheduler, EarlyStopping, ReduceLROnPlateau\n",
    "\n",
    "import segmentation_models_3D as sm\n"
   ]
  },
  {
   "cell_type": "code",
   "execution_count": 3,
   "id": "018b79fd",
   "metadata": {},
   "outputs": [],
   "source": [
    "#!ls './preprocessed-data/images/'\n",
    "#!ls './preprocessed-data/masks/'"
   ]
  },
  {
   "cell_type": "code",
   "execution_count": 4,
   "id": "f20eba4e",
   "metadata": {},
   "outputs": [],
   "source": [
    "#ct_nii = np.load('./preprocessed-data/masks/case_00011.npy')\n",
    "#print(ct_nii.shape)\n",
    "#print(np.unique(ct_nii))\n",
    "#test = ct_nii[12,:,:]\n",
    "#plt.imshow(test)"
   ]
  },
  {
   "cell_type": "code",
   "execution_count": 5,
   "id": "b34cfc98",
   "metadata": {},
   "outputs": [],
   "source": [
    "#ct_nii = nib.load('../kits21/kits21/data/case_00011/aggregated_AND_seg.nii.gz').get_fdata()\n",
    "#print(ct_nii.shape)\n",
    "#test = ct_nii[20,:,:]\n",
    "#plt.imshow(test)\n",
    "#print(np.unique(test))\n",
    "#print(type(np.unique(test)[0]))"
   ]
  },
  {
   "cell_type": "code",
   "execution_count": 6,
   "id": "501e6b54",
   "metadata": {},
   "outputs": [
    {
     "name": "stdout",
     "output_type": "stream",
     "text": [
      "(27, 128, 128)\n",
      "[0. 1. 2. 3.]\n"
     ]
    },
    {
     "data": {
      "text/plain": [
       "<matplotlib.image.AxesImage at 0x1662462f0>"
      ]
     },
     "execution_count": 6,
     "metadata": {},
     "output_type": "execute_result"
    },
    {
     "data": {
      "image/png": "[encoded data removed]",
      "text/plain": [
       "<Figure size 640x480 with 1 Axes>"
      ]
     },
     "metadata": {},
     "output_type": "display_data"
    }
   ],
   "source": [
    "ct_nii = np.load('./preprocessed-data/masks/case_00179.npy')\n",
    "print(ct_nii.shape)\n",
    "print(np.unique(ct_nii))\n",
    "test = ct_nii[12,:,:]\n",
    "plt.imshow(test)"
   ]
  },
  {
   "cell_type": "markdown",
   "id": "c83ad86d",
   "metadata": {},
   "source": [
    "## Load data"
   ]
  },
  {
   "cell_type": "code",
   "execution_count": 7,
   "id": "25aec35b",
   "metadata": {},
   "outputs": [],
   "source": [
    "def fill_3D_set(case_ids, image_dictionary, mask_dictionary):\n",
    "    img_list, mask_list = [], []\n",
    "    \n",
    "    for idx, c in enumerate(case_ids):\n",
    "        img_list.append(np.expand_dims(image_dictionary[c].T, axis=0).T)\n",
    "        mask_list.append(np.expand_dims(mask_dictionary[c].T, axis=0).T)\n",
    "        \n",
    "        x_array, y_array = np.asarray(img_list).astype(np.float64), np.asarray(mask_list).astype(np.float64)\n",
    "    \n",
    "    return x_array, y_array"
   ]
  },
  {
   "cell_type": "code",
   "execution_count": 8,
   "id": "9d63b451",
   "metadata": {},
   "outputs": [],
   "source": [
    "def crop_image_stack(img_dict, mask_dict, num_slices):\n",
    "    \n",
    "    for case_id in img_dict.keys():\n",
    "        stack_size = img_dict[case_id].shape[0]\n",
    "        bot_slice, top_slice = math.ceil((stack_size/2)-(num_slices/2)), math.ceil((stack_size/2)+(num_slices/2))\n",
    "        #print(stack_size, bot_slice, top_slice)\n",
    "        img_dict[case_id] = img_dict[case_id][bot_slice:top_slice, :, :]\n",
    "        mask_dict[case_id] = mask_dict[case_id][bot_slice:top_slice, :, :]\n",
    "        \n",
    "    return img_dict, mask_dict"
   ]
  },
  {
   "cell_type": "code",
   "execution_count": 9,
   "id": "658919c7",
   "metadata": {},
   "outputs": [],
   "source": [
    "def resize_image_stack_and_flip(img_dict, mask_dict):\n",
    "    \n",
    "    for case_id in img_dict.keys():\n",
    "    \n",
    "        diff = img_dict[case_id].shape[1] - img_dict[case_id].shape[0]\n",
    "        l, h = math.ceil(diff/2), math.floor(diff/2)\n",
    "\n",
    "        if h==0:\n",
    "            print('yo', case_id, img_dict[case_id].shape, mask_dict[case_id].shape)\n",
    "            empty_array = np.zeros([img_dict[case_id].shape[1], img_dict[case_id].shape[2]])\n",
    "            front_padding = np.array([empty_array]*l)\n",
    "            resized_img = np.concatenate((front_padding, img_dict[case_id]))\n",
    "            resized_mask = np.concatenate((front_padding, mask_dict[case_id]))\n",
    "            \n",
    "        elif img_dict[case_id].shape[0] < img_dict[case_id].shape[1]:\n",
    "            #print('padding image stack from {0} to {1}'.format(img_dict[case_id].shape[0], img_dict[case_id].shape[1]))\n",
    "            empty_array = np.zeros([img_dict[case_id].shape[1], img_dict[case_id].shape[2]])\n",
    "            front_padding, back_padding = np.array([empty_array]*l), np.array([empty_array]*h)\n",
    "            resized_img = np.concatenate((front_padding, img_dict[case_id]))\n",
    "            resized_img = np.concatenate((resized_img,back_padding))\n",
    "            resized_mask = np.concatenate((front_padding, mask_dict[case_id]))\n",
    "            resized_mask = np.concatenate((resized_mask,back_padding))\n",
    "        \n",
    "        elif img_dict[case_id].shape[0] >= img_dict[case_id].shape[1]:\n",
    "            resized_img = img_dict[case_id][-l:h].copy()\n",
    "            resized_mask = mask_dict[case_id][-l:h].copy()\n",
    "\n",
    "        img_dict[case_id] = resized_img\n",
    "        mask_dict[case_id] = resized_mask\n",
    "        #print('after padding:', img_dict[case_id].shape)\n",
    "        #xz_slice = data[:, data.shape[1] // 2 - 1, :]\n",
    "        #zx_slice = resized_img[:, :, resized_img.shape[-1] // 2 - 1]\n",
    "        \n",
    "    return img_dict, mask_dict"
   ]
  },
  {
   "cell_type": "code",
   "execution_count": 10,
   "id": "d7946c8c",
   "metadata": {},
   "outputs": [],
   "source": [
    "#ct_nii = nib.load('../kits21/kits21/data/case_00150/aggregated_MAJ_seg.nii.gz').get_fdata()\n",
    "#print(ct_nii.shape)\n",
    "#test = ct_nii[50,:,:]\n",
    "#print(np.max(test))\n",
    "#print(np.unique(test))\n",
    "#plt.imshow(test)"
   ]
  },
  {
   "cell_type": "code",
   "execution_count": 11,
   "id": "57343603",
   "metadata": {},
   "outputs": [],
   "source": [
    "#ct_nii = nib.load('../kits21/kits21/data/case_00200/aggregated_MAJ_seg.nii.gz').get_fdata()\n",
    "#print(ct_nii.shape)\n",
    "#test = ct_nii[40,:,:]\n",
    "#print(np.max(test))\n",
    "#print(np.unique(test))\n",
    "#plt.imshow(test)"
   ]
  },
  {
   "cell_type": "code",
   "execution_count": 12,
   "id": "95ac96cc",
   "metadata": {},
   "outputs": [],
   "source": [
    "#ct_nii = nib.load('../kits21/kits21/data/case_00150/aggregated_MAJ_seg.nii.gz').get_fdata()\n",
    "#print(ct_nii.shape)\n",
    "#test = ct_nii[40,:,:]\n",
    "#print(np.max(test))\n",
    "#print(np.unique(test))\n",
    "#plt.imshow(test)"
   ]
  },
  {
   "cell_type": "markdown",
   "id": "46ba26bf",
   "metadata": {},
   "source": [
    "# DATA PREPARATION"
   ]
  },
  {
   "cell_type": "code",
   "execution_count": 13,
   "id": "840b9acd",
   "metadata": {},
   "outputs": [
    {
     "name": "stdout",
     "output_type": "stream",
     "text": [
      "Number of labels in labels_dict:  300\n",
      "Generated list of 40 case IDs of 275 positive and 25 negative labels\n",
      "Are image and mask path list the same lenght?:  True\n",
      "Are image and mask dictionaries the same lenght?: True\n",
      "resized images and masks: (128, 128, 128) (128, 128, 128)\n",
      "Are cases and labels lists the same length?:  True 40 40\n",
      "Generated training, validation and test with 20, 10 and 10 cases.\n",
      "Are training set and labels lists the same length?:  True 20 20\n",
      "Are training imageas and masks same length?:  True 20 20\n"
     ]
    }
   ],
   "source": [
    "json_path = '../kits21/kits21/data/kits.json'\n",
    "n_samples = 40\n",
    "neg_pct = 50\n",
    "rootdir = './preprocessed-data/'\n",
    "img_dir = 'images'\n",
    "mask_dir = 'masks'\n",
    "val_split = 10\n",
    "test_split = 10\n",
    "\n",
    "#------------- Generate dictionary of case_id and binary malignant label --------\n",
    "labels_dict = generate_input.malignant_labels_to_dict(json_path)\n",
    "print('Number of labels in labels_dict: ', len(labels_dict))\n",
    "\n",
    "#------------- Sample n instances from labels_dict with all possible negative cases --------\n",
    "subsample_list = generate_input.generate_subsample_id_list(n_samples, neg_pct, labels_dict)\n",
    "\n",
    "#------------- Generate list of paths to preprocessed images --------\n",
    "\n",
    "image_paths_list = generate_input.processed_image_paths(rootdir, img_dir)\n",
    "mask_paths_list = generate_input.processed_image_paths(rootdir, mask_dir)\n",
    "print('Are image and mask path list the same lenght?: ', len(image_paths_list) == len(mask_paths_list))\n",
    "\n",
    "#------------- Load images and masks filtered by subsample --------\n",
    "image_dict = generate_input.load_nifti_img_and_mask_as_numpy(image_paths_list, subsample_list)\n",
    "mask_dict = generate_input.load_nifti_img_and_mask_as_numpy(mask_paths_list, subsample_list)\n",
    "print('Are image and mask dictionaries the same lenght?:', len(image_dict) == len(mask_dict))\n",
    "\n",
    "#image_dict, mask_dict = crop_image_stack(image_dict, mask_dict, 20)\n",
    "\n",
    "image_dict, mask_dict = resize_image_stack_and_flip(image_dict, mask_dict)\n",
    "print('resized images and masks:', image_dict[subsample_list[0]].shape, mask_dict[subsample_list[0]].shape)\n",
    "\n",
    "#--------------- flatten case and labels dictionary for split ---------------\n",
    "cases = subsample_list\n",
    "labels = [labels_dict[x] for x in cases]\n",
    "print(\"Are cases and labels lists the same length?: \", len(cases) == len(labels), len(cases), len(labels))\n",
    "\n",
    "#--------------- split training, validation and test set on patient/case level ---------------\n",
    "id_train, labels_train, id_val, labels_val, id_test, labels_test = generate_input.split_sets(cases, labels, val_split, test_split)\n",
    "\n",
    "x_train, mask_train = fill_3D_set(id_train, image_dict, mask_dict)\n",
    "x_val, mask_val = fill_3D_set(id_val, image_dict, mask_dict)\n",
    "x_test, mask_test = fill_3D_set(id_test, image_dict, mask_dict)\n",
    "    \n",
    "print(\"Are training set and labels lists the same length?: \", len(x_train) == len(mask_train), len(x_train), len(mask_train))\n",
    "print(\"Are training imageas and masks same length?: \", len(mask_train) == len(x_train), len(mask_train), len(x_train))"
   ]
  },
  {
   "cell_type": "code",
   "execution_count": 14,
   "id": "cd7cc896",
   "metadata": {},
   "outputs": [
    {
     "name": "stdout",
     "output_type": "stream",
     "text": [
      "<class 'numpy.ndarray'> (20, 128, 128, 128, 1) <class 'numpy.ndarray'> (20, 128, 128, 128, 1) (128, 128, 128, 1)\n",
      "[0. 1. 2.] (20, 128, 128, 128, 1)\n"
     ]
    }
   ],
   "source": [
    "print(type(x_train), x_train.shape, type(mask_train),  mask_train.shape, mask_train[0].shape)\n",
    "print(np.unique(mask_train[0]), mask_train.shape)"
   ]
  },
  {
   "cell_type": "code",
   "execution_count": 15,
   "id": "78386f22",
   "metadata": {},
   "outputs": [
    {
     "name": "stdout",
     "output_type": "stream",
     "text": [
      "0 <class 'numpy.int64'> [0 1]\n"
     ]
    }
   ],
   "source": [
    "mask_train = np.where(mask_train > 0.0, 1, 0)\n",
    "mask_val = np.where(mask_val > 0.0, 1, 0)\n",
    "mask_test = np.where(mask_test > 0.0, 1, 0)\n",
    "\n",
    "print(mask_train[0][0][0][0][0], type(mask_train[0][0][0][0][0]), np.unique(mask_train))"
   ]
  },
  {
   "cell_type": "code",
   "execution_count": 16,
   "id": "e8336193",
   "metadata": {},
   "outputs": [
    {
     "data": {
      "text/plain": [
       "<matplotlib.image.AxesImage at 0x1663ec610>"
      ]
     },
     "execution_count": 16,
     "metadata": {},
     "output_type": "execute_result"
    },
    {
     "data": {
      "image/png": "[encoded data removed]",
      "text/plain": [
       "<Figure size 640x480 with 1 Axes>"
      ]
     },
     "metadata": {},
     "output_type": "display_data"
    }
   ],
   "source": [
    "test = x_train[4][64,:,:]\n",
    "plt.imshow(test)"
   ]
  },
  {
   "cell_type": "code",
   "execution_count": 17,
   "id": "ab481507",
   "metadata": {},
   "outputs": [
    {
     "name": "stdout",
     "output_type": "stream",
     "text": [
      "[0 1]\n"
     ]
    },
    {
     "data": {
      "image/png": "[encoded data removed]",
      "text/plain": [
       "<Figure size 640x480 with 1 Axes>"
      ]
     },
     "metadata": {},
     "output_type": "display_data"
    }
   ],
   "source": [
    "test = mask_train[4][64,:,:]\n",
    "plt.imshow(test)\n",
    "print(np.unique(test))"
   ]
  },
  {
   "cell_type": "markdown",
   "id": "cad49aed",
   "metadata": {},
   "source": [
    "# Data generator"
   ]
  },
  {
   "cell_type": "code",
   "execution_count": 18,
   "id": "76500948",
   "metadata": {},
   "outputs": [],
   "source": [
    "#import pandas as pd\n",
    "#columns = ['0','1', '2', '3']\n",
    "#df = pd.DataFrame(columns=columns)\n",
    "#for img in range(len(mask_train)):\n",
    "#    #print(img)\n",
    "#    temp_image = np.argmax(mask_train[img], axis=3)\n",
    "#    val, counts = np.unique(temp_image, return_counts=True)\n",
    "#    zipped = zip(columns, counts)\n",
    "#    conts_dict = dict(zipped)\n",
    "    \n",
    "#    df = df.append(conts_dict, ignore_index=True)\n",
    "\n",
    "#label_0 = df['0'].sum()\n",
    "#label_1 = df['1'].sum()\n",
    "#label_2 = df['1'].sum()\n",
    "#label_3 = df['3'].sum()\n",
    "#total_labels = label_0 + label_1 + label_2 + label_3\n",
    "\n",
    "#n_classes = 4\n",
    "#Class weights claculation: n_samples / (n_classes * n_samples_for_class)\n",
    "#wt0 = round((total_labels/(n_classes*label_0)), 2) #round to 2 decimals\n",
    "#wt1 = round((total_labels/(n_classes*label_1)), 2)\n",
    "#wt2 = round((total_labels/(n_classes*label_2)), 2)\n",
    "#wt3 = round((total_labels/(n_classes*label_3)), 2)\n",
    "\n",
    "#print(wt0, wt1, wt2, wt3)"
   ]
  },
  {
   "cell_type": "code",
   "execution_count": 19,
   "id": "e6526791",
   "metadata": {},
   "outputs": [],
   "source": [
    "def imageLoader(img_list, mask_list, batch_size):\n",
    "\n",
    "    L = len(img_list)\n",
    "\n",
    "    #keras needs the generator infinite, so we will use while true  \n",
    "    while True:\n",
    "\n",
    "        batch_start = 0\n",
    "        batch_end = batch_size\n",
    "\n",
    "        while batch_start < L:\n",
    "            limit = min(batch_end, L)\n",
    "                       \n",
    "            X = img_list[batch_start:limit]\n",
    "            Y = mask_list[batch_start:limit]\n",
    "\n",
    "            yield (X,Y) #a tuple with two numpy arrays with batch_size samples     \n",
    "\n",
    "            batch_start += batch_size   \n",
    "            batch_end += batch_size\n"
   ]
  },
  {
   "cell_type": "code",
   "execution_count": 20,
   "id": "ce7d0c52",
   "metadata": {},
   "outputs": [
    {
     "name": "stdout",
     "output_type": "stream",
     "text": [
      "(20, 128, 128, 128, 1)\n",
      "(20, 128, 128, 128, 1)\n",
      "Metal device set to: Apple M1\n"
     ]
    },
    {
     "name": "stderr",
     "output_type": "stream",
     "text": [
      "2023-05-04 21:38:21.632239: I tensorflow/core/common_runtime/pluggable_device/pluggable_device_factory.cc:305] Could not identify NUMA node of platform GPU ID 0, defaulting to 0. Your kernel may not have been built with NUMA support.\n",
      "2023-05-04 21:38:21.632697: I tensorflow/core/common_runtime/pluggable_device/pluggable_device_factory.cc:271] Created TensorFlow device (/job:localhost/replica:0/task:0/device:GPU:0 with 0 MB memory) -> physical PluggableDevice (device: 0, name: METAL, pci bus id: <undefined>)\n"
     ]
    },
    {
     "name": "stdout",
     "output_type": "stream",
     "text": [
      "<class 'tensorflow.python.framework.ops.EagerTensor'> (20, 128, 128, 128, 1)\n",
      "(20, 128, 128, 128, 1) (20, 128, 128, 128, 1)\n"
     ]
    },
    {
     "data": {
      "text/plain": [
       "<matplotlib.image.AxesImage at 0x1664cab00>"
      ]
     },
     "execution_count": 20,
     "metadata": {},
     "output_type": "execute_result"
    },
    {
     "data": {
      "image/png": "[encoded data removed]",
      "text/plain": [
       "<Figure size 640x480 with 1 Axes>"
      ]
     },
     "metadata": {},
     "output_type": "display_data"
    }
   ],
   "source": [
    "print(mask_train.shape)\n",
    "\n",
    "#x_train, mask_train = torch.from_numpy(x_train), torch.from_numpy(mask_train[:,:,:,:,0].astype(int))\n",
    "#x_val, mask_val = torch.from_numpy(x_val), torch.from_numpy(mask_val[:,:,:,:,0].astype(int))\n",
    "#x_test, mask_test = torch.from_numpy(x_test), torch.from_numpy(mask_test[:,:,:,:,0].astype(int))\n",
    "\n",
    "print(mask_train.shape)\n",
    "\n",
    "#one hot encoding of index category masks to create binary channel for each class (background, kdiney, cyst, tumor) \n",
    "#mask_train, mask_val, mask_test = torch.nn.functional.one_hot(mask_train), torch.nn.functional.one_hot(mask_val), torch.nn.functional.one_hot(mask_test)\n",
    "\n",
    "a = tf.convert_to_tensor(mask_train)\n",
    "x_train, mask_train = tf.convert_to_tensor(x_train, dtype=float), tf.convert_to_tensor(mask_train, dtype=float)\n",
    "x_val, mask_val = tf.convert_to_tensor(x_val, dtype=float), tf.convert_to_tensor(mask_val, dtype=float)\n",
    "x_test, mask_test = tf.convert_to_tensor(x_test, dtype=float), tf.convert_to_tensor(mask_test, dtype=float)\n",
    "\n",
    "print(type(a), a.shape)\n",
    "\n",
    "#x_train, mask_train = tf.cast(x_train, tf.float32), tf.cast(mask_train, tf.float32)\n",
    "#x_val, mask_val = tf.cast(x_val, tf.float32), tf.cast(mask_val, tf.float32)\n",
    "#x_test, mask_test = tf.cast(x_test, tf.float32), tf.cast(mask_test, tf.float32)\n",
    "\n",
    "print(x_train.shape, mask_train.shape)\n",
    "plt.imshow(a[4][64,:,:])"
   ]
  },
  {
   "cell_type": "code",
   "execution_count": 21,
   "id": "28521c75",
   "metadata": {},
   "outputs": [],
   "source": [
    "batch_size = 5\n",
    "\n",
    "train_img_datagen = imageLoader(x_train, mask_train, batch_size)\n",
    "val_img_datagen = imageLoader(x_val, mask_val, batch_size)\n",
    "\n",
    "#Verify generator\n",
    "#img, msk = train_img_datagen.__next__()\n",
    "#print(img.shape, msk.shape)\n",
    "\n",
    "#img_num = random.randint(0,(img.shape[0]-1))\n",
    "#test_img = img[img_num]\n",
    "#test_mask = msk[img_num]\n",
    "\n",
    "#n_slice = math.ceil(test_mask.shape[0]/2)\n",
    "#print(test_img.shape, img_num, n_slice)"
   ]
  },
  {
   "cell_type": "markdown",
   "id": "46d79506",
   "metadata": {},
   "source": [
    "# SEGMENTATION"
   ]
  },
  {
   "cell_type": "markdown",
   "id": "fdcd8471",
   "metadata": {},
   "source": [
    "## Defining Model"
   ]
  },
  {
   "cell_type": "code",
   "execution_count": 28,
   "id": "d6900ed9",
   "metadata": {},
   "outputs": [],
   "source": [
    "kernel_initializer =  'he_uniform'\n",
    "\n",
    "################################################################\n",
    "def simple_unet_model(IMG_HEIGHT, IMG_WIDTH, IMG_DEPTH, IMG_CHANNELS, num_classes):\n",
    "#Build the model\n",
    "    inputs = Input((IMG_HEIGHT, IMG_WIDTH, IMG_DEPTH, IMG_CHANNELS))\n",
    "    s = inputs\n",
    "\n",
    "    #Contraction path\n",
    "    c1 = Conv3D(16, (3, 3, 3), kernel_initializer=kernel_initializer, padding='same', dtype='float32')(s)\n",
    "    c1 = LeakyReLU(0.2)(c1)\n",
    "    c1 = Dropout(0.1)(c1)\n",
    "    c1 = Conv3D(16, (3, 3, 3), kernel_initializer=kernel_initializer, padding='same')(c1)\n",
    "    c1 = LeakyReLU(0.2)(c1)\n",
    "    \n",
    "    p1 = MaxPooling3D((2, 2, 2))(c1)\n",
    "    \n",
    "    c2 = Conv3D(32, (3, 3, 3), kernel_initializer=kernel_initializer, padding='same')(p1)\n",
    "    c2 = LeakyReLU(0.2)(c2)\n",
    "    c2 = Dropout(0.1)(c2)\n",
    "    c2 = Conv3D(32, (3, 3, 3), kernel_initializer=kernel_initializer, padding='same')(c2)\n",
    "    c2 = LeakyReLU(0.2)(c2)\n",
    "    \n",
    "    p2 = MaxPooling3D((2, 2, 2))(c2)\n",
    "     \n",
    "    c3 = Conv3D(64, (3, 3, 3), kernel_initializer=kernel_initializer, padding='same')(p2)\n",
    "    c3 = LeakyReLU(0.2)(c3)\n",
    "    c3 = Dropout(0.2)(c3)\n",
    "    c3 = Conv3D(64, (3, 3, 3), kernel_initializer=kernel_initializer, padding='same')(c3)\n",
    "    c3 = LeakyReLU(0.2)(c3)\n",
    "    \n",
    "    p3 = MaxPooling3D((2, 2, 2))(c3)\n",
    "     \n",
    "    c4 = Conv3D(128, (3, 3, 3), kernel_initializer=kernel_initializer, padding='same')(p3)\n",
    "    c4 = LeakyReLU(0.2)(c4)\n",
    "    c4 = Dropout(0.2)(c4)\n",
    "    c4 = Conv3D(128, (3, 3, 3), kernel_initializer=kernel_initializer, padding='same')(c4)\n",
    "    c4 = LeakyReLU(0.2)(c4)\n",
    "    \n",
    "    p4 = MaxPooling3D(pool_size=(2, 2, 2))(c4)\n",
    "     \n",
    "    c5 = Conv3D(256, (3, 3, 3), kernel_initializer=kernel_initializer, padding='same')(p4)\n",
    "    c5 = LeakyReLU(0.2)(c5)\n",
    "    c5 = Dropout(0.3)(c5)\n",
    "    c5 = Conv3D(256, (3, 3, 3), kernel_initializer=kernel_initializer, padding='same')(c5)\n",
    "    c5 = LeakyReLU(0.2)(c5)\n",
    "    \n",
    "    #Expansive path \n",
    "    u6 = Conv3DTranspose(128, (2, 2, 2), strides=(2, 2, 2), padding='same')(c5)\n",
    "    u6 = concatenate([u6, c4])\n",
    "    c6 = Conv3D(128, (3, 3, 3), kernel_initializer=kernel_initializer, padding='same')(u6)\n",
    "    c6 = LeakyReLU(0.2)(c6)\n",
    "    c6 = Dropout(0.2)(c6)\n",
    "    c6 = Conv3D(128, (3, 3, 3), kernel_initializer=kernel_initializer, padding='same')(c6)\n",
    "    c6 = LeakyReLU(0.2)(c6)\n",
    "     \n",
    "    u7 = Conv3DTranspose(64, (2, 2, 2), strides=(2, 2, 2), padding='same')(c6)\n",
    "    u7 = concatenate([u7, c3])\n",
    "    c7 = Conv3D(64, (3, 3, 3), kernel_initializer=kernel_initializer, padding='same')(u7)\n",
    "    c7 = LeakyReLU(0.2)(c7)\n",
    "    c7 = Dropout(0.2)(c7)\n",
    "    c7 = Conv3D(64, (3, 3, 3), kernel_initializer=kernel_initializer, padding='same')(c7)\n",
    "    c7 = LeakyReLU(0.2)(c7)\n",
    "     \n",
    "    u8 = Conv3DTranspose(32, (2, 2, 2), strides=(2, 2, 2), padding='same')(c7)\n",
    "    u8 = concatenate([u8, c2])\n",
    "    c8 = Conv3D(32, (3, 3, 3), kernel_initializer=kernel_initializer, padding='same')(u8)\n",
    "    c8 = LeakyReLU(0.2)(c8)\n",
    "    c8 = Dropout(0.1)(c8)\n",
    "    c8 = Conv3D(32, (3, 3, 3), kernel_initializer=kernel_initializer, padding='same')(c8)\n",
    "    c8 = LeakyReLU(0.2)(c8)\n",
    "     \n",
    "    u9 = Conv3DTranspose(16, (2, 2, 2), strides=(2, 2, 2), padding='same')(c8)\n",
    "    u9 = concatenate([u9, c1])\n",
    "    c9 = Conv3D(16, (3, 3, 3), kernel_initializer=kernel_initializer, padding='same')(u9)\n",
    "    c9 = LeakyReLU(0.2)(c9)\n",
    "    c9 = Dropout(0.1)(c9)\n",
    "    c9 = Conv3D(16, (3, 3, 3), kernel_initializer=kernel_initializer, padding='same')(c9)\n",
    "    c9 = LeakyReLU(0.2)(c9)\n",
    "     \n",
    "    outputs = Conv3D(num_classes, (1, 1, 1), activation='sigmoid')(c9)\n",
    "     \n",
    "    model = Model(inputs=[inputs], outputs=[outputs])\n",
    "    model.summary()\n",
    "    \n",
    "    return model"
   ]
  },
  {
   "cell_type": "code",
   "execution_count": 29,
   "id": "241e8336",
   "metadata": {},
   "outputs": [
    {
     "name": "stdout",
     "output_type": "stream",
     "text": [
      "Model: \"model\"\n",
      "__________________________________________________________________________________________________\n",
      " Layer (type)                   Output Shape         Param #     Connected to                     \n",
      "==================================================================================================\n",
      " input_1 (InputLayer)           [(None, 128, 128, 1  0           []                               \n",
      "                                28, 1)]                                                           \n",
      "                                                                                                  \n",
      " conv3d (Conv3D)                (None, 128, 128, 12  448         ['input_1[0][0]']                \n",
      "                                8, 16)                                                            \n",
      "                                                                                                  \n",
      " leaky_re_lu (LeakyReLU)        (None, 128, 128, 12  0           ['conv3d[0][0]']                 \n",
      "                                8, 16)                                                            \n",
      "                                                                                                  \n",
      " dropout (Dropout)              (None, 128, 128, 12  0           ['leaky_re_lu[0][0]']            \n",
      "                                8, 16)                                                            \n",
      "                                                                                                  \n",
      " conv3d_1 (Conv3D)              (None, 128, 128, 12  6928        ['dropout[0][0]']                \n",
      "                                8, 16)                                                            \n",
      "                                                                                                  \n",
      " leaky_re_lu_1 (LeakyReLU)      (None, 128, 128, 12  0           ['conv3d_1[0][0]']               \n",
      "                                8, 16)                                                            \n",
      "                                                                                                  \n",
      " max_pooling3d (MaxPooling3D)   (None, 64, 64, 64,   0           ['leaky_re_lu_1[0][0]']          \n",
      "                                16)                                                               \n",
      "                                                                                                  \n",
      " conv3d_2 (Conv3D)              (None, 64, 64, 64,   13856       ['max_pooling3d[0][0]']          \n",
      "                                32)                                                               \n",
      "                                                                                                  \n",
      " leaky_re_lu_2 (LeakyReLU)      (None, 64, 64, 64,   0           ['conv3d_2[0][0]']               \n",
      "                                32)                                                               \n",
      "                                                                                                  \n",
      " dropout_1 (Dropout)            (None, 64, 64, 64,   0           ['leaky_re_lu_2[0][0]']          \n",
      "                                32)                                                               \n",
      "                                                                                                  \n",
      " conv3d_3 (Conv3D)              (None, 64, 64, 64,   27680       ['dropout_1[0][0]']              \n",
      "                                32)                                                               \n",
      "                                                                                                  \n",
      " leaky_re_lu_3 (LeakyReLU)      (None, 64, 64, 64,   0           ['conv3d_3[0][0]']               \n",
      "                                32)                                                               \n",
      "                                                                                                  \n",
      " max_pooling3d_1 (MaxPooling3D)  (None, 32, 32, 32,   0          ['leaky_re_lu_3[0][0]']          \n",
      "                                32)                                                               \n",
      "                                                                                                  \n",
      " conv3d_4 (Conv3D)              (None, 32, 32, 32,   55360       ['max_pooling3d_1[0][0]']        \n",
      "                                64)                                                               \n",
      "                                                                                                  \n",
      " leaky_re_lu_4 (LeakyReLU)      (None, 32, 32, 32,   0           ['conv3d_4[0][0]']               \n",
      "                                64)                                                               \n",
      "                                                                                                  \n",
      " dropout_2 (Dropout)            (None, 32, 32, 32,   0           ['leaky_re_lu_4[0][0]']          \n",
      "                                64)                                                               \n",
      "                                                                                                  \n",
      " conv3d_5 (Conv3D)              (None, 32, 32, 32,   110656      ['dropout_2[0][0]']              \n",
      "                                64)                                                               \n",
      "                                                                                                  \n",
      " leaky_re_lu_5 (LeakyReLU)      (None, 32, 32, 32,   0           ['conv3d_5[0][0]']               \n",
      "                                64)                                                               \n",
      "                                                                                                  \n",
      " max_pooling3d_2 (MaxPooling3D)  (None, 16, 16, 16,   0          ['leaky_re_lu_5[0][0]']          \n",
      "                                64)                                                               \n",
      "                                                                                                  \n",
      " conv3d_6 (Conv3D)              (None, 16, 16, 16,   221312      ['max_pooling3d_2[0][0]']        \n",
      "                                128)                                                              \n",
      "                                                                                                  \n",
      " leaky_re_lu_6 (LeakyReLU)      (None, 16, 16, 16,   0           ['conv3d_6[0][0]']               \n",
      "                                128)                                                              \n",
      "                                                                                                  \n",
      " dropout_3 (Dropout)            (None, 16, 16, 16,   0           ['leaky_re_lu_6[0][0]']          \n",
      "                                128)                                                              \n",
      "                                                                                                  \n",
      " conv3d_7 (Conv3D)              (None, 16, 16, 16,   442496      ['dropout_3[0][0]']              \n",
      "                                128)                                                              \n",
      "                                                                                                  \n",
      " leaky_re_lu_7 (LeakyReLU)      (None, 16, 16, 16,   0           ['conv3d_7[0][0]']               \n",
      "                                128)                                                              \n",
      "                                                                                                  \n",
      " max_pooling3d_3 (MaxPooling3D)  (None, 8, 8, 8, 128  0          ['leaky_re_lu_7[0][0]']          \n",
      "                                )                                                                 \n",
      "                                                                                                  \n",
      " conv3d_8 (Conv3D)              (None, 8, 8, 8, 256  884992      ['max_pooling3d_3[0][0]']        \n",
      "                                )                                                                 \n",
      "                                                                                                  \n",
      " leaky_re_lu_8 (LeakyReLU)      (None, 8, 8, 8, 256  0           ['conv3d_8[0][0]']               \n",
      "                                )                                                                 \n"
     ]
    },
    {
     "name": "stdout",
     "output_type": "stream",
     "text": [
      "                                                                                                  \n",
      " dropout_4 (Dropout)            (None, 8, 8, 8, 256  0           ['leaky_re_lu_8[0][0]']          \n",
      "                                )                                                                 \n",
      "                                                                                                  \n",
      " conv3d_9 (Conv3D)              (None, 8, 8, 8, 256  1769728     ['dropout_4[0][0]']              \n",
      "                                )                                                                 \n",
      "                                                                                                  \n",
      " leaky_re_lu_9 (LeakyReLU)      (None, 8, 8, 8, 256  0           ['conv3d_9[0][0]']               \n",
      "                                )                                                                 \n",
      "                                                                                                  \n",
      " conv3d_transpose (Conv3DTransp  (None, 16, 16, 16,   262272     ['leaky_re_lu_9[0][0]']          \n",
      " ose)                           128)                                                              \n",
      "                                                                                                  \n",
      " concatenate (Concatenate)      (None, 16, 16, 16,   0           ['conv3d_transpose[0][0]',       \n",
      "                                256)                              'leaky_re_lu_7[0][0]']          \n",
      "                                                                                                  \n",
      " conv3d_10 (Conv3D)             (None, 16, 16, 16,   884864      ['concatenate[0][0]']            \n",
      "                                128)                                                              \n",
      "                                                                                                  \n",
      " leaky_re_lu_10 (LeakyReLU)     (None, 16, 16, 16,   0           ['conv3d_10[0][0]']              \n",
      "                                128)                                                              \n",
      "                                                                                                  \n",
      " dropout_5 (Dropout)            (None, 16, 16, 16,   0           ['leaky_re_lu_10[0][0]']         \n",
      "                                128)                                                              \n",
      "                                                                                                  \n",
      " conv3d_11 (Conv3D)             (None, 16, 16, 16,   442496      ['dropout_5[0][0]']              \n",
      "                                128)                                                              \n",
      "                                                                                                  \n",
      " leaky_re_lu_11 (LeakyReLU)     (None, 16, 16, 16,   0           ['conv3d_11[0][0]']              \n",
      "                                128)                                                              \n",
      "                                                                                                  \n",
      " conv3d_transpose_1 (Conv3DTran  (None, 32, 32, 32,   65600      ['leaky_re_lu_11[0][0]']         \n",
      " spose)                         64)                                                               \n",
      "                                                                                                  \n",
      " concatenate_1 (Concatenate)    (None, 32, 32, 32,   0           ['conv3d_transpose_1[0][0]',     \n",
      "                                128)                              'leaky_re_lu_5[0][0]']          \n",
      "                                                                                                  \n",
      " conv3d_12 (Conv3D)             (None, 32, 32, 32,   221248      ['concatenate_1[0][0]']          \n",
      "                                64)                                                               \n",
      "                                                                                                  \n",
      " leaky_re_lu_12 (LeakyReLU)     (None, 32, 32, 32,   0           ['conv3d_12[0][0]']              \n",
      "                                64)                                                               \n",
      "                                                                                                  \n",
      " dropout_6 (Dropout)            (None, 32, 32, 32,   0           ['leaky_re_lu_12[0][0]']         \n",
      "                                64)                                                               \n",
      "                                                                                                  \n",
      " conv3d_13 (Conv3D)             (None, 32, 32, 32,   110656      ['dropout_6[0][0]']              \n",
      "                                64)                                                               \n",
      "                                                                                                  \n",
      " leaky_re_lu_13 (LeakyReLU)     (None, 32, 32, 32,   0           ['conv3d_13[0][0]']              \n",
      "                                64)                                                               \n",
      "                                                                                                  \n",
      " conv3d_transpose_2 (Conv3DTran  (None, 64, 64, 64,   16416      ['leaky_re_lu_13[0][0]']         \n",
      " spose)                         32)                                                               \n",
      "                                                                                                  \n",
      " concatenate_2 (Concatenate)    (None, 64, 64, 64,   0           ['conv3d_transpose_2[0][0]',     \n",
      "                                64)                               'leaky_re_lu_3[0][0]']          \n",
      "                                                                                                  \n",
      " conv3d_14 (Conv3D)             (None, 64, 64, 64,   55328       ['concatenate_2[0][0]']          \n",
      "                                32)                                                               \n",
      "                                                                                                  \n",
      " leaky_re_lu_14 (LeakyReLU)     (None, 64, 64, 64,   0           ['conv3d_14[0][0]']              \n",
      "                                32)                                                               \n",
      "                                                                                                  \n",
      " dropout_7 (Dropout)            (None, 64, 64, 64,   0           ['leaky_re_lu_14[0][0]']         \n",
      "                                32)                                                               \n",
      "                                                                                                  \n",
      " conv3d_15 (Conv3D)             (None, 64, 64, 64,   27680       ['dropout_7[0][0]']              \n",
      "                                32)                                                               \n",
      "                                                                                                  \n",
      " leaky_re_lu_15 (LeakyReLU)     (None, 64, 64, 64,   0           ['conv3d_15[0][0]']              \n",
      "                                32)                                                               \n",
      "                                                                                                  \n",
      " conv3d_transpose_3 (Conv3DTran  (None, 128, 128, 12  4112       ['leaky_re_lu_15[0][0]']         \n",
      " spose)                         8, 16)                                                            \n",
      "                                                                                                  \n",
      " concatenate_3 (Concatenate)    (None, 128, 128, 12  0           ['conv3d_transpose_3[0][0]',     \n",
      "                                8, 32)                            'leaky_re_lu_1[0][0]']          \n",
      "                                                                                                  \n",
      " conv3d_16 (Conv3D)             (None, 128, 128, 12  13840       ['concatenate_3[0][0]']          \n",
      "                                8, 16)                                                            \n",
      "                                                                                                  \n",
      " leaky_re_lu_16 (LeakyReLU)     (None, 128, 128, 12  0           ['conv3d_16[0][0]']              \n"
     ]
    },
    {
     "name": "stdout",
     "output_type": "stream",
     "text": [
      "                                8, 16)                                                            \n",
      "                                                                                                  \n",
      " dropout_8 (Dropout)            (None, 128, 128, 12  0           ['leaky_re_lu_16[0][0]']         \n",
      "                                8, 16)                                                            \n",
      "                                                                                                  \n",
      " conv3d_17 (Conv3D)             (None, 128, 128, 12  6928        ['dropout_8[0][0]']              \n",
      "                                8, 16)                                                            \n",
      "                                                                                                  \n",
      " leaky_re_lu_17 (LeakyReLU)     (None, 128, 128, 12  0           ['conv3d_17[0][0]']              \n",
      "                                8, 16)                                                            \n",
      "                                                                                                  \n",
      " conv3d_18 (Conv3D)             (None, 128, 128, 12  17          ['leaky_re_lu_17[0][0]']         \n",
      "                                8, 1)                                                             \n",
      "                                                                                                  \n",
      "==================================================================================================\n",
      "Total params: 5,644,913\n",
      "Trainable params: 5,644,913\n",
      "Non-trainable params: 0\n",
      "__________________________________________________________________________________________________\n",
      "(None, 128, 128, 128, 1)\n",
      "(None, 128, 128, 128, 1)\n"
     ]
    }
   ],
   "source": [
    "#Test if everything is working\n",
    "model = simple_unet_model(128, 128, 128, 1, 1) #slices, height, width, channels, categories in mask\n",
    "print(model.input_shape)\n",
    "print(model.output_shape)"
   ]
  },
  {
   "cell_type": "markdown",
   "id": "ea3c6184",
   "metadata": {},
   "source": [
    "# Training"
   ]
  },
  {
   "cell_type": "markdown",
   "id": "ba906a33",
   "metadata": {},
   "source": [
    "### Define loss and metrics"
   ]
  },
  {
   "cell_type": "code",
   "execution_count": 30,
   "id": "c41c62b9",
   "metadata": {},
   "outputs": [],
   "source": [
    "import keras.backend as K\n",
    "\n",
    "def diceCoef(y_true, y_pred, smooth=1):\n",
    "    intersection = K.sum(y_true * y_pred, axis=[1,2,3])\n",
    "    union = K.sum(y_true, axis=[1,2,3]) + K.sum(y_pred, axis=[1,2,3])\n",
    "    return K.mean( (2. * intersection + smooth) / (union + smooth), axis=0)\n",
    "\n",
    "#def diceCoefLoss(y_true, y_pred):\n",
    "#    return (1-diceCoef(y_true, y_pred))\n",
    "\n",
    "def jaccardDistance(y_true, y_pred, smooth=1):\n",
    "    intersection = K.sum(K.abs(y_true * y_pred), axis=-1)\n",
    "    sum_ = K.sum(K.abs(y_true) + K.abs(y_pred), axis=-1)\n",
    "    jac = (intersection + smooth) / (sum_ - intersection + smooth)\n",
    "    return (1-jac) * smooth\n",
    "\n",
    "def f1Score(y_true, y_pred):\n",
    "    true_positives = K.sum(K.round(K.clip(y_true * y_pred, 0, 1)))\n",
    "    possible_positives = K.sum(K.round(K.clip(y_true, 0, 1)))\n",
    "    predicted_positives = K.sum(K.round(K.clip(y_pred, 0, 1)))\n",
    "    precision = true_positives / (predicted_positives + K.epsilon())\n",
    "    recall = true_positives / (possible_positives + K.epsilon())\n",
    "    f1_val = 2*(precision*recall)/(precision+recall+K.epsilon())\n",
    "    return f1_val\n",
    "\n",
    "#Define loss, metrics and optimizer to be used for training\n",
    "#wt0, wt1, wt2, wt3 = 0.26, 23.77, 23.77, 1112.57 #0.25,0.25,0.25,0.25\n",
    "dice_loss = sm.losses.DiceLoss()#class_weights=np.array([wt0, wt1, wt2, wt3])) \n",
    "focal_loss = sm.losses.CategoricalFocalLoss()\n",
    "total_loss = dice_loss + (1 * focal_loss)\n",
    "\n",
    "#metrics = ['accuracy', sm.metrics.IOUScore(threshold=0.5)]\n",
    "metrics = ['accuracy', sm.metrics.IOUScore(threshold=0.5), 'Precision', 'Recall', 'AUC']#, diceCoef, jaccardDistance, f1Score] #, dice_coef_multilabel_individual]] \n",
    "\n",
    "LR = 0.0001\n",
    "optim = keras.optimizers.Adam(LR)"
   ]
  },
  {
   "cell_type": "markdown",
   "id": "8019cc3b",
   "metadata": {},
   "source": [
    "### Fit/train model"
   ]
  },
  {
   "cell_type": "code",
   "execution_count": 31,
   "id": "85194fbc",
   "metadata": {},
   "outputs": [
    {
     "name": "stdout",
     "output_type": "stream",
     "text": [
      "(20, 128, 128, 128, 1) (20, 128, 128, 128, 1)\n",
      "(10, 128, 128, 128, 1) (10, 128, 128, 128, 1)\n"
     ]
    }
   ],
   "source": [
    "print(x_train.shape, mask_train.shape)\n",
    "print(x_val.shape, mask_val.shape)"
   ]
  },
  {
   "cell_type": "code",
   "execution_count": 32,
   "id": "434970e7",
   "metadata": {},
   "outputs": [
    {
     "name": "stdout",
     "output_type": "stream",
     "text": [
      "Model: \"model_1\"\n",
      "__________________________________________________________________________________________________\n",
      " Layer (type)                   Output Shape         Param #     Connected to                     \n",
      "==================================================================================================\n",
      " input_2 (InputLayer)           [(None, 128, 128, 1  0           []                               \n",
      "                                28, 1)]                                                           \n",
      "                                                                                                  \n",
      " conv3d_19 (Conv3D)             (None, 128, 128, 12  448         ['input_2[0][0]']                \n",
      "                                8, 16)                                                            \n",
      "                                                                                                  \n",
      " leaky_re_lu_18 (LeakyReLU)     (None, 128, 128, 12  0           ['conv3d_19[0][0]']              \n",
      "                                8, 16)                                                            \n",
      "                                                                                                  \n",
      " dropout_9 (Dropout)            (None, 128, 128, 12  0           ['leaky_re_lu_18[0][0]']         \n",
      "                                8, 16)                                                            \n",
      "                                                                                                  \n",
      " conv3d_20 (Conv3D)             (None, 128, 128, 12  6928        ['dropout_9[0][0]']              \n",
      "                                8, 16)                                                            \n",
      "                                                                                                  \n",
      " leaky_re_lu_19 (LeakyReLU)     (None, 128, 128, 12  0           ['conv3d_20[0][0]']              \n",
      "                                8, 16)                                                            \n",
      "                                                                                                  \n",
      " max_pooling3d_4 (MaxPooling3D)  (None, 64, 64, 64,   0          ['leaky_re_lu_19[0][0]']         \n",
      "                                16)                                                               \n",
      "                                                                                                  \n",
      " conv3d_21 (Conv3D)             (None, 64, 64, 64,   13856       ['max_pooling3d_4[0][0]']        \n",
      "                                32)                                                               \n",
      "                                                                                                  \n",
      " leaky_re_lu_20 (LeakyReLU)     (None, 64, 64, 64,   0           ['conv3d_21[0][0]']              \n",
      "                                32)                                                               \n",
      "                                                                                                  \n",
      " dropout_10 (Dropout)           (None, 64, 64, 64,   0           ['leaky_re_lu_20[0][0]']         \n",
      "                                32)                                                               \n",
      "                                                                                                  \n",
      " conv3d_22 (Conv3D)             (None, 64, 64, 64,   27680       ['dropout_10[0][0]']             \n",
      "                                32)                                                               \n",
      "                                                                                                  \n",
      " leaky_re_lu_21 (LeakyReLU)     (None, 64, 64, 64,   0           ['conv3d_22[0][0]']              \n",
      "                                32)                                                               \n",
      "                                                                                                  \n",
      " max_pooling3d_5 (MaxPooling3D)  (None, 32, 32, 32,   0          ['leaky_re_lu_21[0][0]']         \n",
      "                                32)                                                               \n",
      "                                                                                                  \n",
      " conv3d_23 (Conv3D)             (None, 32, 32, 32,   55360       ['max_pooling3d_5[0][0]']        \n",
      "                                64)                                                               \n",
      "                                                                                                  \n",
      " leaky_re_lu_22 (LeakyReLU)     (None, 32, 32, 32,   0           ['conv3d_23[0][0]']              \n",
      "                                64)                                                               \n",
      "                                                                                                  \n",
      " dropout_11 (Dropout)           (None, 32, 32, 32,   0           ['leaky_re_lu_22[0][0]']         \n",
      "                                64)                                                               \n",
      "                                                                                                  \n",
      " conv3d_24 (Conv3D)             (None, 32, 32, 32,   110656      ['dropout_11[0][0]']             \n",
      "                                64)                                                               \n",
      "                                                                                                  \n",
      " leaky_re_lu_23 (LeakyReLU)     (None, 32, 32, 32,   0           ['conv3d_24[0][0]']              \n",
      "                                64)                                                               \n",
      "                                                                                                  \n",
      " max_pooling3d_6 (MaxPooling3D)  (None, 16, 16, 16,   0          ['leaky_re_lu_23[0][0]']         \n",
      "                                64)                                                               \n",
      "                                                                                                  \n",
      " conv3d_25 (Conv3D)             (None, 16, 16, 16,   221312      ['max_pooling3d_6[0][0]']        \n",
      "                                128)                                                              \n",
      "                                                                                                  \n",
      " leaky_re_lu_24 (LeakyReLU)     (None, 16, 16, 16,   0           ['conv3d_25[0][0]']              \n",
      "                                128)                                                              \n",
      "                                                                                                  \n",
      " dropout_12 (Dropout)           (None, 16, 16, 16,   0           ['leaky_re_lu_24[0][0]']         \n",
      "                                128)                                                              \n",
      "                                                                                                  \n",
      " conv3d_26 (Conv3D)             (None, 16, 16, 16,   442496      ['dropout_12[0][0]']             \n",
      "                                128)                                                              \n",
      "                                                                                                  \n",
      " leaky_re_lu_25 (LeakyReLU)     (None, 16, 16, 16,   0           ['conv3d_26[0][0]']              \n",
      "                                128)                                                              \n",
      "                                                                                                  \n",
      " max_pooling3d_7 (MaxPooling3D)  (None, 8, 8, 8, 128  0          ['leaky_re_lu_25[0][0]']         \n",
      "                                )                                                                 \n",
      "                                                                                                  \n",
      " conv3d_27 (Conv3D)             (None, 8, 8, 8, 256  884992      ['max_pooling3d_7[0][0]']        \n",
      "                                )                                                                 \n",
      "                                                                                                  \n",
      " leaky_re_lu_26 (LeakyReLU)     (None, 8, 8, 8, 256  0           ['conv3d_27[0][0]']              \n",
      "                                )                                                                 \n"
     ]
    },
    {
     "name": "stdout",
     "output_type": "stream",
     "text": [
      "                                                                                                  \n",
      " dropout_13 (Dropout)           (None, 8, 8, 8, 256  0           ['leaky_re_lu_26[0][0]']         \n",
      "                                )                                                                 \n",
      "                                                                                                  \n",
      " conv3d_28 (Conv3D)             (None, 8, 8, 8, 256  1769728     ['dropout_13[0][0]']             \n",
      "                                )                                                                 \n",
      "                                                                                                  \n",
      " leaky_re_lu_27 (LeakyReLU)     (None, 8, 8, 8, 256  0           ['conv3d_28[0][0]']              \n",
      "                                )                                                                 \n",
      "                                                                                                  \n",
      " conv3d_transpose_4 (Conv3DTran  (None, 16, 16, 16,   262272     ['leaky_re_lu_27[0][0]']         \n",
      " spose)                         128)                                                              \n",
      "                                                                                                  \n",
      " concatenate_4 (Concatenate)    (None, 16, 16, 16,   0           ['conv3d_transpose_4[0][0]',     \n",
      "                                256)                              'leaky_re_lu_25[0][0]']         \n",
      "                                                                                                  \n",
      " conv3d_29 (Conv3D)             (None, 16, 16, 16,   884864      ['concatenate_4[0][0]']          \n",
      "                                128)                                                              \n",
      "                                                                                                  \n",
      " leaky_re_lu_28 (LeakyReLU)     (None, 16, 16, 16,   0           ['conv3d_29[0][0]']              \n",
      "                                128)                                                              \n",
      "                                                                                                  \n",
      " dropout_14 (Dropout)           (None, 16, 16, 16,   0           ['leaky_re_lu_28[0][0]']         \n",
      "                                128)                                                              \n",
      "                                                                                                  \n",
      " conv3d_30 (Conv3D)             (None, 16, 16, 16,   442496      ['dropout_14[0][0]']             \n",
      "                                128)                                                              \n",
      "                                                                                                  \n",
      " leaky_re_lu_29 (LeakyReLU)     (None, 16, 16, 16,   0           ['conv3d_30[0][0]']              \n",
      "                                128)                                                              \n",
      "                                                                                                  \n",
      " conv3d_transpose_5 (Conv3DTran  (None, 32, 32, 32,   65600      ['leaky_re_lu_29[0][0]']         \n",
      " spose)                         64)                                                               \n",
      "                                                                                                  \n",
      " concatenate_5 (Concatenate)    (None, 32, 32, 32,   0           ['conv3d_transpose_5[0][0]',     \n",
      "                                128)                              'leaky_re_lu_23[0][0]']         \n",
      "                                                                                                  \n",
      " conv3d_31 (Conv3D)             (None, 32, 32, 32,   221248      ['concatenate_5[0][0]']          \n",
      "                                64)                                                               \n",
      "                                                                                                  \n",
      " leaky_re_lu_30 (LeakyReLU)     (None, 32, 32, 32,   0           ['conv3d_31[0][0]']              \n",
      "                                64)                                                               \n",
      "                                                                                                  \n",
      " dropout_15 (Dropout)           (None, 32, 32, 32,   0           ['leaky_re_lu_30[0][0]']         \n",
      "                                64)                                                               \n",
      "                                                                                                  \n",
      " conv3d_32 (Conv3D)             (None, 32, 32, 32,   110656      ['dropout_15[0][0]']             \n",
      "                                64)                                                               \n",
      "                                                                                                  \n",
      " leaky_re_lu_31 (LeakyReLU)     (None, 32, 32, 32,   0           ['conv3d_32[0][0]']              \n",
      "                                64)                                                               \n",
      "                                                                                                  \n",
      " conv3d_transpose_6 (Conv3DTran  (None, 64, 64, 64,   16416      ['leaky_re_lu_31[0][0]']         \n",
      " spose)                         32)                                                               \n",
      "                                                                                                  \n",
      " concatenate_6 (Concatenate)    (None, 64, 64, 64,   0           ['conv3d_transpose_6[0][0]',     \n",
      "                                64)                               'leaky_re_lu_21[0][0]']         \n",
      "                                                                                                  \n",
      " conv3d_33 (Conv3D)             (None, 64, 64, 64,   55328       ['concatenate_6[0][0]']          \n",
      "                                32)                                                               \n",
      "                                                                                                  \n",
      " leaky_re_lu_32 (LeakyReLU)     (None, 64, 64, 64,   0           ['conv3d_33[0][0]']              \n",
      "                                32)                                                               \n",
      "                                                                                                  \n",
      " dropout_16 (Dropout)           (None, 64, 64, 64,   0           ['leaky_re_lu_32[0][0]']         \n",
      "                                32)                                                               \n",
      "                                                                                                  \n",
      " conv3d_34 (Conv3D)             (None, 64, 64, 64,   27680       ['dropout_16[0][0]']             \n",
      "                                32)                                                               \n",
      "                                                                                                  \n",
      " leaky_re_lu_33 (LeakyReLU)     (None, 64, 64, 64,   0           ['conv3d_34[0][0]']              \n",
      "                                32)                                                               \n",
      "                                                                                                  \n",
      " conv3d_transpose_7 (Conv3DTran  (None, 128, 128, 12  4112       ['leaky_re_lu_33[0][0]']         \n",
      " spose)                         8, 16)                                                            \n",
      "                                                                                                  \n",
      " concatenate_7 (Concatenate)    (None, 128, 128, 12  0           ['conv3d_transpose_7[0][0]',     \n",
      "                                8, 32)                            'leaky_re_lu_19[0][0]']         \n",
      "                                                                                                  \n",
      " conv3d_35 (Conv3D)             (None, 128, 128, 12  13840       ['concatenate_7[0][0]']          \n",
      "                                8, 16)                                                            \n",
      "                                                                                                  \n",
      " leaky_re_lu_34 (LeakyReLU)     (None, 128, 128, 12  0           ['conv3d_35[0][0]']              \n"
     ]
    },
    {
     "name": "stdout",
     "output_type": "stream",
     "text": [
      "                                8, 16)                                                            \n",
      "                                                                                                  \n",
      " dropout_17 (Dropout)           (None, 128, 128, 12  0           ['leaky_re_lu_34[0][0]']         \n",
      "                                8, 16)                                                            \n",
      "                                                                                                  \n",
      " conv3d_36 (Conv3D)             (None, 128, 128, 12  6928        ['dropout_17[0][0]']             \n",
      "                                8, 16)                                                            \n",
      "                                                                                                  \n",
      " leaky_re_lu_35 (LeakyReLU)     (None, 128, 128, 12  0           ['conv3d_36[0][0]']              \n",
      "                                8, 16)                                                            \n",
      "                                                                                                  \n",
      " conv3d_37 (Conv3D)             (None, 128, 128, 12  17          ['leaky_re_lu_35[0][0]']         \n",
      "                                8, 1)                                                             \n",
      "                                                                                                  \n",
      "==================================================================================================\n",
      "Total params: 5,644,913\n",
      "Trainable params: 5,644,913\n",
      "Non-trainable params: 0\n",
      "__________________________________________________________________________________________________\n",
      "Model: \"model_1\"\n",
      "__________________________________________________________________________________________________\n",
      " Layer (type)                   Output Shape         Param #     Connected to                     \n",
      "==================================================================================================\n",
      " input_2 (InputLayer)           [(None, 128, 128, 1  0           []                               \n",
      "                                28, 1)]                                                           \n",
      "                                                                                                  \n",
      " conv3d_19 (Conv3D)             (None, 128, 128, 12  448         ['input_2[0][0]']                \n",
      "                                8, 16)                                                            \n",
      "                                                                                                  \n",
      " leaky_re_lu_18 (LeakyReLU)     (None, 128, 128, 12  0           ['conv3d_19[0][0]']              \n",
      "                                8, 16)                                                            \n",
      "                                                                                                  \n",
      " dropout_9 (Dropout)            (None, 128, 128, 12  0           ['leaky_re_lu_18[0][0]']         \n",
      "                                8, 16)                                                            \n",
      "                                                                                                  \n",
      " conv3d_20 (Conv3D)             (None, 128, 128, 12  6928        ['dropout_9[0][0]']              \n",
      "                                8, 16)                                                            \n",
      "                                                                                                  \n",
      " leaky_re_lu_19 (LeakyReLU)     (None, 128, 128, 12  0           ['conv3d_20[0][0]']              \n",
      "                                8, 16)                                                            \n",
      "                                                                                                  \n",
      " max_pooling3d_4 (MaxPooling3D)  (None, 64, 64, 64,   0          ['leaky_re_lu_19[0][0]']         \n",
      "                                16)                                                               \n",
      "                                                                                                  \n",
      " conv3d_21 (Conv3D)             (None, 64, 64, 64,   13856       ['max_pooling3d_4[0][0]']        \n",
      "                                32)                                                               \n",
      "                                                                                                  \n",
      " leaky_re_lu_20 (LeakyReLU)     (None, 64, 64, 64,   0           ['conv3d_21[0][0]']              \n",
      "                                32)                                                               \n",
      "                                                                                                  \n",
      " dropout_10 (Dropout)           (None, 64, 64, 64,   0           ['leaky_re_lu_20[0][0]']         \n",
      "                                32)                                                               \n",
      "                                                                                                  \n",
      " conv3d_22 (Conv3D)             (None, 64, 64, 64,   27680       ['dropout_10[0][0]']             \n",
      "                                32)                                                               \n",
      "                                                                                                  \n",
      " leaky_re_lu_21 (LeakyReLU)     (None, 64, 64, 64,   0           ['conv3d_22[0][0]']              \n",
      "                                32)                                                               \n",
      "                                                                                                  \n",
      " max_pooling3d_5 (MaxPooling3D)  (None, 32, 32, 32,   0          ['leaky_re_lu_21[0][0]']         \n",
      "                                32)                                                               \n",
      "                                                                                                  \n",
      " conv3d_23 (Conv3D)             (None, 32, 32, 32,   55360       ['max_pooling3d_5[0][0]']        \n",
      "                                64)                                                               \n",
      "                                                                                                  \n",
      " leaky_re_lu_22 (LeakyReLU)     (None, 32, 32, 32,   0           ['conv3d_23[0][0]']              \n",
      "                                64)                                                               \n",
      "                                                                                                  \n",
      " dropout_11 (Dropout)           (None, 32, 32, 32,   0           ['leaky_re_lu_22[0][0]']         \n",
      "                                64)                                                               \n",
      "                                                                                                  \n",
      " conv3d_24 (Conv3D)             (None, 32, 32, 32,   110656      ['dropout_11[0][0]']             \n",
      "                                64)                                                               \n",
      "                                                                                                  \n",
      " leaky_re_lu_23 (LeakyReLU)     (None, 32, 32, 32,   0           ['conv3d_24[0][0]']              \n",
      "                                64)                                                               \n",
      "                                                                                                  \n",
      " max_pooling3d_6 (MaxPooling3D)  (None, 16, 16, 16,   0          ['leaky_re_lu_23[0][0]']         \n",
      "                                64)                                                               \n",
      "                                                                                                  \n",
      " conv3d_25 (Conv3D)             (None, 16, 16, 16,   221312      ['max_pooling3d_6[0][0]']        \n",
      "                                128)                                                              \n",
      "                                                                                                  \n",
      " leaky_re_lu_24 (LeakyReLU)     (None, 16, 16, 16,   0           ['conv3d_25[0][0]']              \n",
      "                                128)                                                              \n",
      "                                                                                                  \n"
     ]
    },
    {
     "name": "stdout",
     "output_type": "stream",
     "text": [
      " dropout_12 (Dropout)           (None, 16, 16, 16,   0           ['leaky_re_lu_24[0][0]']         \n",
      "                                128)                                                              \n",
      "                                                                                                  \n",
      " conv3d_26 (Conv3D)             (None, 16, 16, 16,   442496      ['dropout_12[0][0]']             \n",
      "                                128)                                                              \n",
      "                                                                                                  \n",
      " leaky_re_lu_25 (LeakyReLU)     (None, 16, 16, 16,   0           ['conv3d_26[0][0]']              \n",
      "                                128)                                                              \n",
      "                                                                                                  \n",
      " max_pooling3d_7 (MaxPooling3D)  (None, 8, 8, 8, 128  0          ['leaky_re_lu_25[0][0]']         \n",
      "                                )                                                                 \n",
      "                                                                                                  \n",
      " conv3d_27 (Conv3D)             (None, 8, 8, 8, 256  884992      ['max_pooling3d_7[0][0]']        \n",
      "                                )                                                                 \n",
      "                                                                                                  \n",
      " leaky_re_lu_26 (LeakyReLU)     (None, 8, 8, 8, 256  0           ['conv3d_27[0][0]']              \n",
      "                                )                                                                 \n",
      "                                                                                                  \n",
      " dropout_13 (Dropout)           (None, 8, 8, 8, 256  0           ['leaky_re_lu_26[0][0]']         \n",
      "                                )                                                                 \n",
      "                                                                                                  \n",
      " conv3d_28 (Conv3D)             (None, 8, 8, 8, 256  1769728     ['dropout_13[0][0]']             \n",
      "                                )                                                                 \n",
      "                                                                                                  \n",
      " leaky_re_lu_27 (LeakyReLU)     (None, 8, 8, 8, 256  0           ['conv3d_28[0][0]']              \n",
      "                                )                                                                 \n",
      "                                                                                                  \n",
      " conv3d_transpose_4 (Conv3DTran  (None, 16, 16, 16,   262272     ['leaky_re_lu_27[0][0]']         \n",
      " spose)                         128)                                                              \n",
      "                                                                                                  \n",
      " concatenate_4 (Concatenate)    (None, 16, 16, 16,   0           ['conv3d_transpose_4[0][0]',     \n",
      "                                256)                              'leaky_re_lu_25[0][0]']         \n",
      "                                                                                                  \n",
      " conv3d_29 (Conv3D)             (None, 16, 16, 16,   884864      ['concatenate_4[0][0]']          \n",
      "                                128)                                                              \n",
      "                                                                                                  \n",
      " leaky_re_lu_28 (LeakyReLU)     (None, 16, 16, 16,   0           ['conv3d_29[0][0]']              \n",
      "                                128)                                                              \n",
      "                                                                                                  \n",
      " dropout_14 (Dropout)           (None, 16, 16, 16,   0           ['leaky_re_lu_28[0][0]']         \n",
      "                                128)                                                              \n",
      "                                                                                                  \n",
      " conv3d_30 (Conv3D)             (None, 16, 16, 16,   442496      ['dropout_14[0][0]']             \n",
      "                                128)                                                              \n",
      "                                                                                                  \n",
      " leaky_re_lu_29 (LeakyReLU)     (None, 16, 16, 16,   0           ['conv3d_30[0][0]']              \n",
      "                                128)                                                              \n",
      "                                                                                                  \n",
      " conv3d_transpose_5 (Conv3DTran  (None, 32, 32, 32,   65600      ['leaky_re_lu_29[0][0]']         \n",
      " spose)                         64)                                                               \n",
      "                                                                                                  \n",
      " concatenate_5 (Concatenate)    (None, 32, 32, 32,   0           ['conv3d_transpose_5[0][0]',     \n",
      "                                128)                              'leaky_re_lu_23[0][0]']         \n",
      "                                                                                                  \n",
      " conv3d_31 (Conv3D)             (None, 32, 32, 32,   221248      ['concatenate_5[0][0]']          \n",
      "                                64)                                                               \n",
      "                                                                                                  \n",
      " leaky_re_lu_30 (LeakyReLU)     (None, 32, 32, 32,   0           ['conv3d_31[0][0]']              \n",
      "                                64)                                                               \n",
      "                                                                                                  \n",
      " dropout_15 (Dropout)           (None, 32, 32, 32,   0           ['leaky_re_lu_30[0][0]']         \n",
      "                                64)                                                               \n",
      "                                                                                                  \n",
      " conv3d_32 (Conv3D)             (None, 32, 32, 32,   110656      ['dropout_15[0][0]']             \n",
      "                                64)                                                               \n",
      "                                                                                                  \n",
      " leaky_re_lu_31 (LeakyReLU)     (None, 32, 32, 32,   0           ['conv3d_32[0][0]']              \n",
      "                                64)                                                               \n",
      "                                                                                                  \n",
      " conv3d_transpose_6 (Conv3DTran  (None, 64, 64, 64,   16416      ['leaky_re_lu_31[0][0]']         \n",
      " spose)                         32)                                                               \n",
      "                                                                                                  \n",
      " concatenate_6 (Concatenate)    (None, 64, 64, 64,   0           ['conv3d_transpose_6[0][0]',     \n",
      "                                64)                               'leaky_re_lu_21[0][0]']         \n",
      "                                                                                                  \n",
      " conv3d_33 (Conv3D)             (None, 64, 64, 64,   55328       ['concatenate_6[0][0]']          \n",
      "                                32)                                                               \n",
      "                                                                                                  \n",
      " leaky_re_lu_32 (LeakyReLU)     (None, 64, 64, 64,   0           ['conv3d_33[0][0]']              \n",
      "                                32)                                                               \n",
      "                                                                                                  \n",
      " dropout_16 (Dropout)           (None, 64, 64, 64,   0           ['leaky_re_lu_32[0][0]']         \n",
      "                                32)                                                               \n"
     ]
    },
    {
     "name": "stdout",
     "output_type": "stream",
     "text": [
      "                                                                                                  \n",
      " conv3d_34 (Conv3D)             (None, 64, 64, 64,   27680       ['dropout_16[0][0]']             \n",
      "                                32)                                                               \n",
      "                                                                                                  \n",
      " leaky_re_lu_33 (LeakyReLU)     (None, 64, 64, 64,   0           ['conv3d_34[0][0]']              \n",
      "                                32)                                                               \n",
      "                                                                                                  \n",
      " conv3d_transpose_7 (Conv3DTran  (None, 128, 128, 12  4112       ['leaky_re_lu_33[0][0]']         \n",
      " spose)                         8, 16)                                                            \n",
      "                                                                                                  \n",
      " concatenate_7 (Concatenate)    (None, 128, 128, 12  0           ['conv3d_transpose_7[0][0]',     \n",
      "                                8, 32)                            'leaky_re_lu_19[0][0]']         \n",
      "                                                                                                  \n",
      " conv3d_35 (Conv3D)             (None, 128, 128, 12  13840       ['concatenate_7[0][0]']          \n",
      "                                8, 16)                                                            \n",
      "                                                                                                  \n",
      " leaky_re_lu_34 (LeakyReLU)     (None, 128, 128, 12  0           ['conv3d_35[0][0]']              \n",
      "                                8, 16)                                                            \n",
      "                                                                                                  \n",
      " dropout_17 (Dropout)           (None, 128, 128, 12  0           ['leaky_re_lu_34[0][0]']         \n",
      "                                8, 16)                                                            \n",
      "                                                                                                  \n",
      " conv3d_36 (Conv3D)             (None, 128, 128, 12  6928        ['dropout_17[0][0]']             \n",
      "                                8, 16)                                                            \n",
      "                                                                                                  \n",
      " leaky_re_lu_35 (LeakyReLU)     (None, 128, 128, 12  0           ['conv3d_36[0][0]']              \n",
      "                                8, 16)                                                            \n",
      "                                                                                                  \n",
      " conv3d_37 (Conv3D)             (None, 128, 128, 12  17          ['leaky_re_lu_35[0][0]']         \n",
      "                                8, 1)                                                             \n",
      "                                                                                                  \n",
      "==================================================================================================\n",
      "Total params: 5,644,913\n",
      "Trainable params: 5,644,913\n",
      "Non-trainable params: 0\n",
      "__________________________________________________________________________________________________\n",
      "None\n",
      "(None, 128, 128, 128, 1)\n",
      "(None, 128, 128, 128, 1)\n"
     ]
    }
   ],
   "source": [
    "steps_per_epoch = len(x_train)//batch_size\n",
    "val_steps_per_epoch = len(x_val)//batch_size\n",
    "\n",
    "model = simple_unet_model(IMG_HEIGHT=128, \n",
    "                          IMG_WIDTH=128, \n",
    "                          IMG_DEPTH=128, \n",
    "                          IMG_CHANNELS=1, \n",
    "                          num_classes=1)\n",
    "\n",
    "model.compile(optimizer = optim, loss=dice_loss, metrics=metrics)\n",
    "print(model.summary())\n",
    "print(model.input_shape)\n",
    "print(model.output_shape)"
   ]
  },
  {
   "cell_type": "code",
   "execution_count": 33,
   "id": "778dd6ed",
   "metadata": {},
   "outputs": [],
   "source": [
    "\n",
    "callback = tf.keras.callbacks.EarlyStopping(monitor='loss', patience=3)\n",
    "callbacks=[callback]\n",
    "\n",
    "#checkpoint = ModelCheckpoint(weight_path, monitor='val_loss', verbose=1, \n",
    "#                             save_best_only=True, mode='min', save_weights_only = True)\n",
    "\n",
    "#reduceLROnPlat = ReduceLROnPlateau(monitor='val_loss', factor=0.8, patience=5, verbose=1, mode='auto', epsilon=0.0001, cooldown=5, min_lr=0.0001)\n",
    "#early = EarlyStopping(monitor=\"val_loss\", \n",
    "#                      mode=\"min\", \n",
    "#                      patience=10) # probably needs to be more patient, but kaggle time is limited\n",
    "#callbacks_list = [checkpoint, early, reduceLROnPlat]"
   ]
  },
  {
   "cell_type": "code",
   "execution_count": null,
   "id": "20b6d717",
   "metadata": {},
   "outputs": [
    {
     "name": "stdout",
     "output_type": "stream",
     "text": [
      "Epoch 1/3\n"
     ]
    },
    {
     "name": "stderr",
     "output_type": "stream",
     "text": [
      "2023-05-04 21:39:19.002267: W tensorflow/core/platform/profile_utils/cpu_utils.cc:128] Failed to get CPU frequency: 0 Hz\n",
      "2023-05-04 21:39:19.764196: I tensorflow/core/grappler/optimizers/custom_graph_optimizer_registry.cc:113] Plugin optimizer for device_type GPU is enabled.\n"
     ]
    }
   ],
   "source": [
    "history=model.fit(train_img_datagen,\n",
    "                  steps_per_epoch=steps_per_epoch,\n",
    "                  epochs=3,\n",
    "                  verbose=1,\n",
    "                  validation_data=val_img_datagen,\n",
    "                  validation_steps=val_steps_per_epoch,\n",
    "                  callbacks=callbacks\n",
    "                 )"
   ]
  },
  {
   "cell_type": "code",
   "execution_count": null,
   "id": "c8458054",
   "metadata": {},
   "outputs": [],
   "source": [
    "print(\"number of epochs:\", len(history.history['loss']))"
   ]
  },
  {
   "cell_type": "markdown",
   "id": "4cfbf53a",
   "metadata": {},
   "source": [
    "### Save model"
   ]
  },
  {
   "cell_type": "code",
   "execution_count": 38,
   "id": "0de2c882",
   "metadata": {},
   "outputs": [],
   "source": [
    "model.save('segBinary3.hdf5')"
   ]
  },
  {
   "cell_type": "markdown",
   "id": "05ff8cd9",
   "metadata": {},
   "source": [
    "## Loss"
   ]
  },
  {
   "cell_type": "code",
   "execution_count": 39,
   "id": "7641f607",
   "metadata": {},
   "outputs": [
    {
     "data": {
      "image/png": "[encoded data removed]",
      "text/plain": [
       "<Figure size 640x480 with 1 Axes>"
      ]
     },
     "metadata": {},
     "output_type": "display_data"
    }
   ],
   "source": [
    "#plot the training and validation IoU and loss at each epoch\n",
    "loss = history.history['loss']\n",
    "\n",
    "val_loss = history.history['val_loss']\n",
    "epochs = range(1, len(loss) + 1)\n",
    "plt.plot(epochs, loss, 'y', label='Training loss')\n",
    "plt.plot(epochs, val_loss, 'r', label='Validation loss')\n",
    "plt.title('Training and validation loss')\n",
    "plt.xlabel('Epochs')\n",
    "plt.ylabel('Loss')\n",
    "plt.legend()\n",
    "plt.show()"
   ]
  },
  {
   "cell_type": "code",
   "execution_count": 40,
   "id": "dc1d6263",
   "metadata": {},
   "outputs": [
    {
     "data": {
      "image/png": "[encoded data removed]",
      "text/plain": [
       "<Figure size 640x480 with 1 Axes>"
      ]
     },
     "metadata": {},
     "output_type": "display_data"
    }
   ],
   "source": [
    "acc = history.history['accuracy']\n",
    "val_acc = history.history['val_accuracy']\n",
    "\n",
    "plt.plot(epochs, acc, 'y', label='Training accuracy')\n",
    "plt.plot(epochs, val_acc, 'r', label='Validation accuracy')\n",
    "plt.title('Training and validation accuracy')\n",
    "plt.xlabel('Epochs')\n",
    "plt.ylabel('Accuracy')\n",
    "plt.legend()\n",
    "plt.show()"
   ]
  },
  {
   "cell_type": "markdown",
   "id": "767cc78d",
   "metadata": {},
   "source": [
    "## Load trained model and continue training"
   ]
  },
  {
   "cell_type": "code",
   "execution_count": 41,
   "id": "4dc5f520",
   "metadata": {},
   "outputs": [],
   "source": [
    "#Load model for prediction or continue training\n",
    "#my_model = load_model('lol3.hdf5', custom_objects={'dice_loss_plus_1focal_loss': total_loss, \n",
    "#                                                   'iou_score':sm.metrics.IOUScore(threshold=0.5)})"
   ]
  },
  {
   "cell_type": "code",
   "execution_count": 42,
   "id": "26e20464",
   "metadata": {},
   "outputs": [],
   "source": [
    "#Now all set to continue the training process. \n",
    "#history2=my_model.fit(train_img_datagen,\n",
    "#          steps_per_epoch=steps_per_epoch,\n",
    "#          epochs=1,\n",
    "#         verbose=1,\n",
    "#          validation_data=val_img_datagen,\n",
    "#          validation_steps=val_steps_per_epoch,\n",
    "#          )"
   ]
  },
  {
   "cell_type": "markdown",
   "id": "29f5aeb0",
   "metadata": {},
   "source": [
    "## Predict masks"
   ]
  },
  {
   "cell_type": "code",
   "execution_count": 43,
   "id": "f0c29511",
   "metadata": {},
   "outputs": [],
   "source": [
    "my_model = load_model('segBinary3.hdf5', compile=False)"
   ]
  },
  {
   "cell_type": "code",
   "execution_count": 45,
   "id": "732889b3",
   "metadata": {},
   "outputs": [],
   "source": [
    "#my_model.evaluate(x_test, mask_test, batch_size = 5) #evaluate model"
   ]
  },
  {
   "cell_type": "code",
   "execution_count": 44,
   "id": "adad6cf0",
   "metadata": {},
   "outputs": [
    {
     "name": "stdout",
     "output_type": "stream",
     "text": [
      "test images shape: (10, 128, 128, 128, 1)\n",
      "test masks shape: (10, 128, 128, 128, 1)\n"
     ]
    },
    {
     "name": "stderr",
     "output_type": "stream",
     "text": [
      "2023-05-04 12:22:57.796045: I tensorflow/core/grappler/optimizers/custom_graph_optimizer_registry.cc:113] Plugin optimizer for device_type GPU is enabled.\n"
     ]
    },
    {
     "name": "stdout",
     "output_type": "stream",
     "text": [
      "1/1 [==============================] - 18s 18s/step\n"
     ]
    }
   ],
   "source": [
    "x_test = tf.cast(x_test, tf.float64)\n",
    "\n",
    "batch_size=10 #Check IoU for a batch of images\n",
    "test_img_datagen = imageLoader(x_test, mask_test, batch_size)\n",
    "\n",
    "#Verify generator.... In python 3 next() is renamed as __next__()\n",
    "test_image_batch, test_mask_batch = test_img_datagen.__next__()\n",
    "\n",
    "print(\"test images shape:\", test_image_batch.shape) \n",
    "print(\"test masks shape:\", test_mask_batch.shape)\n",
    "\n",
    "#predict masks\n",
    "test_pred_batch = my_model.predict(test_image_batch)"
   ]
  },
  {
   "cell_type": "code",
   "execution_count": 1,
   "id": "a7d4f130",
   "metadata": {},
   "outputs": [
    {
     "ename": "NameError",
     "evalue": "name 'id_test' is not defined",
     "output_type": "error",
     "traceback": [
      "\u001b[0;31m---------------------------------------------------------------------------\u001b[0m",
      "\u001b[0;31mNameError\u001b[0m                                 Traceback (most recent call last)",
      "Cell \u001b[0;32mIn[1], line 3\u001b[0m\n\u001b[1;32m      1\u001b[0m n_img \u001b[38;5;241m=\u001b[39m \u001b[38;5;241m3\u001b[39m\n\u001b[1;32m      2\u001b[0m n_slice \u001b[38;5;241m=\u001b[39m \u001b[38;5;241m65\u001b[39m\n\u001b[0;32m----> 3\u001b[0m case \u001b[38;5;241m=\u001b[39m \u001b[43mid_test\u001b[49m[n_img]\n\u001b[1;32m      5\u001b[0m test_binary \u001b[38;5;241m=\u001b[39m test_mask_batch[n_img][n_slice,:,:]\n\u001b[1;32m      6\u001b[0m pred_binary \u001b[38;5;241m=\u001b[39m test_pred_batch[n_img][n_slice,:,:]\n",
      "\u001b[0;31mNameError\u001b[0m: name 'id_test' is not defined"
     ]
    }
   ],
   "source": [
    "n_img = 3\n",
    "n_slice = 65\n",
    "case = id_test[n_img]\n",
    "\n",
    "test_binary = test_mask_batch[n_img][n_slice,:,:]\n",
    "pred_binary = test_pred_batch[n_img][n_slice,:,:]\n",
    "\n",
    "images = [test_binary, pred_binary]\n",
    "# Define a figure of size (12, 12)\n",
    "fig = plt.figure(figsize=(12, 6))\n",
    "\n",
    "# Define row and cols in the figure\n",
    "rows, cols = 1, 2\n",
    "\n",
    "titles = ['actual kidney and mass', 'predicted kidney and mass']\n",
    "# Display first four images\n",
    "for j in range(0, cols*rows):\n",
    "    fig.add_subplot(rows, cols, j+1)\n",
    "    plt.title(titles[j])\n",
    "    plt.imshow(images[j])\n",
    "\n",
    "fig.suptitle('Predicted vs. actual segmentation of patient with case ID {0}'.format(case[-5:]), fontsize=16)\n",
    "plt.show()"
   ]
  },
  {
   "cell_type": "code",
   "execution_count": null,
   "id": "9f771ba3",
   "metadata": {},
   "outputs": [],
   "source": [
    "#Calculating individual dice scores\n",
    "\n",
    "from keras import backend as K\n",
    "\n",
    "def dice_coef(y_true, y_pred):\n",
    "    smooth = 0\n",
    "    y_true_f = K.flatten(y_true)\n",
    "    y_pred_f = K.flatten(y_pred)\n",
    "    intersection = K.sum(y_true_f * y_pred_f)\n",
    "    return (2 * intersection + smooth) / (K.sum(y_true_f) + K.sum(y_pred_f) + smooth)\n",
    "\n",
    "def dice_coef_multilabel_total(y_true, y_pred, numLabels=4):\n",
    "    dice=0\n",
    "    for index in range(y_true.shape[3]):\n",
    "        subdice = dice_coef(y_true[:,:,:,index], y_pred[:,:,:,index])\n",
    "        dice -= dice_coef(y_true[:,:,:,index], y_pred[:,:,:,index])\n",
    "    return dice.numpy()\n",
    "\n",
    "def dice_coef_multilabel_individual(y_true, y_pred, numLabels=4):\n",
    "    dice_list = []\n",
    "    for index in range(y_true.shape[3]):\n",
    "        subdice = dice_coef(y_true[:,:,:,index], y_pred[:,:,:,index])\n",
    "        subdice = subdice.numpy()\n",
    "        dice_list.append(subdice)\n",
    "    return dice_list"
   ]
  },
  {
   "cell_type": "code",
   "execution_count": null,
   "id": "304d7e84",
   "metadata": {},
   "outputs": [],
   "source": [
    "#total_background, total_kidney, total_tumor, total_cyst, diced = 0, 0, 0, 0, 0\n",
    "\n",
    "#for i in range(batch_size):\n",
    "#    diced += dice_coef_multilabel_total(test_mask_batch[i], test_pred_batch[i])\n",
    "#    indiv_dice_lst = dice_coef_multilabel_individual(test_mask_batch[i], test_pred_batch[i])\n",
    "    #print(\"individual scores:\", indiv_dice_lst)\n",
    "    \n",
    "#    total_background += indiv_dice_lst[0]\n",
    "#    total_kidney += indiv_dice_lst[1]\n",
    "#    total_tumor += indiv_dice_lst[2]\n",
    "#    total_cyst += indiv_dice_lst[3]\n",
    "    \n",
    "\n",
    "#print(\"b:\", total_background, \"k:\", total_kidney, \"t:\", total_tumor, \"c:\", total_cyst)\n",
    "\n",
    "##mean_background = total_background/batch_size\n",
    "#mean_kidney = total_kidney/batch_size\n",
    "#mean_tumor = total_tumor/batch_size\n",
    "#mean_cyst = total_cyst/batch_size\n",
    "#mean_dice = diced/batch_size\n",
    "#actual_mean_dice = (mean_background+mean_kidney+mean_tumor+mean_cyst)/4\n",
    "#mean_cyst\n",
    "\n",
    "#print(\"mean b:\", mean_background, \", mean k:\", mean_kidney, \", mean t:\", mean_tumor, \", mean c:\", mean_cyst)\n",
    "#print(\"mean dice: \", mean_dice)\n",
    "#print(\"actual mean dice: \", actual_mean_dice)\n"
   ]
  },
  {
   "cell_type": "code",
   "execution_count": null,
   "id": "a3b0c58f",
   "metadata": {},
   "outputs": [],
   "source": [
    "#Calculating mean IoU (related to dice)\n",
    "test_mask_batch_argmax = np.argmax(test_mask_batch, axis=4) #one-hot to single channel image\n",
    "test_pred_batch_argmax = np.argmax(test_pred_batch, axis=4) #one-hot to single channel image\n",
    "print(test_mask_batch.shape, test_mask_batch_argmax.shape, np.unique(test_mask_batch), np.unique(test_mask_batch_argmax))\n",
    "print(test_pred_batch.shape, test_pred_batch_argmax.shape, np.unique(test_pred_batch), np.unique(test_pred_batch_argmax))\n",
    "\n",
    "\n",
    "#Verify IoU on a batch of images from the test dataset\n",
    "n_classes = 4\n",
    "IOU_keras = MeanIoU(num_classes=n_classes)  \n",
    "IOU_keras.update_state(test_pred_batch_argmax, test_mask_batch_argmax)\n",
    "print(\"Mean IoU =\", IOU_keras.result().numpy())"
   ]
  },
  {
   "cell_type": "code",
   "execution_count": null,
   "id": "c03654fa",
   "metadata": {},
   "outputs": [],
   "source": [
    "n_img = 0\n",
    "n_slice = 60\n",
    "case = id_test[n_img]\n",
    "\n",
    "pred_kidney = test_pred_batch[n_img][n_slice,:,:,1]\n",
    "pred_tumor = test_pred_batch[n_img][n_slice,:,:,2]\n",
    "pred_cyst = test_pred_batch[n_img][n_slice,:,:,3]\n",
    "pred_total = test_pred_batch_argmax[n_img][n_slice,:,:]\n",
    "\n",
    "test_kidney = test_mask_batch[n_img][n_slice,:,:,1]\n",
    "test_tumor = test_mask_batch[n_img][n_slice,:,:,2]\n",
    "test_cyst = test_mask_batch[n_img][n_slice,:,:,3]\n",
    "test_total = test_mask_batch_argmax[n_img][n_slice,:,:]\n",
    "\n",
    "images = [pred_kidney, pred_tumor, pred_cyst, pred_total, test_kidney, test_tumor, test_cyst, test_total]\n",
    "# Define a figure of size (12, 12)\n",
    "fig = plt.figure(figsize=(12, 6))\n",
    "\n",
    "# Define row and cols in the figure\n",
    "rows, cols = 2, 4\n",
    "\n",
    "titles = ['predicted kidney', 'predicted tumor', 'predicted cyst', 'predicted combined', 'actual kidney', 'actual tumor', 'actual cyst', 'actual combined']\n",
    "# Display first four images\n",
    "for j in range(0, cols*rows):\n",
    "    fig.add_subplot(rows, cols, j+1)\n",
    "    plt.title(titles[j])\n",
    "    plt.imshow(images[j])\n",
    "\n",
    "fig.suptitle('Predicted vs. actual segmentation of patient with case ID {0}'.format(case[-5:]), fontsize=16)\n",
    "plt.show()"
   ]
  },
  {
   "cell_type": "code",
   "execution_count": null,
   "id": "2345eeb5",
   "metadata": {},
   "outputs": [],
   "source": [
    "# cropping images \n",
    "img_to_crop = test_pred_batch_argmax[0]\n",
    " \n",
    "# finding indices of null elements\n",
    "# using np.argwhere()\n",
    "\n",
    "\n",
    "\n",
    "for im in img_to_crop[:2]:\n",
    "    res = np.argwhere(im>0.0)\n",
    "    \n",
    "    max_res = np.max(res, axis=0)\n",
    "    max_res = np.max(res, axis=0)\n",
    "    print(res)\n",
    "    print('max res:', max_res)\n",
    "    \n",
    "\n",
    "plt.imshow(img_to_crop[127,:,:])"
   ]
  },
  {
   "cell_type": "code",
   "execution_count": null,
   "id": "5e583b3a",
   "metadata": {},
   "outputs": [],
   "source": [
    "n_img = 1\n",
    "n_slice = 60\n",
    "case = id_test[n_img]\n",
    "\n",
    "pred_kidney = test_pred_batch[n_img][n_slice,:,:,1]\n",
    "pred_tumor = test_pred_batch[n_img][n_slice,:,:,2]\n",
    "pred_cyst = test_pred_batch[n_img][n_slice,:,:,3]\n",
    "pred_total = test_pred_batch_argmax[n_img][n_slice,:,:]\n",
    "\n",
    "test_kidney = test_mask_batch[n_img][n_slice,:,:,1]\n",
    "test_tumor = test_mask_batch[n_img][n_slice,:,:,2]\n",
    "test_cyst = test_mask_batch[n_img][n_slice,:,:,3]\n",
    "test_total = test_mask_batch_argmax[n_img][n_slice,:,:]\n",
    "\n",
    "images = [pred_kidney, pred_tumor, pred_cyst, pred_total, test_kidney, test_tumor, test_cyst, test_total]\n",
    "# Define a figure of size (12, 12)\n",
    "fig = plt.figure(figsize=(12, 6))\n",
    "\n",
    "# Define row and cols in the figure\n",
    "rows, cols = 2, 4\n",
    "\n",
    "titles = ['predicted kidney', 'predicted tumor', 'predicted cyst', 'predicted combined', 'actual kidney', 'actual tumor', 'actual cyst', 'actual combined']\n",
    "# Display first four images\n",
    "for j in range(0, cols*rows):\n",
    "    fig.add_subplot(rows, cols, j+1)\n",
    "    plt.title(titles[j])\n",
    "    plt.imshow(images[j])\n",
    "\n",
    "fig.suptitle('Predicted vs. actual segmentation of patient with case ID {0}'.format(case[-5:]), fontsize=16)\n",
    "plt.show()"
   ]
  },
  {
   "cell_type": "code",
   "execution_count": null,
   "id": "8fbe2189",
   "metadata": {},
   "outputs": [],
   "source": []
  },
  {
   "cell_type": "code",
   "execution_count": null,
   "id": "3f1bc2ee",
   "metadata": {},
   "outputs": [],
   "source": []
  },
  {
   "cell_type": "code",
   "execution_count": null,
   "id": "b9fa4e54",
   "metadata": {},
   "outputs": [],
   "source": [
    "#Predict on a few test images, one at a time\n",
    "#Try images: \n",
    "img_num = id_test[5]\n",
    "\n",
    "test_img = np.load(\"./preprocessed-data/images/\"+str(img_num)+\".npy\")\n",
    "\n",
    "test_mask = np.load(\"./preprocessed-data/masks/\"+str(img_num)+\".npy\")\n",
    "test_mask = np.expand_dims(test_mask.T, axis=0).T\n",
    "print(test_mask.shape)\n",
    "#test_mask_argmax=np.argmax(test_mask, axis=3)\n",
    "\n",
    "test_img_input = np.expand_dims(test_img, axis=0)\n",
    "print(test_img_input.shape)\n",
    "#test_prediction = my_model.predict(test_img_input)\n",
    "#test_prediction_argmax=np.argmax(test_prediction, axis=4)[0,:,:,:]\n",
    "\n",
    "\n",
    "print(test_prediction_argmax.shape)\n",
    "print(test_mask_argmax.shape)\n",
    "print(np.unique(test_prediction_argmax))"
   ]
  },
  {
   "cell_type": "code",
   "execution_count": null,
   "id": "4abf0de0",
   "metadata": {},
   "outputs": [],
   "source": [
    "\n",
    "\n",
    "#n_slice=random.randint(0, test_prediction_argmax.shape[2])\n",
    "n_slice = 55\n",
    "plt.figure(figsize=(12, 8))\n",
    "plt.subplot(231)\n",
    "plt.title('Testing Image')\n",
    "plt.imshow(test_img[:,:,n_slice,1], cmap='gray')\n",
    "plt.subplot(232)\n",
    "plt.title('Testing Label')\n",
    "plt.imshow(test_mask_argmax[:,:,n_slice])\n",
    "plt.subplot(233)\n",
    "plt.title('Prediction on test image')\n",
    "plt.imshow(test_prediction_argmax[:,:, n_slice])\n",
    "plt.show()"
   ]
  },
  {
   "cell_type": "code",
   "execution_count": null,
   "id": "a0d7fd48",
   "metadata": {},
   "outputs": [],
   "source": []
  }
 ],
 "metadata": {
  "kernelspec": {
   "display_name": "Python 3 (ipykernel)",
   "language": "python",
   "name": "python3"
  },
  "language_info": {
   "codemirror_mode": {
    "name": "ipython",
    "version": 3
   },
   "file_extension": ".py",
   "mimetype": "text/x-python",
   "name": "python",
   "nbconvert_exporter": "python",
   "pygments_lexer": "ipython3",
   "version": "3.10.9"
  }
 },
 "nbformat": 4,
 "nbformat_minor": 5
}
