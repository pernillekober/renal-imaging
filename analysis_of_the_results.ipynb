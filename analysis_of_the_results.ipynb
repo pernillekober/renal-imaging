{
 "cells": [
  {
   "cell_type": "code",
   "execution_count": 75,
   "id": "ba959d4f",
   "metadata": {},
   "outputs": [],
   "source": [
    "# libraries\n",
    "\n",
    "import nibabel as nib\n",
    "import matplotlib.pyplot as plt\n",
    "import json\n",
    "import pandas as pd\n",
    "import numpy as np\n",
    "import sys\n",
    "import numpy\n",
    "import tensorflow as tf\n",
    "numpy.set_printoptions(threshold=sys.maxsize)\n",
    "from sklearn.metrics import precision_score, recall_score, confusion_matrix,classification_report,roc_curve, roc_auc_score\n",
    "import matplotlib.pyplot as plt"
   ]
  },
  {
   "cell_type": "code",
   "execution_count": 57,
   "id": "1e8c6367",
   "metadata": {},
   "outputs": [],
   "source": [
    "sys.path.append('/path/to/2014_07_13_test')\n",
    "import generate_input\n",
    "import batch_load_preprocess"
   ]
  },
  {
   "cell_type": "markdown",
   "id": "2c61abb1",
   "metadata": {},
   "source": [
    "## Load model"
   ]
  },
  {
   "cell_type": "code",
   "execution_count": 58,
   "id": "2485d634",
   "metadata": {},
   "outputs": [],
   "source": [
    "# load validation set\n",
    "val_case = ['case_00233', 'case_00089', 'case_00050', 'case_00112', 'case_00258', 'case_00246', 'case_00157', 'case_00149','case_00184']\n",
    "test_case = ['case_00221', 'case_00259', 'case_00087', 'case_00254', 'case_00098', 'case_00023', 'case_00041',\n",
    "             'case_00080', 'case_00101', 'case_00164', 'case_00002', 'case_00110', 'case_00030', 'case_00068',\n",
    "             'case_00026', 'case_00063', 'case_00006', 'case_00048', 'case_00250', 'case_00238', 'case_00015',\n",
    "             'case_00111', 'case_00278', 'case_00133', 'case_00284', 'case_00282', 'case_00269', 'case_00039',\n",
    "             'case_00033', 'case_00108', 'case_00175', 'case_00161', 'case_00256', 'case_00119', 'case_00286',\n",
    "             'case_00077', 'case_00162', 'case_00270', 'case_00271', 'case_00285', 'case_00174', 'case_00147',\n",
    "             'case_00215', 'case_00150', 'case_00052', 'case_00231', 'case_00198', 'case_00117', 'case_00138',\n",
    "             'case_00211', 'case_00190', 'case_00248', 'case_00235', 'case_00049', 'case_00074', 'case_00107',\n",
    "             'case_00218', 'case_00001', 'case_00193', 'case_00067', 'case_00289', 'case_00072', 'case_00044',\n",
    "             'case_00294', 'case_00298', 'case_00263', 'case_00038', 'case_00299', 'case_00249', 'case_00225',\n",
    "             'case_00217', 'case_00178', 'case_00082', 'case_00035', 'case_00034', 'case_00047', 'case_00276',\n",
    "             'case_00151', 'case_00226', 'case_00086', 'case_00176']"
   ]
  },
  {
   "cell_type": "code",
   "execution_count": 59,
   "id": "dc43ad6d",
   "metadata": {},
   "outputs": [],
   "source": [
    "# load json and create model\n",
    "json_file = open('baseline_model/model1_binary2.json', 'r')\n",
    "loaded_model_json = json_file.read()\n",
    "json_file.close()\n",
    "loaded_model = tf.keras.models.model_from_json(loaded_model_json)\n",
    "# load weights into new model\n",
    "loaded_model.load_weights(\"baseline_model/model1_binary2.h5\")"
   ]
  },
  {
   "cell_type": "code",
   "execution_count": 60,
   "id": "7291edb0",
   "metadata": {},
   "outputs": [],
   "source": [
    "# evaluate loaded model on test data\n",
    "optimizer_fn = tf.keras.optimizers.experimental.RMSprop(learning_rate=0.001, jit_compile = False)\n",
    "metrics_list = [tf.keras.metrics.AUC(name = 'auc'),\n",
    "                tf.keras.metrics.BinaryAccuracy(name = 'accuracy')]\n",
    "loaded_model.compile(optimizer = optimizer_fn, loss='binary_crossentropy', metrics= metrics_list)"
   ]
  },
  {
   "cell_type": "markdown",
   "id": "244a4bbd",
   "metadata": {},
   "source": [
    "## Load data"
   ]
  },
  {
   "cell_type": "code",
   "execution_count": 61,
   "id": "6b5903b7",
   "metadata": {},
   "outputs": [],
   "source": [
    "def generate_part_label_dict(labels_dict, list_of_cases):\n",
    "    return {k: labels_dict[k] for k in list_of_cases}\n",
    "\n",
    "def load_data(rootdir, img_dir, json_path, list_cases, isLabels = False):\n",
    "    val_path = generate_input.processed_image_paths(rootdir, img_dir)\n",
    "    labels_dict = generate_input.malignant_labels_to_dict(json_path)\n",
    "    labels_dict_short = generate_part_label_dict(labels_dict, list_cases)\n",
    "    image_dict_short = generate_input.load_nifti_img_and_mask_as_numpy(val_path, list_cases)\n",
    "    x_set, y_set, labels_val = generate_input.fill_set(list_cases, labels_dict_short, image_dict_short, labels_dict, True)\n",
    "    \n",
    "    x_set = generate_input.adding_channel(x_set)\n",
    "    if isLabels == True:\n",
    "        return x_set, y_set, labels_val\n",
    "    else:\n",
    "        return x_set, y_set\n",
    "\n",
    "def adding_channel_dict(image_dict):\n",
    "    \"\"\"Convert from one channel to three channel images that are stored in dictionary \"\"\"\n",
    "    for key in image_dict:\n",
    "        image_dict[key] = generate_input.adding_channel(image_dict[key])\n",
    "    return image_dict\n",
    "\n",
    "def load_data_to_evaluate_by_majority_voting(rootdir, img_dir, json_path, list_cases):\n",
    "    \"\"\" Load images and labels in dictionary format \"\"\"\n",
    "    val_path = generate_input.processed_image_paths(rootdir, img_dir)\n",
    "    labels_dict = generate_input.malignant_labels_to_dict(json_path)\n",
    "    labels_dict_short = generate_part_label_dict(labels_dict, list_cases)\n",
    "    labels_dict_short = {key: float(value) for key, value in labels_dict_short.items()}\n",
    "    \n",
    "    image_dict_short = generate_input.load_nifti_img_and_mask_as_numpy(val_path, list_cases)\n",
    "    image_dict_short = adding_channel_dict(image_dict_short)\n",
    "    return image_dict_short, labels_dict_short\n",
    "    \n",
    "def create_prediction_dict(image_dict, model):\n",
    "    \"\"\" Create dictionary with prediction on patient-level using majority voting \"\"\"\n",
    "    pred_dict = {}\n",
    "    for key in image_dict:\n",
    "        y_pred = model.predict(image_dict[key])\n",
    "        pred_dict[key] = np.round(np.sum(y_pred)/len(y_pred))\n",
    "    return pred_dict\n",
    "\n",
    "def create_true_and_prediction_lists(true_dict, pred_dict):\n",
    "    \"\"\" Convert dictionaries into lists for evaluation \"\"\"\n",
    "    common_keys = true_dict.keys() & pred_dict.keys()\n",
    "    true_lst = []\n",
    "    pred_lst = [] \n",
    "    key_lst = []\n",
    "    for key in common_keys:\n",
    "        true_lst.append(true_dict[key])\n",
    "        pred_lst.append(pred_dict[key])   \n",
    "        key_lst.append(key)\n",
    "    return true_lst, pred_lst,key_lst"
   ]
  },
  {
   "cell_type": "code",
   "execution_count": 62,
   "id": "5852f499",
   "metadata": {},
   "outputs": [],
   "source": [
    "test_dict, test_label_dict = load_data_to_evaluate_by_majority_voting('./preprocessed-data/', 'images', '../kits21/kits21/data/kits.json', test_case)"
   ]
  },
  {
   "cell_type": "code",
   "execution_count": 63,
   "id": "b8450106",
   "metadata": {},
   "outputs": [
    {
     "data": {
      "text/plain": [
       "81"
      ]
     },
     "execution_count": 63,
     "metadata": {},
     "output_type": "execute_result"
    }
   ],
   "source": [
    "len(test_dict)"
   ]
  },
  {
   "cell_type": "code",
   "execution_count": 9,
   "id": "99889be4",
   "metadata": {
    "scrolled": true
   },
   "outputs": [
    {
     "name": "stdout",
     "output_type": "stream",
     "text": [
      "1/1 [==============================] - 0s 51ms/step\n",
      "1/1 [==============================] - 0s 36ms/step\n",
      "6/6 [==============================] - 0s 64ms/step\n",
      "1/1 [==============================] - 0s 34ms/step\n",
      "2/2 [==============================] - 0s 69ms/step\n",
      "1/1 [==============================] - 0s 59ms/step\n",
      "9/9 [==============================] - 0s 41ms/step\n",
      "7/7 [==============================] - 0s 39ms/step\n",
      "1/1 [==============================] - 0s 103ms/step\n",
      "2/2 [==============================] - 0s 45ms/step\n",
      "4/4 [==============================] - 0s 49ms/step\n",
      "1/1 [==============================] - 0s 69ms/step\n",
      "6/6 [==============================] - 1s 140ms/step\n",
      "7/7 [==============================] - 0s 47ms/step\n",
      "1/1 [==============================] - 0s 23ms/step\n",
      "2/2 [==============================] - 0s 75ms/step\n",
      "2/2 [==============================] - 1s 609ms/step\n",
      "7/7 [==============================] - 1s 126ms/step\n",
      "7/7 [==============================] - 0s 41ms/step\n",
      "1/1 [==============================] - 0s 24ms/step\n",
      "8/8 [==============================] - 0s 39ms/step\n",
      "1/1 [==============================] - 0s 24ms/step\n",
      "1/1 [==============================] - 0s 25ms/step\n",
      "5/5 [==============================] - 0s 39ms/step\n",
      "2/2 [==============================] - 1s 525ms/step\n",
      "2/2 [==============================] - 0s 49ms/step\n",
      "2/2 [==============================] - 1s 645ms/step\n",
      "1/1 [==============================] - 0s 487ms/step\n",
      "1/1 [==============================] - 0s 266ms/step\n",
      "1/1 [==============================] - 0s 274ms/step\n",
      "1/1 [==============================] - 0s 27ms/step\n",
      "1/1 [==============================] - 1s 642ms/step\n",
      "1/1 [==============================] - 1s 645ms/step\n",
      "2/2 [==============================] - 1s 626ms/step\n",
      "1/1 [==============================] - 0s 26ms/step\n",
      "2/2 [==============================] - 0s 137ms/step\n",
      "4/4 [==============================] - 1s 151ms/step\n",
      "1/1 [==============================] - 0s 29ms/step\n"
     ]
    }
   ],
   "source": [
    "test_pred_dict = create_prediction_dict(test_dict, loaded_model)"
   ]
  },
  {
   "cell_type": "code",
   "execution_count": 10,
   "id": "2736cd84",
   "metadata": {},
   "outputs": [],
   "source": [
    "# number of slices in each 3D array\n",
    "number_slices = {}\n",
    "for i in test_case:\n",
    "    number_slices[i] = np.load('/Users/sippo/renal-imaging/preprocessed-data/images/' + i +  '.npy').shape[0]"
   ]
  },
  {
   "cell_type": "code",
   "execution_count": 11,
   "id": "dd248d13",
   "metadata": {},
   "outputs": [
    {
     "name": "stdout",
     "output_type": "stream",
     "text": [
      "22\n",
      "328\n"
     ]
    }
   ],
   "source": [
    "print(number_slices[min(number_slices, key=number_slices.get)])\n",
    "print(number_slices[max(number_slices, key=number_slices.get)])"
   ]
  },
  {
   "cell_type": "code",
   "execution_count": 12,
   "id": "d4176ee1",
   "metadata": {},
   "outputs": [
    {
     "data": {
      "image/png": "[encoded data removed]",
      "text/plain": [
       "<Figure size 640x480 with 1 Axes>"
      ]
     },
     "metadata": {},
     "output_type": "display_data"
    }
   ],
   "source": [
    "plt.hist(number_slices.values())\n",
    "plt.xlabel('Number of slices in each case')\n",
    "plt.ylabel('Number of Patients')\n",
    "plt.show()"
   ]
  },
  {
   "cell_type": "code",
   "execution_count": 13,
   "id": "05e57a09",
   "metadata": {},
   "outputs": [],
   "source": [
    "x_test, y_test, labels_test = load_data('./preprocessed-data/', 'images', '../kits21/kits21/data/kits.json', test_case, True)"
   ]
  },
  {
   "cell_type": "code",
   "execution_count": 14,
   "id": "c3318e50",
   "metadata": {},
   "outputs": [
    {
     "name": "stdout",
     "output_type": "stream",
     "text": [
      "193/193 [==============================] - 8s 42ms/step\n"
     ]
    }
   ],
   "source": [
    "y_pred_test = loaded_model.predict(x_test)"
   ]
  },
  {
   "cell_type": "code",
   "execution_count": 15,
   "id": "8b87ea4d",
   "metadata": {},
   "outputs": [],
   "source": [
    "count_plus = {}\n",
    "count_neg = {}\n",
    "for i in zip(y_test,  y_pred_test.round(), labels_test):\n",
    "    if i[2] not in count_plus:\n",
    "        count_plus[i[2]] = 0\n",
    "    if i[2] not in count_neg:\n",
    "        count_neg[i[2]] = 0\n",
    "\n",
    "    if i[0] == i[1]:\n",
    "        count_plus[i[2]] += 1\n",
    "    else:\n",
    "        count_neg[i[2]] += 1\n",
    "        \n",
    "dict_neg = count_neg"
   ]
  },
  {
   "cell_type": "code",
   "execution_count": 16,
   "id": "7f61cd12",
   "metadata": {},
   "outputs": [],
   "source": [
    "test_true_lst, test_pred_lst, test_keys = create_true_and_prediction_lists(test_label_dict, test_pred_dict)"
   ]
  },
  {
   "cell_type": "code",
   "execution_count": 17,
   "id": "bd7e012c",
   "metadata": {},
   "outputs": [],
   "source": [
    "count_plus_maj = {}\n",
    "count_neg_maj = {}\n",
    "for i in zip(test_true_lst,  test_pred_lst, test_keys):\n",
    "    if i[2] not in count_plus_maj:\n",
    "        count_plus_maj[i[2]] = 0\n",
    "    if i[2] not in count_neg_maj:\n",
    "        count_neg_maj[i[2]] = 0\n",
    "\n",
    "    if i[0] == i[1]:\n",
    "        count_plus_maj[i[2]] += 1\n",
    "    else:\n",
    "        count_neg_maj[i[2]] += 1\n",
    "        \n",
    "neg_predicted_cases = count_neg_maj"
   ]
  },
  {
   "cell_type": "markdown",
   "id": "3b97fea6",
   "metadata": {},
   "source": [
    "## Results analysis"
   ]
  },
  {
   "cell_type": "code",
   "execution_count": 18,
   "id": "249e7652",
   "metadata": {},
   "outputs": [
    {
     "name": "stdout",
     "output_type": "stream",
     "text": [
      "<class 'pandas.core.frame.DataFrame'>\n",
      "RangeIndex: 300 entries, 0 to 299\n",
      "Data columns (total 63 columns):\n",
      " #   Column                                                    Non-Null Count  Dtype  \n",
      "---  ------                                                    --------------  -----  \n",
      " 0   case_id                                                   300 non-null    object \n",
      " 1   age_at_nephrectomy                                        300 non-null    int64  \n",
      " 2   gender                                                    300 non-null    object \n",
      " 3   body_mass_index                                           300 non-null    float64\n",
      " 4   smoking_history                                           300 non-null    object \n",
      " 5   age_when_quit_smoking                                     265 non-null    object \n",
      " 6   pack_years                                                194 non-null    object \n",
      " 7   chewing_tobacco_use                                       300 non-null    object \n",
      " 8   alcohol_use                                               300 non-null    object \n",
      " 9   hospitalization                                           300 non-null    object \n",
      " 10  ischemia_time                                             287 non-null    object \n",
      " 11  radiographic_size                                         300 non-null    float64\n",
      " 12  pathologic_size                                           300 non-null    float64\n",
      " 13  malignant                                                 300 non-null    bool   \n",
      " 14  pathology_t_stage                                         300 non-null    object \n",
      " 15  pathology_n_stage                                         300 non-null    object \n",
      " 16  pathology_m_stage                                         300 non-null    object \n",
      " 17  tumor_histologic_subtype                                  300 non-null    object \n",
      " 18  tumor_necrosis                                            266 non-null    object \n",
      " 19  tumor_isup_grade                                          244 non-null    float64\n",
      " 20  clavien_surgical_complications                            299 non-null    object \n",
      " 21  er_visit                                                  297 non-null    object \n",
      " 22  readmission                                               297 non-null    object \n",
      " 23  estimated_blood_loss                                      299 non-null    float64\n",
      " 24  surgery_type                                              300 non-null    object \n",
      " 25  surgical_procedure                                        300 non-null    object \n",
      " 26  surgical_approach                                         300 non-null    object \n",
      " 27  operative_time                                            298 non-null    float64\n",
      " 28  cytoreductive                                             300 non-null    bool   \n",
      " 29  positive_resection_margins                                300 non-null    bool   \n",
      " 30  vital_status                                              300 non-null    object \n",
      " 31  vital_days_after_surgery                                  300 non-null    object \n",
      " 32  comorbidities.myocardial_infarction                       300 non-null    bool   \n",
      " 33  comorbidities.congestive_heart_failure                    300 non-null    bool   \n",
      " 34  comorbidities.peripheral_vascular_disease                 300 non-null    bool   \n",
      " 35  comorbidities.cerebrovascular_disease                     300 non-null    bool   \n",
      " 36  comorbidities.dementia                                    300 non-null    bool   \n",
      " 37  comorbidities.copd                                        300 non-null    bool   \n",
      " 38  comorbidities.connective_tissue_disease                   300 non-null    bool   \n",
      " 39  comorbidities.peptic_ulcer_disease                        300 non-null    bool   \n",
      " 40  comorbidities.uncomplicated_diabetes_mellitus             300 non-null    bool   \n",
      " 41  comorbidities.diabetes_mellitus_with_end_organ_damage     300 non-null    bool   \n",
      " 42  comorbidities.chronic_kidney_disease                      300 non-null    bool   \n",
      " 43  comorbidities.hemiplegia_from_stroke                      300 non-null    bool   \n",
      " 44  comorbidities.leukemia                                    300 non-null    bool   \n",
      " 45  comorbidities.malignant_lymphoma                          300 non-null    bool   \n",
      " 46  comorbidities.localized_solid_tumor                       300 non-null    bool   \n",
      " 47  comorbidities.metastatic_solid_tumor                      300 non-null    bool   \n",
      " 48  comorbidities.mild_liver_disease                          300 non-null    bool   \n",
      " 49  comorbidities.moderate_to_severe_liver_disease            300 non-null    bool   \n",
      " 50  comorbidities.aids                                        300 non-null    bool   \n",
      " 51  intraoperative_complications.blood_transfusion            300 non-null    bool   \n",
      " 52  intraoperative_complications.injury_to_surrounding_organ  300 non-null    bool   \n",
      " 53  intraoperative_complications.cardiac_event                300 non-null    bool   \n",
      " 54  last_preop_egfr.value                                     226 non-null    object \n",
      " 55  last_preop_egfr.days_before_nephrectomy                   226 non-null    float64\n",
      " 56  first_postop_egfr.value                                   228 non-null    object \n",
      " 57  first_postop_egfr.days_before_nephrectomy                 228 non-null    float64\n",
      " 58  last_postop_egfr.value                                    228 non-null    object \n",
      " 59  last_postop_egfr.days_before_nephrectomy                  228 non-null    float64\n",
      " 60  voxel_spacing.x_spacing                                   300 non-null    float64\n",
      " 61  voxel_spacing.y_spacing                                   300 non-null    float64\n",
      " 62  voxel_spacing.z_spacing                                   300 non-null    float64\n",
      "dtypes: bool(25), float64(12), int64(1), object(25)\n",
      "memory usage: 96.5+ KB\n"
     ]
    }
   ],
   "source": [
    "linkMetadata = '../kits21/kits21/data/kits.json'\n",
    "dataJson = json.load(open(linkMetadata))\n",
    "df = pd.json_normalize(dataJson)\n",
    "df.info()"
   ]
  },
  {
   "cell_type": "code",
   "execution_count": 19,
   "id": "558dbada",
   "metadata": {},
   "outputs": [
    {
     "data": {
      "text/plain": [
       "malignant  tumor_histologic_subtype \n",
       "False      angiomyolipoma                 5\n",
       "           mest                           3\n",
       "           oncocytoma                    16\n",
       "           spindle_cell_neoplasm          1\n",
       "True       chromophobe                   27\n",
       "           clear_cell_papillary_rcc       7\n",
       "           clear_cell_rcc               204\n",
       "           collecting_duct_undefined      1\n",
       "           multilocular_cystic_rcc        1\n",
       "           other                          1\n",
       "           papillary                     28\n",
       "           rcc_unclassified               2\n",
       "           urothelial                     3\n",
       "           wilms                          1\n",
       "Name: tumor_histologic_subtype, dtype: int64"
      ]
     },
     "execution_count": 19,
     "metadata": {},
     "output_type": "execute_result"
    }
   ],
   "source": [
    "# check number of cases by subtype\n",
    "df.groupby(['malignant','tumor_histologic_subtype'])['tumor_histologic_subtype'].count()"
   ]
  },
  {
   "cell_type": "code",
   "execution_count": 20,
   "id": "3cf806c1",
   "metadata": {},
   "outputs": [],
   "source": [
    "# add columns to data\n",
    "df['numberNegativePred'] = df['case_id'].map(dict_neg)\n",
    "df['numberSlices'] = df['case_id'].map(number_slices)\n",
    "df['negPredictedcases'] = df['case_id'].map(neg_predicted_cases)"
   ]
  },
  {
   "cell_type": "code",
   "execution_count": null,
   "id": "56466284",
   "metadata": {},
   "outputs": [],
   "source": []
  },
  {
   "cell_type": "markdown",
   "id": "7e56b208",
   "metadata": {},
   "source": [
    "## check share of incorrectly predicted slices in each case"
   ]
  },
  {
   "cell_type": "code",
   "execution_count": 21,
   "id": "add8779a",
   "metadata": {},
   "outputs": [
    {
     "data": {
      "text/html": [
       "<div>\n",
       "<style scoped>\n",
       "    .dataframe tbody tr th:only-of-type {\n",
       "        vertical-align: middle;\n",
       "    }\n",
       "\n",
       "    .dataframe tbody tr th {\n",
       "        vertical-align: top;\n",
       "    }\n",
       "\n",
       "    .dataframe thead th {\n",
       "        text-align: right;\n",
       "    }\n",
       "</style>\n",
       "<table border=\"1\" class=\"dataframe\">\n",
       "  <thead>\n",
       "    <tr style=\"text-align: right;\">\n",
       "      <th></th>\n",
       "      <th>malignant</th>\n",
       "      <th>tumor_histologic_subtype</th>\n",
       "      <th>case_id</th>\n",
       "      <th>0</th>\n",
       "    </tr>\n",
       "  </thead>\n",
       "  <tbody>\n",
       "    <tr>\n",
       "      <th>0</th>\n",
       "      <td>False</td>\n",
       "      <td>angiomyolipoma</td>\n",
       "      <td>case_00176</td>\n",
       "      <td>18.518519</td>\n",
       "    </tr>\n",
       "    <tr>\n",
       "      <th>1</th>\n",
       "      <td>False</td>\n",
       "      <td>mest</td>\n",
       "      <td>case_00133</td>\n",
       "      <td>37.254902</td>\n",
       "    </tr>\n",
       "    <tr>\n",
       "      <th>2</th>\n",
       "      <td>False</td>\n",
       "      <td>mest</td>\n",
       "      <td>case_00211</td>\n",
       "      <td>58.823529</td>\n",
       "    </tr>\n",
       "    <tr>\n",
       "      <th>3</th>\n",
       "      <td>False</td>\n",
       "      <td>oncocytoma</td>\n",
       "      <td>case_00077</td>\n",
       "      <td>96.666667</td>\n",
       "    </tr>\n",
       "    <tr>\n",
       "      <th>4</th>\n",
       "      <td>False</td>\n",
       "      <td>oncocytoma</td>\n",
       "      <td>case_00082</td>\n",
       "      <td>100.000000</td>\n",
       "    </tr>\n",
       "    <tr>\n",
       "      <th>...</th>\n",
       "      <td>...</td>\n",
       "      <td>...</td>\n",
       "      <td>...</td>\n",
       "      <td>...</td>\n",
       "    </tr>\n",
       "    <tr>\n",
       "      <th>76</th>\n",
       "      <td>True</td>\n",
       "      <td>papillary</td>\n",
       "      <td>case_00068</td>\n",
       "      <td>43.612335</td>\n",
       "    </tr>\n",
       "    <tr>\n",
       "      <th>77</th>\n",
       "      <td>True</td>\n",
       "      <td>papillary</td>\n",
       "      <td>case_00108</td>\n",
       "      <td>100.000000</td>\n",
       "    </tr>\n",
       "    <tr>\n",
       "      <th>78</th>\n",
       "      <td>True</td>\n",
       "      <td>papillary</td>\n",
       "      <td>case_00162</td>\n",
       "      <td>18.181818</td>\n",
       "    </tr>\n",
       "    <tr>\n",
       "      <th>79</th>\n",
       "      <td>True</td>\n",
       "      <td>papillary</td>\n",
       "      <td>case_00215</td>\n",
       "      <td>100.000000</td>\n",
       "    </tr>\n",
       "    <tr>\n",
       "      <th>80</th>\n",
       "      <td>True</td>\n",
       "      <td>papillary</td>\n",
       "      <td>case_00299</td>\n",
       "      <td>20.689655</td>\n",
       "    </tr>\n",
       "  </tbody>\n",
       "</table>\n",
       "<p>81 rows × 4 columns</p>\n",
       "</div>"
      ],
      "text/plain": [
       "    malignant tumor_histologic_subtype     case_id           0\n",
       "0       False           angiomyolipoma  case_00176   18.518519\n",
       "1       False                     mest  case_00133   37.254902\n",
       "2       False                     mest  case_00211   58.823529\n",
       "3       False               oncocytoma  case_00077   96.666667\n",
       "4       False               oncocytoma  case_00082  100.000000\n",
       "..        ...                      ...         ...         ...\n",
       "76       True                papillary  case_00068   43.612335\n",
       "77       True                papillary  case_00108  100.000000\n",
       "78       True                papillary  case_00162   18.181818\n",
       "79       True                papillary  case_00215  100.000000\n",
       "80       True                papillary  case_00299   20.689655\n",
       "\n",
       "[81 rows x 4 columns]"
      ]
     },
     "execution_count": 21,
     "metadata": {},
     "output_type": "execute_result"
    }
   ],
   "source": [
    "# share of incorrectly predicted slices in each case\n",
    "df_small = df[['case_id','malignant','tumor_histologic_subtype', 'numberNegativePred', 'numberSlices']]\n",
    "\n",
    "incorrectly_predicted_slices = df_small.groupby(['malignant','tumor_histologic_subtype', 'case_id'])['numberNegativePred'].sum() # negative pred\n",
    "sclices_by_case = df_small.groupby(['malignant','tumor_histologic_subtype', 'case_id'])['numberSlices'].sum() # all slices\n",
    "\n",
    "incorrectly_predicted_slices = incorrectly_predicted_slices[incorrectly_predicted_slices>0]\n",
    "sclices_by_case = sclices_by_case[sclices_by_case>0]\n",
    "\n",
    "\n",
    "share_of_incorrect_slices = incorrectly_predicted_slices*100/sclices_by_case\n",
    "share_of_incorrect_slices = share_of_incorrect_slices.reset_index(drop=False)\n",
    "share_of_incorrect_slices"
   ]
  },
  {
   "cell_type": "code",
   "execution_count": 22,
   "id": "33bed279",
   "metadata": {},
   "outputs": [
    {
     "data": {
      "text/html": [
       "<div>\n",
       "<style scoped>\n",
       "    .dataframe tbody tr th:only-of-type {\n",
       "        vertical-align: middle;\n",
       "    }\n",
       "\n",
       "    .dataframe tbody tr th {\n",
       "        vertical-align: top;\n",
       "    }\n",
       "\n",
       "    .dataframe thead th {\n",
       "        text-align: right;\n",
       "    }\n",
       "</style>\n",
       "<table border=\"1\" class=\"dataframe\">\n",
       "  <thead>\n",
       "    <tr style=\"text-align: right;\">\n",
       "      <th></th>\n",
       "      <th>malignant</th>\n",
       "      <th>tumor_histologic_subtype</th>\n",
       "      <th>case_id</th>\n",
       "      <th>0</th>\n",
       "    </tr>\n",
       "  </thead>\n",
       "  <tbody>\n",
       "    <tr>\n",
       "      <th>3</th>\n",
       "      <td>False</td>\n",
       "      <td>oncocytoma</td>\n",
       "      <td>case_00077</td>\n",
       "      <td>96.67</td>\n",
       "    </tr>\n",
       "    <tr>\n",
       "      <th>4</th>\n",
       "      <td>False</td>\n",
       "      <td>oncocytoma</td>\n",
       "      <td>case_00082</td>\n",
       "      <td>100.00</td>\n",
       "    </tr>\n",
       "    <tr>\n",
       "      <th>6</th>\n",
       "      <td>False</td>\n",
       "      <td>oncocytoma</td>\n",
       "      <td>case_00238</td>\n",
       "      <td>100.00</td>\n",
       "    </tr>\n",
       "    <tr>\n",
       "      <th>12</th>\n",
       "      <td>True</td>\n",
       "      <td>clear_cell_rcc</td>\n",
       "      <td>case_00015</td>\n",
       "      <td>100.00</td>\n",
       "    </tr>\n",
       "    <tr>\n",
       "      <th>26</th>\n",
       "      <td>True</td>\n",
       "      <td>clear_cell_rcc</td>\n",
       "      <td>case_00067</td>\n",
       "      <td>92.94</td>\n",
       "    </tr>\n",
       "    <tr>\n",
       "      <th>56</th>\n",
       "      <td>True</td>\n",
       "      <td>clear_cell_rcc</td>\n",
       "      <td>case_00248</td>\n",
       "      <td>100.00</td>\n",
       "    </tr>\n",
       "    <tr>\n",
       "      <th>69</th>\n",
       "      <td>True</td>\n",
       "      <td>clear_cell_rcc</td>\n",
       "      <td>case_00289</td>\n",
       "      <td>91.30</td>\n",
       "    </tr>\n",
       "    <tr>\n",
       "      <th>73</th>\n",
       "      <td>True</td>\n",
       "      <td>papillary</td>\n",
       "      <td>case_00002</td>\n",
       "      <td>96.91</td>\n",
       "    </tr>\n",
       "    <tr>\n",
       "      <th>77</th>\n",
       "      <td>True</td>\n",
       "      <td>papillary</td>\n",
       "      <td>case_00108</td>\n",
       "      <td>100.00</td>\n",
       "    </tr>\n",
       "    <tr>\n",
       "      <th>79</th>\n",
       "      <td>True</td>\n",
       "      <td>papillary</td>\n",
       "      <td>case_00215</td>\n",
       "      <td>100.00</td>\n",
       "    </tr>\n",
       "  </tbody>\n",
       "</table>\n",
       "</div>"
      ],
      "text/plain": [
       "    malignant tumor_histologic_subtype     case_id       0\n",
       "3       False               oncocytoma  case_00077   96.67\n",
       "4       False               oncocytoma  case_00082  100.00\n",
       "6       False               oncocytoma  case_00238  100.00\n",
       "12       True           clear_cell_rcc  case_00015  100.00\n",
       "26       True           clear_cell_rcc  case_00067   92.94\n",
       "56       True           clear_cell_rcc  case_00248  100.00\n",
       "69       True           clear_cell_rcc  case_00289   91.30\n",
       "73       True                papillary  case_00002   96.91\n",
       "77       True                papillary  case_00108  100.00\n",
       "79       True                papillary  case_00215  100.00"
      ]
     },
     "execution_count": 22,
     "metadata": {},
     "output_type": "execute_result"
    }
   ],
   "source": [
    "# check where share is bigger than 90%\n",
    "round(share_of_incorrect_slices[share_of_incorrect_slices[0]>90],2)"
   ]
  },
  {
   "cell_type": "code",
   "execution_count": 23,
   "id": "6f1f9bc9",
   "metadata": {},
   "outputs": [
    {
     "data": {
      "image/png": "[encoded data removed]",
      "text/plain": [
       "<Figure size 640x480 with 1 Axes>"
      ]
     },
     "metadata": {},
     "output_type": "display_data"
    }
   ],
   "source": [
    "plt.hist(share_of_incorrect_slices[0])\n",
    "plt.xlabel('Share of inccorectly predicted slices in each Patient')\n",
    "plt.ylabel('Number of Patients')\n",
    "plt.show() # how big share of the case was wrongly predicted "
   ]
  },
  {
   "cell_type": "markdown",
   "id": "e3030563",
   "metadata": {},
   "source": [
    "## misclassified cases on patient-level"
   ]
  },
  {
   "cell_type": "code",
   "execution_count": 24,
   "id": "96170c09",
   "metadata": {},
   "outputs": [
    {
     "data": {
      "text/plain": [
       "malignant  tumor_histologic_subtype \n",
       "False      angiomyolipoma                0.000000\n",
       "           mest                               NaN\n",
       "           oncocytoma                   50.000000\n",
       "           spindle_cell_neoplasm              NaN\n",
       "True       chromophobe                   0.000000\n",
       "           clear_cell_papillary_rcc      0.000000\n",
       "           clear_cell_rcc                6.557377\n",
       "           collecting_duct_undefined          NaN\n",
       "           multilocular_cystic_rcc            NaN\n",
       "           other                              NaN\n",
       "           papillary                    33.333333\n",
       "           rcc_unclassified                   NaN\n",
       "           urothelial                         NaN\n",
       "           wilms                              NaN\n",
       "dtype: float64"
      ]
     },
     "execution_count": 24,
     "metadata": {},
     "output_type": "execute_result"
    }
   ],
   "source": [
    "# all test cases grouped\n",
    "all_cases_in_test = df_small.groupby(['malignant','tumor_histologic_subtype'])['numberNegativePred'].count()\n",
    "all_cases_in_test\n",
    "\n",
    "df_cases = df.dropna(axis='index', subset=['negPredictedcases']) \n",
    "df_cases = df_cases.reset_index(drop=True)\n",
    "\n",
    "# take only needed columns\n",
    "df_cases = df_cases[['case_id','malignant','tumor_histologic_subtype', 'numberNegativePred', 'numberSlices', 'negPredictedcases']]\n",
    "df_cases.groupby(['malignant','tumor_histologic_subtype'])['negPredictedcases'].sum() * 100 / all_cases_in_test"
   ]
  },
  {
   "cell_type": "code",
   "execution_count": null,
   "id": "821e11a2",
   "metadata": {},
   "outputs": [],
   "source": []
  },
  {
   "cell_type": "markdown",
   "id": "b776791c",
   "metadata": {},
   "source": [
    "## Check classification of tumor by slices"
   ]
  },
  {
   "cell_type": "code",
   "execution_count": 25,
   "id": "66c6c8bb",
   "metadata": {},
   "outputs": [],
   "source": [
    "test_mask_dict, test_label_dict = load_data_to_evaluate_by_majority_voting('./preprocessed-data/', 'masks', '../kits21/kits21/data/kits.json', test_case)"
   ]
  },
  {
   "cell_type": "code",
   "execution_count": 68,
   "id": "dd19d3be",
   "metadata": {},
   "outputs": [],
   "source": [
    "def remove_images_without_class(dictionary_3D_img, dictionary_3D_msk, class_channel):\n",
    "    \"\"\"Based on mask presence of segmentation values in mask images; identifies indexes of \n",
    "    empty masks and removes them from given images and masks dictionaries\"\"\"\n",
    "    \n",
    "    dictionary_3D_images = dictionary_3D_img.copy()\n",
    "    dictionary_3D_masks = dictionary_3D_msk.copy()\n",
    "    \n",
    "    class_to_keep = float(class_channel)\n",
    "    idx_remove_dict = {}\n",
    "    \n",
    "    #identifying position of images to remove from image dictionary\n",
    "    for key, value in dictionary_3D_masks.items():\n",
    "        idx_list = []\n",
    "        \n",
    "        #checks max value in mask in each 3D image volume and saves idexes of images to remove\n",
    "        for idx, img in enumerate(value):\n",
    "            if not class_to_keep in img:\n",
    "       \n",
    "                idx_list.append(idx)\n",
    "                 \n",
    "        idx_remove_dict[key] = idx_list\n",
    "        \n",
    "    #removing images corresponding to \"empty\" mask images\n",
    "    for key, value in idx_remove_dict.items():\n",
    "        dictionary_3D_images[key] = np.delete(dictionary_3D_images[key], value, axis=0)\n",
    "        dictionary_3D_masks[key] = np.delete(dictionary_3D_masks[key], value, axis=0)\n",
    "    \n",
    "    return dictionary_3D_images, dictionary_3D_masks"
   ]
  },
  {
   "cell_type": "code",
   "execution_count": 69,
   "id": "b54f8868",
   "metadata": {},
   "outputs": [],
   "source": [
    "image_dict_tumor, mask_dict_tumor = remove_images_without_class(test_dict, test_mask_dict, 2) "
   ]
  },
  {
   "cell_type": "code",
   "execution_count": null,
   "id": "70ffc233",
   "metadata": {},
   "outputs": [],
   "source": []
  },
  {
   "cell_type": "code",
   "execution_count": null,
   "id": "3e88521a",
   "metadata": {},
   "outputs": [],
   "source": []
  },
  {
   "cell_type": "code",
   "execution_count": 85,
   "id": "bc7b6707",
   "metadata": {},
   "outputs": [],
   "source": [
    "def load_data_tumor(image_dict_short, json_path, list_cases, isLabels = False):\n",
    "#    val_path = generate_input.processed_image_paths(rootdir, img_dir)\n",
    "    labels_dict = generate_input.malignant_labels_to_dict(json_path)\n",
    "    labels_dict_short = generate_part_label_dict(labels_dict, list_cases)\n",
    "#    image_dict_short = generate_input.load_nifti_img_and_mask_as_numpy(val_path, list_cases)\n",
    "    x_set, y_set, labels_val = generate_input.fill_set(list_cases, labels_dict_short, image_dict_short, labels_dict, True)\n",
    "    \n",
    "    if isLabels == True:\n",
    "        return x_set, y_set, labels_val\n",
    "    else:\n",
    "        return x_set, y_set"
   ]
  },
  {
   "cell_type": "code",
   "execution_count": 86,
   "id": "e8aa41db",
   "metadata": {},
   "outputs": [],
   "source": [
    "x_test_tumor_only, y_test_tumor_only = load_data_tumor(image_dict_tumor, '../kits21/kits21/data/kits.json', test_case)"
   ]
  },
  {
   "cell_type": "code",
   "execution_count": 90,
   "id": "aa9cf23f",
   "metadata": {},
   "outputs": [
    {
     "name": "stdout",
     "output_type": "stream",
     "text": [
      "              precision    recall  f1-score   support\n",
      "\n",
      "         0.0     0.0583    0.4660    0.1037       103\n",
      "         1.0     0.9631    0.6496    0.7759      2212\n",
      "\n",
      "    accuracy                         0.6415      2315\n",
      "   macro avg     0.5107    0.5578    0.4398      2315\n",
      "weighted avg     0.9229    0.6415    0.7460      2315\n",
      "\n"
     ]
    }
   ],
   "source": [
    "print(classification_report(y_test_tumor_only, y_pred_test_tumor.round(), digits = 4))"
   ]
  },
  {
   "cell_type": "code",
   "execution_count": 96,
   "id": "218f8d92",
   "metadata": {},
   "outputs": [
    {
     "name": "stdout",
     "output_type": "stream",
     "text": [
      "[[  48   55]\n",
      " [ 775 1437]]\n"
     ]
    }
   ],
   "source": [
    "tumor_only = confusion_matrix(y_test_tumor_only, y_pred_test_tumor.round())\n",
    "print(confusion_matrix(y_test_tumor_only, y_pred_test_tumor.round())) "
   ]
  },
  {
   "cell_type": "code",
   "execution_count": 95,
   "id": "cc41b0ae",
   "metadata": {},
   "outputs": [],
   "source": [
    "full_test_data = np.array([[  84,  171], \n",
    "                           [1753, 4143]])"
   ]
  },
  {
   "cell_type": "code",
   "execution_count": null,
   "id": "fcfc43f4",
   "metadata": {},
   "outputs": [],
   "source": []
  },
  {
   "cell_type": "code",
   "execution_count": 99,
   "id": "2b414749",
   "metadata": {},
   "outputs": [
    {
     "data": {
      "text/plain": [
       "array([[0.57142857, 0.32163743],\n",
       "       [0.44209926, 0.34685011]])"
      ]
     },
     "execution_count": 99,
     "metadata": {},
     "output_type": "execute_result"
    }
   ],
   "source": [
    "tumor_only/full_test_data"
   ]
  },
  {
   "cell_type": "code",
   "execution_count": 100,
   "id": "1f19af3d",
   "metadata": {},
   "outputs": [
    {
     "data": {
      "text/plain": [
       "0.35131298793470545"
      ]
     },
     "execution_count": 100,
     "metadata": {},
     "output_type": "execute_result"
    }
   ],
   "source": [
    "(1437+48)/(4143+84)"
   ]
  },
  {
   "cell_type": "code",
   "execution_count": 101,
   "id": "c52f3147",
   "metadata": {},
   "outputs": [
    {
     "data": {
      "text/plain": [
       "0.4313929313929314"
      ]
     },
     "execution_count": 101,
     "metadata": {},
     "output_type": "execute_result"
    }
   ],
   "source": [
    "(775+55)/(1753+ 171)"
   ]
  },
  {
   "cell_type": "markdown",
   "id": "00f83945",
   "metadata": {},
   "source": [
    "## Check share of cases with at least one slice misclassified"
   ]
  },
  {
   "cell_type": "code",
   "execution_count": 27,
   "id": "5bba1849",
   "metadata": {},
   "outputs": [
    {
     "data": {
      "text/plain": [
       "malignant  tumor_histologic_subtype \n",
       "False      angiomyolipoma               1.000000\n",
       "           mest                         1.000000\n",
       "           oncocytoma                   1.000000\n",
       "           spindle_cell_neoplasm             NaN\n",
       "True       chromophobe                  0.666667\n",
       "           clear_cell_papillary_rcc          NaN\n",
       "           clear_cell_rcc               0.639344\n",
       "           collecting_duct_undefined         NaN\n",
       "           multilocular_cystic_rcc           NaN\n",
       "           other                             NaN\n",
       "           papillary                    0.777778\n",
       "           rcc_unclassified                  NaN\n",
       "           urothelial                        NaN\n",
       "           wilms                             NaN\n",
       "Name: numberNegativePred, dtype: float64"
      ]
     },
     "execution_count": 27,
     "metadata": {},
     "output_type": "execute_result"
    }
   ],
   "source": [
    "# check what share from test cases were misclassified with at least one misclassified slice\n",
    "df_test = df[['case_id','malignant','tumor_histologic_subtype', 'numberNegativePred', 'numberSlices']]\n",
    "df_test = df.dropna(axis='index', subset=['numberNegativePred']) \n",
    "df_test = df_test.reset_index(drop=True)\n",
    "\n",
    "negative_only = df_test[df_test['numberNegativePred']>0]\n",
    "misclassfied_cases = negative_only.groupby(['malignant','tumor_histologic_subtype'])['numberNegativePred'].count()\n",
    "misclassfied_cases / all_cases_in_test"
   ]
  },
  {
   "cell_type": "code",
   "execution_count": null,
   "id": "90b40f65",
   "metadata": {},
   "outputs": [],
   "source": []
  },
  {
   "cell_type": "markdown",
   "id": "24c43e6e",
   "metadata": {},
   "source": [
    "## Check what cases could be excluded"
   ]
  },
  {
   "cell_type": "code",
   "execution_count": 28,
   "id": "09bc8d7c",
   "metadata": {
    "scrolled": false
   },
   "outputs": [
    {
     "data": {
      "text/html": [
       "<div>\n",
       "<style scoped>\n",
       "    .dataframe tbody tr th:only-of-type {\n",
       "        vertical-align: middle;\n",
       "    }\n",
       "\n",
       "    .dataframe tbody tr th {\n",
       "        vertical-align: top;\n",
       "    }\n",
       "\n",
       "    .dataframe thead th {\n",
       "        text-align: right;\n",
       "    }\n",
       "</style>\n",
       "<table border=\"1\" class=\"dataframe\">\n",
       "  <thead>\n",
       "    <tr style=\"text-align: right;\">\n",
       "      <th></th>\n",
       "      <th>index</th>\n",
       "      <th>case_id</th>\n",
       "      <th>malignant</th>\n",
       "      <th>tumor_histologic_subtype</th>\n",
       "      <th>numberNegativePred</th>\n",
       "      <th>numberSlices</th>\n",
       "    </tr>\n",
       "  </thead>\n",
       "  <tbody>\n",
       "    <tr>\n",
       "      <th>0</th>\n",
       "      <td>18</td>\n",
       "      <td>case_00018</td>\n",
       "      <td>True</td>\n",
       "      <td>rcc_unclassified</td>\n",
       "      <td>NaN</td>\n",
       "      <td>NaN</td>\n",
       "    </tr>\n",
       "    <tr>\n",
       "      <th>1</th>\n",
       "      <td>31</td>\n",
       "      <td>case_00031</td>\n",
       "      <td>False</td>\n",
       "      <td>spindle_cell_neoplasm</td>\n",
       "      <td>NaN</td>\n",
       "      <td>NaN</td>\n",
       "    </tr>\n",
       "    <tr>\n",
       "      <th>2</th>\n",
       "      <td>42</td>\n",
       "      <td>case_00042</td>\n",
       "      <td>False</td>\n",
       "      <td>mest</td>\n",
       "      <td>NaN</td>\n",
       "      <td>NaN</td>\n",
       "    </tr>\n",
       "    <tr>\n",
       "      <th>3</th>\n",
       "      <td>56</td>\n",
       "      <td>case_00056</td>\n",
       "      <td>True</td>\n",
       "      <td>clear_cell_papillary_rcc</td>\n",
       "      <td>NaN</td>\n",
       "      <td>NaN</td>\n",
       "    </tr>\n",
       "    <tr>\n",
       "      <th>4</th>\n",
       "      <td>88</td>\n",
       "      <td>case_00088</td>\n",
       "      <td>True</td>\n",
       "      <td>wilms</td>\n",
       "      <td>NaN</td>\n",
       "      <td>NaN</td>\n",
       "    </tr>\n",
       "    <tr>\n",
       "      <th>5</th>\n",
       "      <td>90</td>\n",
       "      <td>case_00090</td>\n",
       "      <td>True</td>\n",
       "      <td>urothelial</td>\n",
       "      <td>NaN</td>\n",
       "      <td>NaN</td>\n",
       "    </tr>\n",
       "    <tr>\n",
       "      <th>6</th>\n",
       "      <td>92</td>\n",
       "      <td>case_00092</td>\n",
       "      <td>True</td>\n",
       "      <td>rcc_unclassified</td>\n",
       "      <td>NaN</td>\n",
       "      <td>NaN</td>\n",
       "    </tr>\n",
       "    <tr>\n",
       "      <th>7</th>\n",
       "      <td>106</td>\n",
       "      <td>case_00106</td>\n",
       "      <td>True</td>\n",
       "      <td>multilocular_cystic_rcc</td>\n",
       "      <td>NaN</td>\n",
       "      <td>NaN</td>\n",
       "    </tr>\n",
       "    <tr>\n",
       "      <th>8</th>\n",
       "      <td>120</td>\n",
       "      <td>case_00120</td>\n",
       "      <td>True</td>\n",
       "      <td>clear_cell_papillary_rcc</td>\n",
       "      <td>NaN</td>\n",
       "      <td>NaN</td>\n",
       "    </tr>\n",
       "    <tr>\n",
       "      <th>9</th>\n",
       "      <td>133</td>\n",
       "      <td>case_00133</td>\n",
       "      <td>False</td>\n",
       "      <td>mest</td>\n",
       "      <td>4.0</td>\n",
       "      <td>51.0</td>\n",
       "    </tr>\n",
       "    <tr>\n",
       "      <th>10</th>\n",
       "      <td>183</td>\n",
       "      <td>case_00183</td>\n",
       "      <td>True</td>\n",
       "      <td>clear_cell_papillary_rcc</td>\n",
       "      <td>NaN</td>\n",
       "      <td>NaN</td>\n",
       "    </tr>\n",
       "    <tr>\n",
       "      <th>11</th>\n",
       "      <td>200</td>\n",
       "      <td>case_00200</td>\n",
       "      <td>True</td>\n",
       "      <td>clear_cell_papillary_rcc</td>\n",
       "      <td>NaN</td>\n",
       "      <td>NaN</td>\n",
       "    </tr>\n",
       "    <tr>\n",
       "      <th>12</th>\n",
       "      <td>211</td>\n",
       "      <td>case_00211</td>\n",
       "      <td>False</td>\n",
       "      <td>mest</td>\n",
       "      <td>42.0</td>\n",
       "      <td>51.0</td>\n",
       "    </tr>\n",
       "    <tr>\n",
       "      <th>13</th>\n",
       "      <td>228</td>\n",
       "      <td>case_00228</td>\n",
       "      <td>True</td>\n",
       "      <td>clear_cell_papillary_rcc</td>\n",
       "      <td>NaN</td>\n",
       "      <td>NaN</td>\n",
       "    </tr>\n",
       "    <tr>\n",
       "      <th>14</th>\n",
       "      <td>234</td>\n",
       "      <td>case_00234</td>\n",
       "      <td>True</td>\n",
       "      <td>clear_cell_papillary_rcc</td>\n",
       "      <td>NaN</td>\n",
       "      <td>NaN</td>\n",
       "    </tr>\n",
       "    <tr>\n",
       "      <th>15</th>\n",
       "      <td>237</td>\n",
       "      <td>case_00237</td>\n",
       "      <td>True</td>\n",
       "      <td>urothelial</td>\n",
       "      <td>NaN</td>\n",
       "      <td>NaN</td>\n",
       "    </tr>\n",
       "    <tr>\n",
       "      <th>16</th>\n",
       "      <td>249</td>\n",
       "      <td>case_00249</td>\n",
       "      <td>True</td>\n",
       "      <td>clear_cell_papillary_rcc</td>\n",
       "      <td>0.0</td>\n",
       "      <td>108.0</td>\n",
       "    </tr>\n",
       "    <tr>\n",
       "      <th>17</th>\n",
       "      <td>277</td>\n",
       "      <td>case_00277</td>\n",
       "      <td>True</td>\n",
       "      <td>urothelial</td>\n",
       "      <td>NaN</td>\n",
       "      <td>NaN</td>\n",
       "    </tr>\n",
       "    <tr>\n",
       "      <th>18</th>\n",
       "      <td>288</td>\n",
       "      <td>case_00288</td>\n",
       "      <td>True</td>\n",
       "      <td>other</td>\n",
       "      <td>NaN</td>\n",
       "      <td>NaN</td>\n",
       "    </tr>\n",
       "    <tr>\n",
       "      <th>19</th>\n",
       "      <td>291</td>\n",
       "      <td>case_00291</td>\n",
       "      <td>True</td>\n",
       "      <td>collecting_duct_undefined</td>\n",
       "      <td>NaN</td>\n",
       "      <td>NaN</td>\n",
       "    </tr>\n",
       "  </tbody>\n",
       "</table>\n",
       "</div>"
      ],
      "text/plain": [
       "    index     case_id  malignant   tumor_histologic_subtype  \\\n",
       "0      18  case_00018       True           rcc_unclassified   \n",
       "1      31  case_00031      False      spindle_cell_neoplasm   \n",
       "2      42  case_00042      False                       mest   \n",
       "3      56  case_00056       True   clear_cell_papillary_rcc   \n",
       "4      88  case_00088       True                      wilms   \n",
       "5      90  case_00090       True                 urothelial   \n",
       "6      92  case_00092       True           rcc_unclassified   \n",
       "7     106  case_00106       True    multilocular_cystic_rcc   \n",
       "8     120  case_00120       True   clear_cell_papillary_rcc   \n",
       "9     133  case_00133      False                       mest   \n",
       "10    183  case_00183       True   clear_cell_papillary_rcc   \n",
       "11    200  case_00200       True   clear_cell_papillary_rcc   \n",
       "12    211  case_00211      False                       mest   \n",
       "13    228  case_00228       True   clear_cell_papillary_rcc   \n",
       "14    234  case_00234       True   clear_cell_papillary_rcc   \n",
       "15    237  case_00237       True                 urothelial   \n",
       "16    249  case_00249       True   clear_cell_papillary_rcc   \n",
       "17    277  case_00277       True                 urothelial   \n",
       "18    288  case_00288       True                      other   \n",
       "19    291  case_00291       True  collecting_duct_undefined   \n",
       "\n",
       "    numberNegativePred  numberSlices  \n",
       "0                  NaN           NaN  \n",
       "1                  NaN           NaN  \n",
       "2                  NaN           NaN  \n",
       "3                  NaN           NaN  \n",
       "4                  NaN           NaN  \n",
       "5                  NaN           NaN  \n",
       "6                  NaN           NaN  \n",
       "7                  NaN           NaN  \n",
       "8                  NaN           NaN  \n",
       "9                  4.0          51.0  \n",
       "10                 NaN           NaN  \n",
       "11                 NaN           NaN  \n",
       "12                42.0          51.0  \n",
       "13                 NaN           NaN  \n",
       "14                 NaN           NaN  \n",
       "15                 NaN           NaN  \n",
       "16                 0.0         108.0  \n",
       "17                 NaN           NaN  \n",
       "18                 NaN           NaN  \n",
       "19                 NaN           NaN  "
      ]
     },
     "execution_count": 28,
     "metadata": {},
     "output_type": "execute_result"
    }
   ],
   "source": [
    "oncocytoma = df_small['tumor_histologic_subtype'] != 'oncocytoma'\n",
    "clear_cell_rcc = df_small['tumor_histologic_subtype'] != 'clear_cell_rcc'\n",
    "chromophobe = df_small['tumor_histologic_subtype'] != 'chromophobe'\n",
    "papillary = df_small['tumor_histologic_subtype'] != 'papillary'\n",
    "\n",
    "angiomyolipoma = df_small['tumor_histologic_subtype'] != 'angiomyolipoma'\n",
    "\n",
    "\n",
    "n = df_small[(oncocytoma) & (clear_cell_rcc) & (chromophobe) &(papillary) &(angiomyolipoma)]\n",
    "n.reset_index()"
   ]
  },
  {
   "cell_type": "code",
   "execution_count": 29,
   "id": "504df605",
   "metadata": {},
   "outputs": [
    {
     "data": {
      "text/html": [
       "<div>\n",
       "<style scoped>\n",
       "    .dataframe tbody tr th:only-of-type {\n",
       "        vertical-align: middle;\n",
       "    }\n",
       "\n",
       "    .dataframe tbody tr th {\n",
       "        vertical-align: top;\n",
       "    }\n",
       "\n",
       "    .dataframe thead th {\n",
       "        text-align: right;\n",
       "    }\n",
       "</style>\n",
       "<table border=\"1\" class=\"dataframe\">\n",
       "  <thead>\n",
       "    <tr style=\"text-align: right;\">\n",
       "      <th></th>\n",
       "      <th>case_id</th>\n",
       "      <th>malignant</th>\n",
       "      <th>tumor_histologic_subtype</th>\n",
       "    </tr>\n",
       "  </thead>\n",
       "  <tbody>\n",
       "    <tr>\n",
       "      <th>17</th>\n",
       "      <td>case_00017</td>\n",
       "      <td>False</td>\n",
       "      <td>angiomyolipoma</td>\n",
       "    </tr>\n",
       "    <tr>\n",
       "      <th>19</th>\n",
       "      <td>case_00019</td>\n",
       "      <td>False</td>\n",
       "      <td>oncocytoma</td>\n",
       "    </tr>\n",
       "    <tr>\n",
       "      <th>20</th>\n",
       "      <td>case_00020</td>\n",
       "      <td>False</td>\n",
       "      <td>oncocytoma</td>\n",
       "    </tr>\n",
       "    <tr>\n",
       "      <th>31</th>\n",
       "      <td>case_00031</td>\n",
       "      <td>False</td>\n",
       "      <td>spindle_cell_neoplasm</td>\n",
       "    </tr>\n",
       "    <tr>\n",
       "      <th>42</th>\n",
       "      <td>case_00042</td>\n",
       "      <td>False</td>\n",
       "      <td>mest</td>\n",
       "    </tr>\n",
       "    <tr>\n",
       "      <th>43</th>\n",
       "      <td>case_00043</td>\n",
       "      <td>False</td>\n",
       "      <td>angiomyolipoma</td>\n",
       "    </tr>\n",
       "    <tr>\n",
       "      <th>77</th>\n",
       "      <td>case_00077</td>\n",
       "      <td>False</td>\n",
       "      <td>oncocytoma</td>\n",
       "    </tr>\n",
       "    <tr>\n",
       "      <th>82</th>\n",
       "      <td>case_00082</td>\n",
       "      <td>False</td>\n",
       "      <td>oncocytoma</td>\n",
       "    </tr>\n",
       "    <tr>\n",
       "      <th>104</th>\n",
       "      <td>case_00104</td>\n",
       "      <td>False</td>\n",
       "      <td>oncocytoma</td>\n",
       "    </tr>\n",
       "    <tr>\n",
       "      <th>116</th>\n",
       "      <td>case_00116</td>\n",
       "      <td>False</td>\n",
       "      <td>oncocytoma</td>\n",
       "    </tr>\n",
       "    <tr>\n",
       "      <th>133</th>\n",
       "      <td>case_00133</td>\n",
       "      <td>False</td>\n",
       "      <td>mest</td>\n",
       "    </tr>\n",
       "    <tr>\n",
       "      <th>137</th>\n",
       "      <td>case_00137</td>\n",
       "      <td>False</td>\n",
       "      <td>angiomyolipoma</td>\n",
       "    </tr>\n",
       "    <tr>\n",
       "      <th>155</th>\n",
       "      <td>case_00155</td>\n",
       "      <td>False</td>\n",
       "      <td>oncocytoma</td>\n",
       "    </tr>\n",
       "    <tr>\n",
       "      <th>156</th>\n",
       "      <td>case_00156</td>\n",
       "      <td>False</td>\n",
       "      <td>oncocytoma</td>\n",
       "    </tr>\n",
       "    <tr>\n",
       "      <th>176</th>\n",
       "      <td>case_00176</td>\n",
       "      <td>False</td>\n",
       "      <td>angiomyolipoma</td>\n",
       "    </tr>\n",
       "    <tr>\n",
       "      <th>188</th>\n",
       "      <td>case_00188</td>\n",
       "      <td>False</td>\n",
       "      <td>oncocytoma</td>\n",
       "    </tr>\n",
       "    <tr>\n",
       "      <th>202</th>\n",
       "      <td>case_00202</td>\n",
       "      <td>False</td>\n",
       "      <td>oncocytoma</td>\n",
       "    </tr>\n",
       "    <tr>\n",
       "      <th>205</th>\n",
       "      <td>case_00205</td>\n",
       "      <td>False</td>\n",
       "      <td>angiomyolipoma</td>\n",
       "    </tr>\n",
       "    <tr>\n",
       "      <th>211</th>\n",
       "      <td>case_00211</td>\n",
       "      <td>False</td>\n",
       "      <td>mest</td>\n",
       "    </tr>\n",
       "    <tr>\n",
       "      <th>225</th>\n",
       "      <td>case_00225</td>\n",
       "      <td>False</td>\n",
       "      <td>oncocytoma</td>\n",
       "    </tr>\n",
       "    <tr>\n",
       "      <th>238</th>\n",
       "      <td>case_00238</td>\n",
       "      <td>False</td>\n",
       "      <td>oncocytoma</td>\n",
       "    </tr>\n",
       "    <tr>\n",
       "      <th>253</th>\n",
       "      <td>case_00253</td>\n",
       "      <td>False</td>\n",
       "      <td>oncocytoma</td>\n",
       "    </tr>\n",
       "    <tr>\n",
       "      <th>258</th>\n",
       "      <td>case_00258</td>\n",
       "      <td>False</td>\n",
       "      <td>oncocytoma</td>\n",
       "    </tr>\n",
       "    <tr>\n",
       "      <th>275</th>\n",
       "      <td>case_00275</td>\n",
       "      <td>False</td>\n",
       "      <td>oncocytoma</td>\n",
       "    </tr>\n",
       "    <tr>\n",
       "      <th>279</th>\n",
       "      <td>case_00279</td>\n",
       "      <td>False</td>\n",
       "      <td>oncocytoma</td>\n",
       "    </tr>\n",
       "  </tbody>\n",
       "</table>\n",
       "</div>"
      ],
      "text/plain": [
       "        case_id  malignant tumor_histologic_subtype\n",
       "17   case_00017      False           angiomyolipoma\n",
       "19   case_00019      False               oncocytoma\n",
       "20   case_00020      False               oncocytoma\n",
       "31   case_00031      False    spindle_cell_neoplasm\n",
       "42   case_00042      False                     mest\n",
       "43   case_00043      False           angiomyolipoma\n",
       "77   case_00077      False               oncocytoma\n",
       "82   case_00082      False               oncocytoma\n",
       "104  case_00104      False               oncocytoma\n",
       "116  case_00116      False               oncocytoma\n",
       "133  case_00133      False                     mest\n",
       "137  case_00137      False           angiomyolipoma\n",
       "155  case_00155      False               oncocytoma\n",
       "156  case_00156      False               oncocytoma\n",
       "176  case_00176      False           angiomyolipoma\n",
       "188  case_00188      False               oncocytoma\n",
       "202  case_00202      False               oncocytoma\n",
       "205  case_00205      False           angiomyolipoma\n",
       "211  case_00211      False                     mest\n",
       "225  case_00225      False               oncocytoma\n",
       "238  case_00238      False               oncocytoma\n",
       "253  case_00253      False               oncocytoma\n",
       "258  case_00258      False               oncocytoma\n",
       "275  case_00275      False               oncocytoma\n",
       "279  case_00279      False               oncocytoma"
      ]
     },
     "execution_count": 29,
     "metadata": {},
     "output_type": "execute_result"
    }
   ],
   "source": [
    "df[['case_id','malignant','tumor_histologic_subtype']][df['malignant'] == False]"
   ]
  },
  {
   "cell_type": "code",
   "execution_count": null,
   "id": "daa1b1ad",
   "metadata": {},
   "outputs": [],
   "source": []
  }
 ],
 "metadata": {
  "kernelspec": {
   "display_name": "Python 3 (ipykernel)",
   "language": "python",
   "name": "python3"
  },
  "language_info": {
   "codemirror_mode": {
    "name": "ipython",
    "version": 3
   },
   "file_extension": ".py",
   "mimetype": "text/x-python",
   "name": "python",
   "nbconvert_exporter": "python",
   "pygments_lexer": "ipython3",
   "version": "3.10.9"
  }
 },
 "nbformat": 4,
 "nbformat_minor": 5
}
