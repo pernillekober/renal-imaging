{
 "cells": [
  {
   "cell_type": "code",
   "execution_count": 2,
   "id": "cc95da12",
   "metadata": {},
   "outputs": [],
   "source": [
    "#For importing modules\n",
    "import os, sys\n",
    "\n",
    "#For file handling\n",
    "from glob import glob\n",
    "from os import listdir\n",
    "from os.path import isfile, join\n",
    "import json \n",
    "\n",
    "#For image processing\n",
    "import PIL\n",
    "import cv2\n",
    "import nibabel as nib\n",
    "import nibabel.processing \n",
    "from nibabel.processing import resample_to_output\n",
    "import nilearn\n",
    "\n",
    "#Image visualisation\n",
    "import matplotlib.pyplot as plt\n",
    "\n",
    "#Other\n",
    "import numpy as np\n",
    "import math\n",
    "from random import sample\n",
    "\n",
    "#Modeling\n",
    "import tensorflow as tf\n",
    "import scipy\n",
    "import sklearn\n",
    "from sklearn.model_selection import train_test_split\n",
    "from nilearn.image import concat_imgs, mean_img, resample_img\n",
    "\n",
    "import tensorflow as tflow\n",
    "from tensorflow.keras.layers import Flatten\n",
    "from keras.layers.core import Dense\n",
    "from tensorflow.keras.models import Sequential\n",
    "from tensorflow.keras.optimizers import Adam"
   ]
  },
  {
   "cell_type": "code",
   "execution_count": 3,
   "id": "b642b8a0",
   "metadata": {},
   "outputs": [],
   "source": [
    "import tensorflow as tf\n",
    "import scipy\n",
    "import sklearn\n",
    "from sklearn.model_selection import train_test_split\n",
    "from nilearn.image import concat_imgs, mean_img, resample_img\n",
    "\n",
    "import tensorflow as tflow\n",
    "from tensorflow.keras.layers import Flatten, Dense, Dropout\n",
    "from keras.layers.core import Dense\n",
    "from tensorflow.keras.models import Sequential\n",
    "from tensorflow.keras.optimizers import Adam\n",
    "\n",
    "import os\n",
    "\n",
    "import nibabel as nib\n",
    "import nilearn\n",
    "\n",
    "import json \n",
    "\n",
    "import numpy as np\n",
    "import math\n",
    "from random import sample\n",
    "\n",
    "from sklearn.utils.class_weight import compute_class_weight"
   ]
  },
  {
   "cell_type": "code",
   "execution_count": 4,
   "id": "8134298c",
   "metadata": {},
   "outputs": [],
   "source": [
    "sys.path.append('/path/to/2014_07_13_test')\n",
    "import generate_input"
   ]
  },
  {
   "cell_type": "code",
   "execution_count": 5,
   "id": "6aca621d",
   "metadata": {},
   "outputs": [
    {
     "name": "stdout",
     "output_type": "stream",
     "text": [
      "README.md                batch-load-preprocess.py test.ipynb\r\n",
      "\u001b[34m__pycache__\u001b[m\u001b[m              generate_input.py\r\n",
      "baseline-model.ipynb     \u001b[34mpreprocessed-data\u001b[m\u001b[m\r\n"
     ]
    }
   ],
   "source": [
    "!ls './'"
   ]
  },
  {
   "cell_type": "code",
   "execution_count": 6,
   "id": "a2595455",
   "metadata": {},
   "outputs": [
    {
     "name": "stdout",
     "output_type": "stream",
     "text": [
      "case_00000.nii.gz case_00075.nii.gz case_00150.nii.gz case_00225.nii.gz\r\n",
      "case_00001.nii.gz case_00076.nii.gz case_00151.nii.gz case_00226.nii.gz\r\n",
      "case_00002.nii.gz case_00077.nii.gz case_00152.nii.gz case_00227.nii.gz\r\n",
      "case_00003.nii.gz case_00078.nii.gz case_00153.nii.gz case_00228.nii.gz\r\n",
      "case_00004.nii.gz case_00079.nii.gz case_00154.nii.gz case_00229.nii.gz\r\n",
      "case_00005.nii.gz case_00080.nii.gz case_00155.nii.gz case_00230.nii.gz\r\n",
      "case_00006.nii.gz case_00081.nii.gz case_00156.nii.gz case_00231.nii.gz\r\n",
      "case_00007.nii.gz case_00082.nii.gz case_00157.nii.gz case_00232.nii.gz\r\n",
      "case_00008.nii.gz case_00083.nii.gz case_00158.nii.gz case_00233.nii.gz\r\n",
      "case_00009.nii.gz case_00084.nii.gz case_00159.nii.gz case_00234.nii.gz\r\n",
      "case_00010.nii.gz case_00085.nii.gz case_00160.nii.gz case_00235.nii.gz\r\n",
      "case_00011.nii.gz case_00086.nii.gz case_00161.nii.gz case_00236.nii.gz\r\n",
      "case_00012.nii.gz case_00087.nii.gz case_00162.nii.gz case_00237.nii.gz\r\n",
      "case_00013.nii.gz case_00088.nii.gz case_00163.nii.gz case_00238.nii.gz\r\n",
      "case_00014.nii.gz case_00089.nii.gz case_00164.nii.gz case_00239.nii.gz\r\n",
      "case_00015.nii.gz case_00090.nii.gz case_00165.nii.gz case_00240.nii.gz\r\n",
      "case_00016.nii.gz case_00091.nii.gz case_00166.nii.gz case_00241.nii.gz\r\n",
      "case_00017.nii.gz case_00092.nii.gz case_00167.nii.gz case_00242.nii.gz\r\n",
      "case_00018.nii.gz case_00093.nii.gz case_00168.nii.gz case_00243.nii.gz\r\n",
      "case_00019.nii.gz case_00094.nii.gz case_00169.nii.gz case_00244.nii.gz\r\n",
      "case_00020.nii.gz case_00095.nii.gz case_00170.nii.gz case_00245.nii.gz\r\n",
      "case_00021.nii.gz case_00096.nii.gz case_00171.nii.gz case_00246.nii.gz\r\n",
      "case_00022.nii.gz case_00097.nii.gz case_00172.nii.gz case_00247.nii.gz\r\n",
      "case_00023.nii.gz case_00098.nii.gz case_00173.nii.gz case_00248.nii.gz\r\n",
      "case_00024.nii.gz case_00099.nii.gz case_00174.nii.gz case_00249.nii.gz\r\n",
      "case_00025.nii.gz case_00100.nii.gz case_00175.nii.gz case_00250.nii.gz\r\n",
      "case_00026.nii.gz case_00101.nii.gz case_00176.nii.gz case_00251.nii.gz\r\n",
      "case_00027.nii.gz case_00102.nii.gz case_00177.nii.gz case_00252.nii.gz\r\n",
      "case_00028.nii.gz case_00103.nii.gz case_00178.nii.gz case_00253.nii.gz\r\n",
      "case_00029.nii.gz case_00104.nii.gz case_00179.nii.gz case_00254.nii.gz\r\n",
      "case_00030.nii.gz case_00105.nii.gz case_00180.nii.gz case_00255.nii.gz\r\n",
      "case_00031.nii.gz case_00106.nii.gz case_00181.nii.gz case_00256.nii.gz\r\n",
      "case_00032.nii.gz case_00107.nii.gz case_00182.nii.gz case_00257.nii.gz\r\n",
      "case_00033.nii.gz case_00108.nii.gz case_00183.nii.gz case_00258.nii.gz\r\n",
      "case_00034.nii.gz case_00109.nii.gz case_00184.nii.gz case_00259.nii.gz\r\n",
      "case_00035.nii.gz case_00110.nii.gz case_00185.nii.gz case_00260.nii.gz\r\n",
      "case_00036.nii.gz case_00111.nii.gz case_00186.nii.gz case_00261.nii.gz\r\n",
      "case_00037.nii.gz case_00112.nii.gz case_00187.nii.gz case_00262.nii.gz\r\n",
      "case_00038.nii.gz case_00113.nii.gz case_00188.nii.gz case_00263.nii.gz\r\n",
      "case_00039.nii.gz case_00114.nii.gz case_00189.nii.gz case_00264.nii.gz\r\n",
      "case_00040.nii.gz case_00115.nii.gz case_00190.nii.gz case_00265.nii.gz\r\n",
      "case_00041.nii.gz case_00116.nii.gz case_00191.nii.gz case_00266.nii.gz\r\n",
      "case_00042.nii.gz case_00117.nii.gz case_00192.nii.gz case_00267.nii.gz\r\n",
      "case_00043.nii.gz case_00118.nii.gz case_00193.nii.gz case_00268.nii.gz\r\n",
      "case_00044.nii.gz case_00119.nii.gz case_00194.nii.gz case_00269.nii.gz\r\n",
      "case_00045.nii.gz case_00120.nii.gz case_00195.nii.gz case_00270.nii.gz\r\n",
      "case_00046.nii.gz case_00121.nii.gz case_00196.nii.gz case_00271.nii.gz\r\n",
      "case_00047.nii.gz case_00122.nii.gz case_00197.nii.gz case_00272.nii.gz\r\n",
      "case_00048.nii.gz case_00123.nii.gz case_00198.nii.gz case_00273.nii.gz\r\n",
      "case_00049.nii.gz case_00124.nii.gz case_00199.nii.gz case_00274.nii.gz\r\n",
      "case_00050.nii.gz case_00125.nii.gz case_00200.nii.gz case_00275.nii.gz\r\n",
      "case_00051.nii.gz case_00126.nii.gz case_00201.nii.gz case_00276.nii.gz\r\n",
      "case_00052.nii.gz case_00127.nii.gz case_00202.nii.gz case_00277.nii.gz\r\n",
      "case_00053.nii.gz case_00128.nii.gz case_00203.nii.gz case_00278.nii.gz\r\n",
      "case_00054.nii.gz case_00129.nii.gz case_00204.nii.gz case_00279.nii.gz\r\n",
      "case_00055.nii.gz case_00130.nii.gz case_00205.nii.gz case_00280.nii.gz\r\n",
      "case_00056.nii.gz case_00131.nii.gz case_00206.nii.gz case_00281.nii.gz\r\n",
      "case_00057.nii.gz case_00132.nii.gz case_00207.nii.gz case_00282.nii.gz\r\n",
      "case_00058.nii.gz case_00133.nii.gz case_00208.nii.gz case_00283.nii.gz\r\n",
      "case_00059.nii.gz case_00134.nii.gz case_00209.nii.gz case_00284.nii.gz\r\n",
      "case_00060.nii.gz case_00135.nii.gz case_00210.nii.gz case_00285.nii.gz\r\n",
      "case_00061.nii.gz case_00136.nii.gz case_00211.nii.gz case_00286.nii.gz\r\n",
      "case_00062.nii.gz case_00137.nii.gz case_00212.nii.gz case_00287.nii.gz\r\n",
      "case_00063.nii.gz case_00138.nii.gz case_00213.nii.gz case_00288.nii.gz\r\n",
      "case_00064.nii.gz case_00139.nii.gz case_00214.nii.gz case_00289.nii.gz\r\n",
      "case_00065.nii.gz case_00140.nii.gz case_00215.nii.gz case_00290.nii.gz\r\n",
      "case_00066.nii.gz case_00141.nii.gz case_00216.nii.gz case_00291.nii.gz\r\n",
      "case_00067.nii.gz case_00142.nii.gz case_00217.nii.gz case_00292.nii.gz\r\n",
      "case_00068.nii.gz case_00143.nii.gz case_00218.nii.gz case_00293.nii.gz\r\n",
      "case_00069.nii.gz case_00144.nii.gz case_00219.nii.gz case_00294.nii.gz\r\n",
      "case_00070.nii.gz case_00145.nii.gz case_00220.nii.gz case_00295.nii.gz\r\n",
      "case_00071.nii.gz case_00146.nii.gz case_00221.nii.gz case_00296.nii.gz\r\n",
      "case_00072.nii.gz case_00147.nii.gz case_00222.nii.gz case_00297.nii.gz\r\n",
      "case_00073.nii.gz case_00148.nii.gz case_00223.nii.gz case_00298.nii.gz\r\n",
      "case_00074.nii.gz case_00149.nii.gz case_00224.nii.gz case_00299.nii.gz\r\n"
     ]
    }
   ],
   "source": [
    "!ls './preprocessed-data/images/'"
   ]
  },
  {
   "cell_type": "code",
   "execution_count": 7,
   "id": "afd758f4",
   "metadata": {},
   "outputs": [
    {
     "name": "stdout",
     "output_type": "stream",
     "text": [
      "Number of labels in labels_dict:  300\n",
      "Generated list of 50 case IDs of 275 positive and 25 negative labels\n",
      "Are image and mask path list the same lenght?:  True\n",
      "Are image and mask dictionaries the same lenght?: True\n",
      "Are cases and labels lists the same length?:  True 50 50\n",
      "Generated training, validation and test with 30, 10 and 10 cases.\n",
      "Are training set and labels lists the same length?:  True 6549 6549\n",
      "After adding channels:  (6549, 224, 224, 3) (2748, 224, 224, 3) (1444, 224, 224, 3)\n"
     ]
    }
   ],
   "source": [
    "x_train, y_train, x_val, y_val, x_test, y_test = generate_input.generate_data_input(\n",
    "    '../kits21/kits21/data/kits.json', n_samples = 50, neg_pct = 100, rootdir = './preprocessed-data/', \n",
    "    img_dir = 'images', mask_dir = 'masks', val_split = 10, test_split = 10)"
   ]
  },
  {
   "cell_type": "code",
   "execution_count": null,
   "id": "bd1fe7f7",
   "metadata": {},
   "outputs": [],
   "source": []
  },
  {
   "cell_type": "code",
   "execution_count": null,
   "id": "a7f6f4a9",
   "metadata": {},
   "outputs": [],
   "source": []
  },
  {
   "cell_type": "markdown",
   "id": "29b438df",
   "metadata": {},
   "source": [
    "## upsampling "
   ]
  },
  {
   "cell_type": "code",
   "execution_count": 8,
   "id": "06ee0eb0",
   "metadata": {},
   "outputs": [],
   "source": [
    "#from imblearn.over_sampling import SMOTE\n",
    "\n",
    "#x_train_reshape = x_train.reshape(x_train.shape[0], 224 * 224 * 1)\n",
    "#sm = SMOTE(random_state=42)\n",
    "#x_smote, y_smote = sm.fit_resample(x_train_reshape, y_train)\n",
    "#x_smote = x_smote.reshape(x_smote.shape[0], 224, 224, 1)\n"
   ]
  },
  {
   "cell_type": "markdown",
   "id": "1443c8af",
   "metadata": {},
   "source": [
    "## Developing baseline model"
   ]
  },
  {
   "cell_type": "code",
   "execution_count": 9,
   "id": "c654135e",
   "metadata": {},
   "outputs": [
    {
     "name": "stdout",
     "output_type": "stream",
     "text": [
      "Metal device set to: Apple M1\n"
     ]
    },
    {
     "name": "stderr",
     "output_type": "stream",
     "text": [
      "2023-03-24 16:24:15.969518: I tensorflow/core/common_runtime/pluggable_device/pluggable_device_factory.cc:305] Could not identify NUMA node of platform GPU ID 0, defaulting to 0. Your kernel may not have been built with NUMA support.\n",
      "2023-03-24 16:24:15.970888: I tensorflow/core/common_runtime/pluggable_device/pluggable_device_factory.cc:271] Created TensorFlow device (/job:localhost/replica:0/task:0/device:GPU:0 with 0 MB memory) -> physical PluggableDevice (device: 0, name: METAL, pci bus id: <undefined>)\n"
     ]
    },
    {
     "name": "stdout",
     "output_type": "stream",
     "text": [
      "Model: \"sequential\"\n",
      "_________________________________________________________________\n",
      " Layer (type)                Output Shape              Param #   \n",
      "=================================================================\n",
      " resnet50 (Functional)       (None, 7, 7, 2048)        23587712  \n",
      "                                                                 \n",
      " dense (Dense)               (None, 7, 7, 224)         458976    \n",
      "                                                                 \n",
      " dropout (Dropout)           (None, 7, 7, 224)         0         \n",
      "                                                                 \n",
      " flatten (Flatten)           (None, 10976)             0         \n",
      "                                                                 \n",
      " dense_1 (Dense)             (None, 1)                 10977     \n",
      "                                                                 \n",
      "=================================================================\n",
      "Total params: 24,057,665\n",
      "Trainable params: 24,004,545\n",
      "Non-trainable params: 53,120\n",
      "_________________________________________________________________\n",
      "Epoch 1/3\n"
     ]
    },
    {
     "name": "stderr",
     "output_type": "stream",
     "text": [
      "2023-03-24 16:24:23.822380: W tensorflow/core/platform/profile_utils/cpu_utils.cc:128] Failed to get CPU frequency: 0 Hz\n",
      "2023-03-24 16:24:26.283818: I tensorflow/core/grappler/optimizers/custom_graph_optimizer_registry.cc:113] Plugin optimizer for device_type GPU is enabled.\n"
     ]
    },
    {
     "name": "stdout",
     "output_type": "stream",
     "text": [
      "205/205 [==============================] - ETA: 0s - loss: 0.4497 - accuracy: 0.9606"
     ]
    },
    {
     "name": "stderr",
     "output_type": "stream",
     "text": [
      "2023-03-24 16:28:42.037864: I tensorflow/core/grappler/optimizers/custom_graph_optimizer_registry.cc:113] Plugin optimizer for device_type GPU is enabled.\n"
     ]
    },
    {
     "name": "stdout",
     "output_type": "stream",
     "text": [
      "205/205 [==============================] - 291s 1s/step - loss: 0.4497 - accuracy: 0.9606 - val_loss: 1.8510 - val_accuracy: 0.3745\n",
      "Epoch 2/3\n",
      "205/205 [==============================] - 281s 1s/step - loss: 0.0248 - accuracy: 0.9939 - val_loss: 0.9080 - val_accuracy: 0.6175\n",
      "Epoch 3/3\n",
      "205/205 [==============================] - 283s 1s/step - loss: 0.0054 - accuracy: 0.9986 - val_loss: 0.9864 - val_accuracy: 0.6255\n"
     ]
    },
    {
     "data": {
      "text/plain": [
       "<keras.callbacks.History at 0x29fa68f70>"
      ]
     },
     "execution_count": 9,
     "metadata": {},
     "output_type": "execute_result"
    }
   ],
   "source": [
    "# draft model\n",
    "restnet = tf.keras.applications.ResNet50(include_top=False, input_shape=(224, 224, 3), classes=1)\n",
    "\n",
    "# metrics_list = [tf.keras.metrics.SpecificityAtSensitivity(0.7, name = 'specificity'),\n",
    "#                tf.keras.metrics.AUC(name = 'auc'),\n",
    "#                tf.keras.metrics.FalsePositives(name = 'fp'),\n",
    "#                tf.keras.metrics.TrueNegatives(name = 'tn'),\n",
    "#                 tf.keras.metrics.BinaryAccuracy(name = 'accuracy'),]\n",
    "\n",
    "#calculate class weights\n",
    "#class_weights_array = compute_class_weight(class_weight = 'balanced', classes = np.unique(y_train), y = np.concatenate(y_train, axis=0))\n",
    "#class_weights = dict(zip(np.unique(y_train), class_weights_array ))\n",
    "\n",
    "\n",
    "optimizer_fn = tf.keras.optimizers.experimental.RMSprop(learning_rate=0.00002, jit_compile = False)\n",
    "\n",
    "\n",
    "model = Sequential()\n",
    "model.add(restnet)\n",
    "model.add(Dense(224, activation='relu', input_dim=(224, 224, 3)))\n",
    "model.add(Dropout(0.3))\n",
    "model.add(Flatten())\n",
    "model.add(Dense(1, activation='sigmoid'))\n",
    "\n",
    "model.compile(optimizer = optimizer_fn, loss='binary_crossentropy', metrics= ['accuracy'] )\n",
    "model.summary()\n",
    "model.fit(x_train, y_train, validation_data = (x_val, y_val), epochs=3, batch_size = 32 )\n"
   ]
  },
  {
   "cell_type": "code",
   "execution_count": 10,
   "id": "77b24aa8",
   "metadata": {},
   "outputs": [
    {
     "name": "stdout",
     "output_type": "stream",
     "text": [
      "86/86 [==============================] - 32s 375ms/step - loss: 0.9864 - accuracy: 0.6255\n"
     ]
    },
    {
     "data": {
      "text/plain": [
       "[0.9863938689231873, 0.625545859336853]"
      ]
     },
     "execution_count": 10,
     "metadata": {},
     "output_type": "execute_result"
    }
   ],
   "source": [
    "results = model.evaluate(x_val, y_val)\n",
    "results"
   ]
  },
  {
   "cell_type": "code",
   "execution_count": null,
   "id": "f0c45920",
   "metadata": {},
   "outputs": [],
   "source": []
  }
 ],
 "metadata": {
  "kernelspec": {
   "display_name": "Python 3 (ipykernel)",
   "language": "python",
   "name": "python3"
  },
  "language_info": {
   "codemirror_mode": {
    "name": "ipython",
    "version": 3
   },
   "file_extension": ".py",
   "mimetype": "text/x-python",
   "name": "python",
   "nbconvert_exporter": "python",
   "pygments_lexer": "ipython3",
   "version": "3.10.9"
  }
 },
 "nbformat": 4,
 "nbformat_minor": 5
}
