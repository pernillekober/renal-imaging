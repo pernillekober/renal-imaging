{
 "cells": [
  {
   "cell_type": "code",
   "execution_count": 34,
   "id": "cc95da12",
   "metadata": {},
   "outputs": [],
   "source": [
    "#For importing modules\n",
    "import os, sys\n",
    "\n",
    "#For file handling\n",
    "from glob import glob\n",
    "from os import listdir\n",
    "from os.path import isfile, join\n",
    "import json \n",
    "\n",
    "#For image processing\n",
    "import PIL\n",
    "import cv2\n",
    "import nibabel as nib\n",
    "import nibabel.processing \n",
    "from nibabel.processing import resample_to_output\n",
    "import nilearn\n",
    "\n",
    "#Image visualisation\n",
    "import matplotlib.pyplot as plt\n",
    "\n",
    "#Other\n",
    "import numpy as np\n",
    "import math\n",
    "from random import sample\n",
    "\n",
    "#Modeling\n",
    "import tensorflow as tf\n",
    "import scipy\n",
    "import sklearn\n",
    "from sklearn.model_selection import train_test_split\n",
    "from nilearn.image import concat_imgs, mean_img, resample_img\n",
    "\n",
    "import tensorflow as tflow\n",
    "from tensorflow.keras.layers import Flatten\n",
    "from keras.layers.core import Dense\n",
    "from tensorflow.keras.models import Sequential\n",
    "from tensorflow.keras.optimizers import Adam\n",
    "\n",
    "from sklearn.metrics import precision_score, recall_score, confusion_matrix,classification_report\n"
   ]
  },
  {
   "cell_type": "code",
   "execution_count": 2,
   "id": "b642b8a0",
   "metadata": {},
   "outputs": [],
   "source": [
    "import tensorflow as tf\n",
    "import scipy\n",
    "import sklearn\n",
    "from sklearn.model_selection import train_test_split\n",
    "from nilearn.image import concat_imgs, mean_img, resample_img\n",
    "\n",
    "import tensorflow as tflow\n",
    "from tensorflow.keras.layers import Flatten, Dense, Dropout, Input, BatchNormalization\n",
    "from keras.layers.core import Dense\n",
    "from tensorflow.keras.models import Sequential\n",
    "from tensorflow.keras.optimizers import Adam\n",
    "\n",
    "import os\n",
    "\n",
    "import nibabel as nib\n",
    "import nilearn\n",
    "\n",
    "import json \n",
    "\n",
    "import numpy as np\n",
    "import math\n",
    "from random import sample\n",
    "\n",
    "from sklearn.utils.class_weight import compute_class_weight"
   ]
  },
  {
   "cell_type": "code",
   "execution_count": 3,
   "id": "8134298c",
   "metadata": {},
   "outputs": [],
   "source": [
    "sys.path.append('/path/to/2014_07_13_test')\n",
    "import generate_input"
   ]
  },
  {
   "cell_type": "code",
   "execution_count": 5,
   "id": "a2595455",
   "metadata": {
    "scrolled": true
   },
   "outputs": [
    {
     "name": "stdout",
     "output_type": "stream",
     "text": [
      "case_00000.npy case_00060.npy case_00120.npy case_00180.npy case_00240.npy\r\n",
      "case_00001.npy case_00061.npy case_00121.npy case_00181.npy case_00241.npy\r\n",
      "case_00002.npy case_00062.npy case_00122.npy case_00182.npy case_00242.npy\r\n",
      "case_00003.npy case_00063.npy case_00123.npy case_00183.npy case_00243.npy\r\n",
      "case_00004.npy case_00064.npy case_00124.npy case_00184.npy case_00244.npy\r\n",
      "case_00005.npy case_00065.npy case_00125.npy case_00185.npy case_00245.npy\r\n",
      "case_00006.npy case_00066.npy case_00126.npy case_00186.npy case_00246.npy\r\n",
      "case_00007.npy case_00067.npy case_00127.npy case_00187.npy case_00247.npy\r\n",
      "case_00008.npy case_00068.npy case_00128.npy case_00188.npy case_00248.npy\r\n",
      "case_00009.npy case_00069.npy case_00129.npy case_00189.npy case_00249.npy\r\n",
      "case_00010.npy case_00070.npy case_00130.npy case_00190.npy case_00250.npy\r\n",
      "case_00011.npy case_00071.npy case_00131.npy case_00191.npy case_00251.npy\r\n",
      "case_00012.npy case_00072.npy case_00132.npy case_00192.npy case_00252.npy\r\n",
      "case_00013.npy case_00073.npy case_00133.npy case_00193.npy case_00253.npy\r\n",
      "case_00014.npy case_00074.npy case_00134.npy case_00194.npy case_00254.npy\r\n",
      "case_00015.npy case_00075.npy case_00135.npy case_00195.npy case_00255.npy\r\n",
      "case_00016.npy case_00076.npy case_00136.npy case_00196.npy case_00256.npy\r\n",
      "case_00017.npy case_00077.npy case_00137.npy case_00197.npy case_00257.npy\r\n",
      "case_00018.npy case_00078.npy case_00138.npy case_00198.npy case_00258.npy\r\n",
      "case_00019.npy case_00079.npy case_00139.npy case_00199.npy case_00259.npy\r\n",
      "case_00020.npy case_00080.npy case_00140.npy case_00200.npy case_00260.npy\r\n",
      "case_00021.npy case_00081.npy case_00141.npy case_00201.npy case_00261.npy\r\n",
      "case_00022.npy case_00082.npy case_00142.npy case_00202.npy case_00262.npy\r\n",
      "case_00023.npy case_00083.npy case_00143.npy case_00203.npy case_00263.npy\r\n",
      "case_00024.npy case_00084.npy case_00144.npy case_00204.npy case_00264.npy\r\n",
      "case_00025.npy case_00085.npy case_00145.npy case_00205.npy case_00265.npy\r\n",
      "case_00026.npy case_00086.npy case_00146.npy case_00206.npy case_00266.npy\r\n",
      "case_00027.npy case_00087.npy case_00147.npy case_00207.npy case_00267.npy\r\n",
      "case_00028.npy case_00088.npy case_00148.npy case_00208.npy case_00268.npy\r\n",
      "case_00029.npy case_00089.npy case_00149.npy case_00209.npy case_00269.npy\r\n",
      "case_00030.npy case_00090.npy case_00150.npy case_00210.npy case_00270.npy\r\n",
      "case_00031.npy case_00091.npy case_00151.npy case_00211.npy case_00271.npy\r\n",
      "case_00032.npy case_00092.npy case_00152.npy case_00212.npy case_00272.npy\r\n",
      "case_00033.npy case_00093.npy case_00153.npy case_00213.npy case_00273.npy\r\n",
      "case_00034.npy case_00094.npy case_00154.npy case_00214.npy case_00274.npy\r\n",
      "case_00035.npy case_00095.npy case_00155.npy case_00215.npy case_00275.npy\r\n",
      "case_00036.npy case_00096.npy case_00156.npy case_00216.npy case_00276.npy\r\n",
      "case_00037.npy case_00097.npy case_00157.npy case_00217.npy case_00277.npy\r\n",
      "case_00038.npy case_00098.npy case_00158.npy case_00218.npy case_00278.npy\r\n",
      "case_00039.npy case_00099.npy case_00159.npy case_00219.npy case_00279.npy\r\n",
      "case_00040.npy case_00100.npy case_00160.npy case_00220.npy case_00280.npy\r\n",
      "case_00041.npy case_00101.npy case_00161.npy case_00221.npy case_00281.npy\r\n",
      "case_00042.npy case_00102.npy case_00162.npy case_00222.npy case_00282.npy\r\n",
      "case_00043.npy case_00103.npy case_00163.npy case_00223.npy case_00283.npy\r\n",
      "case_00044.npy case_00104.npy case_00164.npy case_00224.npy case_00284.npy\r\n",
      "case_00045.npy case_00105.npy case_00165.npy case_00225.npy case_00285.npy\r\n",
      "case_00046.npy case_00106.npy case_00166.npy case_00226.npy case_00286.npy\r\n",
      "case_00047.npy case_00107.npy case_00167.npy case_00227.npy case_00287.npy\r\n",
      "case_00048.npy case_00108.npy case_00168.npy case_00228.npy case_00288.npy\r\n",
      "case_00049.npy case_00109.npy case_00169.npy case_00229.npy case_00289.npy\r\n",
      "case_00050.npy case_00110.npy case_00170.npy case_00230.npy case_00290.npy\r\n",
      "case_00051.npy case_00111.npy case_00171.npy case_00231.npy case_00291.npy\r\n",
      "case_00052.npy case_00112.npy case_00172.npy case_00232.npy case_00292.npy\r\n",
      "case_00053.npy case_00113.npy case_00173.npy case_00233.npy case_00293.npy\r\n",
      "case_00054.npy case_00114.npy case_00174.npy case_00234.npy case_00294.npy\r\n",
      "case_00055.npy case_00115.npy case_00175.npy case_00235.npy case_00295.npy\r\n",
      "case_00056.npy case_00116.npy case_00176.npy case_00236.npy case_00296.npy\r\n",
      "case_00057.npy case_00117.npy case_00177.npy case_00237.npy case_00297.npy\r\n",
      "case_00058.npy case_00118.npy case_00178.npy case_00238.npy case_00298.npy\r\n",
      "case_00059.npy case_00119.npy case_00179.npy case_00239.npy case_00299.npy\r\n"
     ]
    }
   ],
   "source": [
    "!ls './preprocessed-data/images/'"
   ]
  },
  {
   "cell_type": "code",
   "execution_count": 6,
   "id": "afd758f4",
   "metadata": {},
   "outputs": [
    {
     "name": "stdout",
     "output_type": "stream",
     "text": [
      "Number of labels in labels_dict:  300\n",
      "Generated list of 300 case IDs of 275 positive and 25 negative labels\n",
      "Are image and mask path list the same lenght?:  True\n",
      "Are image and mask dictionaries the same lenght?: True\n",
      "Are cases and labels lists the same length?:  True 300 300\n",
      "Generated training, validation and test with 210, 9 and 81 cases.\n",
      "Are training set and labels lists the same length?:  True 46148 46148\n",
      "After adding channels:  (46148, 128, 128, 3) (1856, 128, 128, 3) (17160, 128, 128, 3)\n"
     ]
    }
   ],
   "source": [
    "# x_train, y_train, x_val, y_val, x_test, y_test, id_val, id_test = generate_input.generate_data_input(\n",
    "#     '../kits21/kits21/data/kits.json', n_samples = 300, neg_pct = 100, rootdir = './preprocessed-data/', \n",
    "#     img_dir = 'images', mask_dir = 'masks', val_split = 9, test_split = 81)"
   ]
  },
  {
   "cell_type": "code",
   "execution_count": null,
   "id": "9592b114",
   "metadata": {},
   "outputs": [],
   "source": [
    "# load validation set\n",
    "val_case = ['case_00233', 'case_00089', 'case_00050', 'case_00112', 'case_00258', 'case_00246', 'case_00157', 'case_00149','case_00184']\n",
    "test_case = ['case_00221', 'case_00259', 'case_00087', 'case_00254', 'case_00098', 'case_00023', 'case_00041',\n",
    "             'case_00080', 'case_00101', 'case_00164', 'case_00002', 'case_00110', 'case_00030', 'case_00068',\n",
    "             'case_00026', 'case_00063', 'case_00006', 'case_00048', 'case_00250', 'case_00238', 'case_00015',\n",
    "             'case_00111', 'case_00278', 'case_00133', 'case_00284', 'case_00282', 'case_00269', 'case_00039',\n",
    "             'case_00033', 'case_00108', 'case_00175', 'case_00161', 'case_00256', 'case_00119', 'case_00286',\n",
    "             'case_00077', 'case_00162', 'case_00270', 'case_00271', 'case_00285', 'case_00174', 'case_00147',\n",
    "             'case_00215', 'case_00150', 'case_00052', 'case_00231', 'case_00198', 'case_00117', 'case_00138',\n",
    "             'case_00211', 'case_00190', 'case_00248', 'case_00235', 'case_00049', 'case_00074', 'case_00107',\n",
    "             'case_00218', 'case_00001', 'case_00193', 'case_00067', 'case_00289', 'case_00072', 'case_00044',\n",
    "             'case_00294', 'case_00298', 'case_00263', 'case_00038', 'case_00299', 'case_00249', 'case_00225',\n",
    "             'case_00217', 'case_00178', 'case_00082', 'case_00035', 'case_00034', 'case_00047', 'case_00276',\n",
    "             'case_00151', 'case_00226', 'case_00086', 'case_00176']"
   ]
  },
  {
   "cell_type": "code",
   "execution_count": 174,
   "id": "c7d3da6f",
   "metadata": {},
   "outputs": [],
   "source": [
    "def generate_part_label_dict(labels_dict, list_of_cases):\n",
    "    return {k: labels_dict[k] for k in list_of_cases}\n",
    "\n",
    "def load_data(rootdir, img_dir, json_path, list_cases):\n",
    "    val_path = generate_input.processed_image_paths(rootdir, img_dir)\n",
    "    labels_dict = generate_input.malignant_labels_to_dict(json_path)\n",
    "    labels_dict_short = generate_part_label_dict(labels_dict, list_cases)\n",
    "    image_dict_short = generate_input.load_nifti_img_and_mask_as_numpy(val_path, list_cases)\n",
    "    x_set, y_set = generate_input.fill_set(list_cases, labels_dict_short, image_dict_short, labels_dict)\n",
    "    x_set = generate_input.adding_channel(x_set)\n",
    "    #image_dict_short = adding_channel_dict(image_dict_short)\n",
    "    return x_set, y_set"
   ]
  },
  {
   "cell_type": "code",
   "execution_count": 197,
   "id": "71da33f0",
   "metadata": {},
   "outputs": [],
   "source": [
    "x_val, y_val = load_data('./preprocessed-data/', 'images', '../kits21/kits21/data/kits.json', val_case)\n",
    "x_test, y_test = load_data('./preprocessed-data/', 'images', '../kits21/kits21/data/kits.json', test_case)"
   ]
  },
  {
   "cell_type": "code",
   "execution_count": 198,
   "id": "dbec0d5b",
   "metadata": {},
   "outputs": [],
   "source": [
    "all_cases = [ 'case_' + str(number).zfill(5) for number in range(300)]\n",
    "train_case = [x for x in all_cases if x not in val_case and x not in test_case]\n",
    "x_train, y_train = load_data('./preprocessed-data/', 'images', '../kits21/kits21/data/kits.json', train_case)"
   ]
  },
  {
   "cell_type": "markdown",
   "id": "29b438df",
   "metadata": {},
   "source": [
    "## upsampling "
   ]
  },
  {
   "cell_type": "code",
   "execution_count": 7,
   "id": "06ee0eb0",
   "metadata": {},
   "outputs": [],
   "source": [
    "from imblearn.over_sampling import SMOTE\n",
    "\n",
    "x_train_reshape = x_train.reshape(x_train.shape[0], x_train.shape[1] * x_train.shape[2] * x_train.shape[3])\n",
    "sm = SMOTE(random_state=64)\n",
    "x_smote, y_smote = sm.fit_resample(x_train_reshape, y_train)\n",
    "x_smote = x_smote.reshape(x_smote.shape[0], x_train.shape[1], x_train.shape[2], x_train.shape[3])"
   ]
  },
  {
   "cell_type": "code",
   "execution_count": 8,
   "id": "b2435776",
   "metadata": {},
   "outputs": [
    {
     "data": {
      "text/plain": [
       "(83138, 128, 128, 3)"
      ]
     },
     "execution_count": 8,
     "metadata": {},
     "output_type": "execute_result"
    }
   ],
   "source": [
    "x_smote.shape"
   ]
  },
  {
   "cell_type": "code",
   "execution_count": 9,
   "id": "97103fec",
   "metadata": {},
   "outputs": [],
   "source": [
    "from sklearn.utils import shuffle\n",
    "x_smote, y_smote = shuffle(x_smote, y_smote)"
   ]
  },
  {
   "cell_type": "markdown",
   "id": "1443c8af",
   "metadata": {},
   "source": [
    "## Developing baseline model"
   ]
  },
  {
   "cell_type": "code",
   "execution_count": 10,
   "id": "ac892aa2",
   "metadata": {},
   "outputs": [],
   "source": [
    "from tensorflow.keras.utils import Sequence\n",
    "import numpy as np   \n",
    "\n",
    "batch_size = 32\n",
    "class DataGenerator(Sequence):\n",
    "    def __init__(self, x_set, y_set, batch_size):\n",
    "        self.x, self.y = x_set, y_set\n",
    "        self.batch_size = batch_size\n",
    "\n",
    "    def __len__(self):\n",
    "        return int(np.ceil(len(self.x) / float(self.batch_size)))\n",
    "\n",
    "    def __getitem__(self, idx):\n",
    "        batch_x = self.x[idx * self.batch_size:(idx + 1) * self.batch_size]\n",
    "        batch_y = self.y[idx * self.batch_size:(idx + 1) * self.batch_size]\n",
    "        return batch_x, batch_y\n",
    "\n",
    "train_gen = DataGenerator(x_smote, y_smote, batch_size)\n"
   ]
  },
  {
   "cell_type": "code",
   "execution_count": 11,
   "id": "88392ba5",
   "metadata": {},
   "outputs": [
    {
     "name": "stderr",
     "output_type": "stream",
     "text": [
      "2023-04-01 20:58:07.971325: I tensorflow/core/common_runtime/pluggable_device/pluggable_device_factory.cc:305] Could not identify NUMA node of platform GPU ID 0, defaulting to 0. Your kernel may not have been built with NUMA support.\n",
      "2023-04-01 20:58:07.971768: I tensorflow/core/common_runtime/pluggable_device/pluggable_device_factory.cc:271] Created TensorFlow device (/job:localhost/replica:0/task:0/device:GPU:0 with 0 MB memory) -> physical PluggableDevice (device: 0, name: METAL, pci bus id: <undefined>)\n"
     ]
    },
    {
     "name": "stdout",
     "output_type": "stream",
     "text": [
      "Metal device set to: Apple M2 Pro\n",
      "Model: \"model\"\n",
      "__________________________________________________________________________________________________\n",
      " Layer (type)                   Output Shape         Param #     Connected to                     \n",
      "==================================================================================================\n",
      " input_1 (InputLayer)           [(None, 128, 128, 3  0           []                               \n",
      "                                )]                                                                \n",
      "                                                                                                  \n",
      " conv1_pad (ZeroPadding2D)      (None, 134, 134, 3)  0           ['input_1[0][0]']                \n",
      "                                                                                                  \n",
      " conv1_conv (Conv2D)            (None, 64, 64, 64)   9472        ['conv1_pad[0][0]']              \n",
      "                                                                                                  \n",
      " conv1_bn (BatchNormalization)  (None, 64, 64, 64)   256         ['conv1_conv[0][0]']             \n",
      "                                                                                                  \n",
      " conv1_relu (Activation)        (None, 64, 64, 64)   0           ['conv1_bn[0][0]']               \n",
      "                                                                                                  \n",
      " pool1_pad (ZeroPadding2D)      (None, 66, 66, 64)   0           ['conv1_relu[0][0]']             \n",
      "                                                                                                  \n",
      " pool1_pool (MaxPooling2D)      (None, 32, 32, 64)   0           ['pool1_pad[0][0]']              \n",
      "                                                                                                  \n",
      " conv2_block1_1_conv (Conv2D)   (None, 32, 32, 64)   4160        ['pool1_pool[0][0]']             \n",
      "                                                                                                  \n",
      " conv2_block1_1_bn (BatchNormal  (None, 32, 32, 64)  256         ['conv2_block1_1_conv[0][0]']    \n",
      " ization)                                                                                         \n",
      "                                                                                                  \n",
      " conv2_block1_1_relu (Activatio  (None, 32, 32, 64)  0           ['conv2_block1_1_bn[0][0]']      \n",
      " n)                                                                                               \n",
      "                                                                                                  \n",
      " conv2_block1_2_conv (Conv2D)   (None, 32, 32, 64)   36928       ['conv2_block1_1_relu[0][0]']    \n",
      "                                                                                                  \n",
      " conv2_block1_2_bn (BatchNormal  (None, 32, 32, 64)  256         ['conv2_block1_2_conv[0][0]']    \n",
      " ization)                                                                                         \n",
      "                                                                                                  \n",
      " conv2_block1_2_relu (Activatio  (None, 32, 32, 64)  0           ['conv2_block1_2_bn[0][0]']      \n",
      " n)                                                                                               \n",
      "                                                                                                  \n",
      " conv2_block1_0_conv (Conv2D)   (None, 32, 32, 256)  16640       ['pool1_pool[0][0]']             \n",
      "                                                                                                  \n",
      " conv2_block1_3_conv (Conv2D)   (None, 32, 32, 256)  16640       ['conv2_block1_2_relu[0][0]']    \n",
      "                                                                                                  \n",
      " conv2_block1_0_bn (BatchNormal  (None, 32, 32, 256)  1024       ['conv2_block1_0_conv[0][0]']    \n",
      " ization)                                                                                         \n",
      "                                                                                                  \n",
      " conv2_block1_3_bn (BatchNormal  (None, 32, 32, 256)  1024       ['conv2_block1_3_conv[0][0]']    \n",
      " ization)                                                                                         \n",
      "                                                                                                  \n",
      " conv2_block1_add (Add)         (None, 32, 32, 256)  0           ['conv2_block1_0_bn[0][0]',      \n",
      "                                                                  'conv2_block1_3_bn[0][0]']      \n",
      "                                                                                                  \n",
      " conv2_block1_out (Activation)  (None, 32, 32, 256)  0           ['conv2_block1_add[0][0]']       \n",
      "                                                                                                  \n",
      " conv2_block2_1_conv (Conv2D)   (None, 32, 32, 64)   16448       ['conv2_block1_out[0][0]']       \n",
      "                                                                                                  \n",
      " conv2_block2_1_bn (BatchNormal  (None, 32, 32, 64)  256         ['conv2_block2_1_conv[0][0]']    \n",
      " ization)                                                                                         \n",
      "                                                                                                  \n",
      " conv2_block2_1_relu (Activatio  (None, 32, 32, 64)  0           ['conv2_block2_1_bn[0][0]']      \n",
      " n)                                                                                               \n",
      "                                                                                                  \n",
      " conv2_block2_2_conv (Conv2D)   (None, 32, 32, 64)   36928       ['conv2_block2_1_relu[0][0]']    \n",
      "                                                                                                  \n",
      " conv2_block2_2_bn (BatchNormal  (None, 32, 32, 64)  256         ['conv2_block2_2_conv[0][0]']    \n",
      " ization)                                                                                         \n",
      "                                                                                                  \n",
      " conv2_block2_2_relu (Activatio  (None, 32, 32, 64)  0           ['conv2_block2_2_bn[0][0]']      \n",
      " n)                                                                                               \n",
      "                                                                                                  \n",
      " conv2_block2_3_conv (Conv2D)   (None, 32, 32, 256)  16640       ['conv2_block2_2_relu[0][0]']    \n",
      "                                                                                                  \n",
      " conv2_block2_3_bn (BatchNormal  (None, 32, 32, 256)  1024       ['conv2_block2_3_conv[0][0]']    \n",
      " ization)                                                                                         \n",
      "                                                                                                  \n",
      " conv2_block2_add (Add)         (None, 32, 32, 256)  0           ['conv2_block1_out[0][0]',       \n",
      "                                                                  'conv2_block2_3_bn[0][0]']      \n",
      "                                                                                                  \n",
      " conv2_block2_out (Activation)  (None, 32, 32, 256)  0           ['conv2_block2_add[0][0]']       \n",
      "                                                                                                  \n",
      " conv2_block3_1_conv (Conv2D)   (None, 32, 32, 64)   16448       ['conv2_block2_out[0][0]']       \n",
      "                                                                                                  \n",
      " conv2_block3_1_bn (BatchNormal  (None, 32, 32, 64)  256         ['conv2_block3_1_conv[0][0]']    \n",
      " ization)                                                                                         \n",
      "                                                                                                  \n",
      " conv2_block3_1_relu (Activatio  (None, 32, 32, 64)  0           ['conv2_block3_1_bn[0][0]']      \n",
      " n)                                                                                               \n",
      "                                                                                                  \n"
     ]
    },
    {
     "name": "stdout",
     "output_type": "stream",
     "text": [
      " conv2_block3_2_conv (Conv2D)   (None, 32, 32, 64)   36928       ['conv2_block3_1_relu[0][0]']    \n",
      "                                                                                                  \n",
      " conv2_block3_2_bn (BatchNormal  (None, 32, 32, 64)  256         ['conv2_block3_2_conv[0][0]']    \n",
      " ization)                                                                                         \n",
      "                                                                                                  \n",
      " conv2_block3_2_relu (Activatio  (None, 32, 32, 64)  0           ['conv2_block3_2_bn[0][0]']      \n",
      " n)                                                                                               \n",
      "                                                                                                  \n",
      " conv2_block3_3_conv (Conv2D)   (None, 32, 32, 256)  16640       ['conv2_block3_2_relu[0][0]']    \n",
      "                                                                                                  \n",
      " conv2_block3_3_bn (BatchNormal  (None, 32, 32, 256)  1024       ['conv2_block3_3_conv[0][0]']    \n",
      " ization)                                                                                         \n",
      "                                                                                                  \n",
      " conv2_block3_add (Add)         (None, 32, 32, 256)  0           ['conv2_block2_out[0][0]',       \n",
      "                                                                  'conv2_block3_3_bn[0][0]']      \n",
      "                                                                                                  \n",
      " conv2_block3_out (Activation)  (None, 32, 32, 256)  0           ['conv2_block3_add[0][0]']       \n",
      "                                                                                                  \n",
      " conv3_block1_1_conv (Conv2D)   (None, 16, 16, 128)  32896       ['conv2_block3_out[0][0]']       \n",
      "                                                                                                  \n",
      " conv3_block1_1_bn (BatchNormal  (None, 16, 16, 128)  512        ['conv3_block1_1_conv[0][0]']    \n",
      " ization)                                                                                         \n",
      "                                                                                                  \n",
      " conv3_block1_1_relu (Activatio  (None, 16, 16, 128)  0          ['conv3_block1_1_bn[0][0]']      \n",
      " n)                                                                                               \n",
      "                                                                                                  \n",
      " conv3_block1_2_conv (Conv2D)   (None, 16, 16, 128)  147584      ['conv3_block1_1_relu[0][0]']    \n",
      "                                                                                                  \n",
      " conv3_block1_2_bn (BatchNormal  (None, 16, 16, 128)  512        ['conv3_block1_2_conv[0][0]']    \n",
      " ization)                                                                                         \n",
      "                                                                                                  \n",
      " conv3_block1_2_relu (Activatio  (None, 16, 16, 128)  0          ['conv3_block1_2_bn[0][0]']      \n",
      " n)                                                                                               \n",
      "                                                                                                  \n",
      " conv3_block1_0_conv (Conv2D)   (None, 16, 16, 512)  131584      ['conv2_block3_out[0][0]']       \n",
      "                                                                                                  \n",
      " conv3_block1_3_conv (Conv2D)   (None, 16, 16, 512)  66048       ['conv3_block1_2_relu[0][0]']    \n",
      "                                                                                                  \n",
      " conv3_block1_0_bn (BatchNormal  (None, 16, 16, 512)  2048       ['conv3_block1_0_conv[0][0]']    \n",
      " ization)                                                                                         \n",
      "                                                                                                  \n",
      " conv3_block1_3_bn (BatchNormal  (None, 16, 16, 512)  2048       ['conv3_block1_3_conv[0][0]']    \n",
      " ization)                                                                                         \n",
      "                                                                                                  \n",
      " conv3_block1_add (Add)         (None, 16, 16, 512)  0           ['conv3_block1_0_bn[0][0]',      \n",
      "                                                                  'conv3_block1_3_bn[0][0]']      \n",
      "                                                                                                  \n",
      " conv3_block1_out (Activation)  (None, 16, 16, 512)  0           ['conv3_block1_add[0][0]']       \n",
      "                                                                                                  \n",
      " conv3_block2_1_conv (Conv2D)   (None, 16, 16, 128)  65664       ['conv3_block1_out[0][0]']       \n",
      "                                                                                                  \n",
      " conv3_block2_1_bn (BatchNormal  (None, 16, 16, 128)  512        ['conv3_block2_1_conv[0][0]']    \n",
      " ization)                                                                                         \n",
      "                                                                                                  \n",
      " conv3_block2_1_relu (Activatio  (None, 16, 16, 128)  0          ['conv3_block2_1_bn[0][0]']      \n",
      " n)                                                                                               \n",
      "                                                                                                  \n",
      " conv3_block2_2_conv (Conv2D)   (None, 16, 16, 128)  147584      ['conv3_block2_1_relu[0][0]']    \n",
      "                                                                                                  \n",
      " conv3_block2_2_bn (BatchNormal  (None, 16, 16, 128)  512        ['conv3_block2_2_conv[0][0]']    \n",
      " ization)                                                                                         \n",
      "                                                                                                  \n",
      " conv3_block2_2_relu (Activatio  (None, 16, 16, 128)  0          ['conv3_block2_2_bn[0][0]']      \n",
      " n)                                                                                               \n",
      "                                                                                                  \n",
      " conv3_block2_3_conv (Conv2D)   (None, 16, 16, 512)  66048       ['conv3_block2_2_relu[0][0]']    \n",
      "                                                                                                  \n",
      " conv3_block2_3_bn (BatchNormal  (None, 16, 16, 512)  2048       ['conv3_block2_3_conv[0][0]']    \n",
      " ization)                                                                                         \n",
      "                                                                                                  \n",
      " conv3_block2_add (Add)         (None, 16, 16, 512)  0           ['conv3_block1_out[0][0]',       \n",
      "                                                                  'conv3_block2_3_bn[0][0]']      \n",
      "                                                                                                  \n",
      " conv3_block2_out (Activation)  (None, 16, 16, 512)  0           ['conv3_block2_add[0][0]']       \n",
      "                                                                                                  \n",
      " conv3_block3_1_conv (Conv2D)   (None, 16, 16, 128)  65664       ['conv3_block2_out[0][0]']       \n",
      "                                                                                                  \n",
      " conv3_block3_1_bn (BatchNormal  (None, 16, 16, 128)  512        ['conv3_block3_1_conv[0][0]']    \n",
      " ization)                                                                                         \n",
      "                                                                                                  \n",
      " conv3_block3_1_relu (Activatio  (None, 16, 16, 128)  0          ['conv3_block3_1_bn[0][0]']      \n",
      " n)                                                                                               \n",
      "                                                                                                  \n"
     ]
    },
    {
     "name": "stdout",
     "output_type": "stream",
     "text": [
      " conv3_block3_2_conv (Conv2D)   (None, 16, 16, 128)  147584      ['conv3_block3_1_relu[0][0]']    \n",
      "                                                                                                  \n",
      " conv3_block3_2_bn (BatchNormal  (None, 16, 16, 128)  512        ['conv3_block3_2_conv[0][0]']    \n",
      " ization)                                                                                         \n",
      "                                                                                                  \n",
      " conv3_block3_2_relu (Activatio  (None, 16, 16, 128)  0          ['conv3_block3_2_bn[0][0]']      \n",
      " n)                                                                                               \n",
      "                                                                                                  \n",
      " conv3_block3_3_conv (Conv2D)   (None, 16, 16, 512)  66048       ['conv3_block3_2_relu[0][0]']    \n",
      "                                                                                                  \n",
      " conv3_block3_3_bn (BatchNormal  (None, 16, 16, 512)  2048       ['conv3_block3_3_conv[0][0]']    \n",
      " ization)                                                                                         \n",
      "                                                                                                  \n",
      " conv3_block3_add (Add)         (None, 16, 16, 512)  0           ['conv3_block2_out[0][0]',       \n",
      "                                                                  'conv3_block3_3_bn[0][0]']      \n",
      "                                                                                                  \n",
      " conv3_block3_out (Activation)  (None, 16, 16, 512)  0           ['conv3_block3_add[0][0]']       \n",
      "                                                                                                  \n",
      " conv3_block4_1_conv (Conv2D)   (None, 16, 16, 128)  65664       ['conv3_block3_out[0][0]']       \n",
      "                                                                                                  \n",
      " conv3_block4_1_bn (BatchNormal  (None, 16, 16, 128)  512        ['conv3_block4_1_conv[0][0]']    \n",
      " ization)                                                                                         \n",
      "                                                                                                  \n",
      " conv3_block4_1_relu (Activatio  (None, 16, 16, 128)  0          ['conv3_block4_1_bn[0][0]']      \n",
      " n)                                                                                               \n",
      "                                                                                                  \n",
      " conv3_block4_2_conv (Conv2D)   (None, 16, 16, 128)  147584      ['conv3_block4_1_relu[0][0]']    \n",
      "                                                                                                  \n",
      " conv3_block4_2_bn (BatchNormal  (None, 16, 16, 128)  512        ['conv3_block4_2_conv[0][0]']    \n",
      " ization)                                                                                         \n",
      "                                                                                                  \n",
      " conv3_block4_2_relu (Activatio  (None, 16, 16, 128)  0          ['conv3_block4_2_bn[0][0]']      \n",
      " n)                                                                                               \n",
      "                                                                                                  \n",
      " conv3_block4_3_conv (Conv2D)   (None, 16, 16, 512)  66048       ['conv3_block4_2_relu[0][0]']    \n",
      "                                                                                                  \n",
      " conv3_block4_3_bn (BatchNormal  (None, 16, 16, 512)  2048       ['conv3_block4_3_conv[0][0]']    \n",
      " ization)                                                                                         \n",
      "                                                                                                  \n",
      " conv3_block4_add (Add)         (None, 16, 16, 512)  0           ['conv3_block3_out[0][0]',       \n",
      "                                                                  'conv3_block4_3_bn[0][0]']      \n",
      "                                                                                                  \n",
      " conv3_block4_out (Activation)  (None, 16, 16, 512)  0           ['conv3_block4_add[0][0]']       \n",
      "                                                                                                  \n",
      " conv4_block1_1_conv (Conv2D)   (None, 8, 8, 256)    131328      ['conv3_block4_out[0][0]']       \n",
      "                                                                                                  \n",
      " conv4_block1_1_bn (BatchNormal  (None, 8, 8, 256)   1024        ['conv4_block1_1_conv[0][0]']    \n",
      " ization)                                                                                         \n",
      "                                                                                                  \n",
      " conv4_block1_1_relu (Activatio  (None, 8, 8, 256)   0           ['conv4_block1_1_bn[0][0]']      \n",
      " n)                                                                                               \n",
      "                                                                                                  \n",
      " conv4_block1_2_conv (Conv2D)   (None, 8, 8, 256)    590080      ['conv4_block1_1_relu[0][0]']    \n",
      "                                                                                                  \n",
      " conv4_block1_2_bn (BatchNormal  (None, 8, 8, 256)   1024        ['conv4_block1_2_conv[0][0]']    \n",
      " ization)                                                                                         \n",
      "                                                                                                  \n",
      " conv4_block1_2_relu (Activatio  (None, 8, 8, 256)   0           ['conv4_block1_2_bn[0][0]']      \n",
      " n)                                                                                               \n",
      "                                                                                                  \n",
      " conv4_block1_0_conv (Conv2D)   (None, 8, 8, 1024)   525312      ['conv3_block4_out[0][0]']       \n",
      "                                                                                                  \n",
      " conv4_block1_3_conv (Conv2D)   (None, 8, 8, 1024)   263168      ['conv4_block1_2_relu[0][0]']    \n",
      "                                                                                                  \n",
      " conv4_block1_0_bn (BatchNormal  (None, 8, 8, 1024)  4096        ['conv4_block1_0_conv[0][0]']    \n",
      " ization)                                                                                         \n",
      "                                                                                                  \n",
      " conv4_block1_3_bn (BatchNormal  (None, 8, 8, 1024)  4096        ['conv4_block1_3_conv[0][0]']    \n",
      " ization)                                                                                         \n",
      "                                                                                                  \n",
      " conv4_block1_add (Add)         (None, 8, 8, 1024)   0           ['conv4_block1_0_bn[0][0]',      \n",
      "                                                                  'conv4_block1_3_bn[0][0]']      \n",
      "                                                                                                  \n",
      " conv4_block1_out (Activation)  (None, 8, 8, 1024)   0           ['conv4_block1_add[0][0]']       \n",
      "                                                                                                  \n",
      " conv4_block2_1_conv (Conv2D)   (None, 8, 8, 256)    262400      ['conv4_block1_out[0][0]']       \n",
      "                                                                                                  \n",
      " conv4_block2_1_bn (BatchNormal  (None, 8, 8, 256)   1024        ['conv4_block2_1_conv[0][0]']    \n",
      " ization)                                                                                         \n",
      "                                                                                                  \n",
      " conv4_block2_1_relu (Activatio  (None, 8, 8, 256)   0           ['conv4_block2_1_bn[0][0]']      \n",
      " n)                                                                                               \n",
      "                                                                                                  \n"
     ]
    },
    {
     "name": "stdout",
     "output_type": "stream",
     "text": [
      " conv4_block2_2_conv (Conv2D)   (None, 8, 8, 256)    590080      ['conv4_block2_1_relu[0][0]']    \n",
      "                                                                                                  \n",
      " conv4_block2_2_bn (BatchNormal  (None, 8, 8, 256)   1024        ['conv4_block2_2_conv[0][0]']    \n",
      " ization)                                                                                         \n",
      "                                                                                                  \n",
      " conv4_block2_2_relu (Activatio  (None, 8, 8, 256)   0           ['conv4_block2_2_bn[0][0]']      \n",
      " n)                                                                                               \n",
      "                                                                                                  \n",
      " conv4_block2_3_conv (Conv2D)   (None, 8, 8, 1024)   263168      ['conv4_block2_2_relu[0][0]']    \n",
      "                                                                                                  \n",
      " conv4_block2_3_bn (BatchNormal  (None, 8, 8, 1024)  4096        ['conv4_block2_3_conv[0][0]']    \n",
      " ization)                                                                                         \n",
      "                                                                                                  \n",
      " conv4_block2_add (Add)         (None, 8, 8, 1024)   0           ['conv4_block1_out[0][0]',       \n",
      "                                                                  'conv4_block2_3_bn[0][0]']      \n",
      "                                                                                                  \n",
      " conv4_block2_out (Activation)  (None, 8, 8, 1024)   0           ['conv4_block2_add[0][0]']       \n",
      "                                                                                                  \n",
      " conv4_block3_1_conv (Conv2D)   (None, 8, 8, 256)    262400      ['conv4_block2_out[0][0]']       \n",
      "                                                                                                  \n",
      " conv4_block3_1_bn (BatchNormal  (None, 8, 8, 256)   1024        ['conv4_block3_1_conv[0][0]']    \n",
      " ization)                                                                                         \n",
      "                                                                                                  \n",
      " conv4_block3_1_relu (Activatio  (None, 8, 8, 256)   0           ['conv4_block3_1_bn[0][0]']      \n",
      " n)                                                                                               \n",
      "                                                                                                  \n",
      " conv4_block3_2_conv (Conv2D)   (None, 8, 8, 256)    590080      ['conv4_block3_1_relu[0][0]']    \n",
      "                                                                                                  \n",
      " conv4_block3_2_bn (BatchNormal  (None, 8, 8, 256)   1024        ['conv4_block3_2_conv[0][0]']    \n",
      " ization)                                                                                         \n",
      "                                                                                                  \n",
      " conv4_block3_2_relu (Activatio  (None, 8, 8, 256)   0           ['conv4_block3_2_bn[0][0]']      \n",
      " n)                                                                                               \n",
      "                                                                                                  \n",
      " conv4_block3_3_conv (Conv2D)   (None, 8, 8, 1024)   263168      ['conv4_block3_2_relu[0][0]']    \n",
      "                                                                                                  \n",
      " conv4_block3_3_bn (BatchNormal  (None, 8, 8, 1024)  4096        ['conv4_block3_3_conv[0][0]']    \n",
      " ization)                                                                                         \n",
      "                                                                                                  \n",
      " conv4_block3_add (Add)         (None, 8, 8, 1024)   0           ['conv4_block2_out[0][0]',       \n",
      "                                                                  'conv4_block3_3_bn[0][0]']      \n",
      "                                                                                                  \n",
      " conv4_block3_out (Activation)  (None, 8, 8, 1024)   0           ['conv4_block3_add[0][0]']       \n",
      "                                                                                                  \n",
      " conv4_block4_1_conv (Conv2D)   (None, 8, 8, 256)    262400      ['conv4_block3_out[0][0]']       \n",
      "                                                                                                  \n",
      " conv4_block4_1_bn (BatchNormal  (None, 8, 8, 256)   1024        ['conv4_block4_1_conv[0][0]']    \n",
      " ization)                                                                                         \n",
      "                                                                                                  \n",
      " conv4_block4_1_relu (Activatio  (None, 8, 8, 256)   0           ['conv4_block4_1_bn[0][0]']      \n",
      " n)                                                                                               \n",
      "                                                                                                  \n",
      " conv4_block4_2_conv (Conv2D)   (None, 8, 8, 256)    590080      ['conv4_block4_1_relu[0][0]']    \n",
      "                                                                                                  \n",
      " conv4_block4_2_bn (BatchNormal  (None, 8, 8, 256)   1024        ['conv4_block4_2_conv[0][0]']    \n",
      " ization)                                                                                         \n",
      "                                                                                                  \n",
      " conv4_block4_2_relu (Activatio  (None, 8, 8, 256)   0           ['conv4_block4_2_bn[0][0]']      \n",
      " n)                                                                                               \n",
      "                                                                                                  \n",
      " conv4_block4_3_conv (Conv2D)   (None, 8, 8, 1024)   263168      ['conv4_block4_2_relu[0][0]']    \n",
      "                                                                                                  \n",
      " conv4_block4_3_bn (BatchNormal  (None, 8, 8, 1024)  4096        ['conv4_block4_3_conv[0][0]']    \n",
      " ization)                                                                                         \n",
      "                                                                                                  \n",
      " conv4_block4_add (Add)         (None, 8, 8, 1024)   0           ['conv4_block3_out[0][0]',       \n",
      "                                                                  'conv4_block4_3_bn[0][0]']      \n",
      "                                                                                                  \n",
      " conv4_block4_out (Activation)  (None, 8, 8, 1024)   0           ['conv4_block4_add[0][0]']       \n",
      "                                                                                                  \n",
      " conv4_block5_1_conv (Conv2D)   (None, 8, 8, 256)    262400      ['conv4_block4_out[0][0]']       \n",
      "                                                                                                  \n",
      " conv4_block5_1_bn (BatchNormal  (None, 8, 8, 256)   1024        ['conv4_block5_1_conv[0][0]']    \n",
      " ization)                                                                                         \n",
      "                                                                                                  \n",
      " conv4_block5_1_relu (Activatio  (None, 8, 8, 256)   0           ['conv4_block5_1_bn[0][0]']      \n",
      " n)                                                                                               \n",
      "                                                                                                  \n",
      " conv4_block5_2_conv (Conv2D)   (None, 8, 8, 256)    590080      ['conv4_block5_1_relu[0][0]']    \n",
      "                                                                                                  \n",
      " conv4_block5_2_bn (BatchNormal  (None, 8, 8, 256)   1024        ['conv4_block5_2_conv[0][0]']    \n",
      " ization)                                                                                         \n",
      "                                                                                                  \n"
     ]
    },
    {
     "name": "stdout",
     "output_type": "stream",
     "text": [
      " conv4_block5_2_relu (Activatio  (None, 8, 8, 256)   0           ['conv4_block5_2_bn[0][0]']      \n",
      " n)                                                                                               \n",
      "                                                                                                  \n",
      " conv4_block5_3_conv (Conv2D)   (None, 8, 8, 1024)   263168      ['conv4_block5_2_relu[0][0]']    \n",
      "                                                                                                  \n",
      " conv4_block5_3_bn (BatchNormal  (None, 8, 8, 1024)  4096        ['conv4_block5_3_conv[0][0]']    \n",
      " ization)                                                                                         \n",
      "                                                                                                  \n",
      " conv4_block5_add (Add)         (None, 8, 8, 1024)   0           ['conv4_block4_out[0][0]',       \n",
      "                                                                  'conv4_block5_3_bn[0][0]']      \n",
      "                                                                                                  \n",
      " conv4_block5_out (Activation)  (None, 8, 8, 1024)   0           ['conv4_block5_add[0][0]']       \n",
      "                                                                                                  \n",
      " conv4_block6_1_conv (Conv2D)   (None, 8, 8, 256)    262400      ['conv4_block5_out[0][0]']       \n",
      "                                                                                                  \n",
      " conv4_block6_1_bn (BatchNormal  (None, 8, 8, 256)   1024        ['conv4_block6_1_conv[0][0]']    \n",
      " ization)                                                                                         \n",
      "                                                                                                  \n",
      " conv4_block6_1_relu (Activatio  (None, 8, 8, 256)   0           ['conv4_block6_1_bn[0][0]']      \n",
      " n)                                                                                               \n",
      "                                                                                                  \n",
      " conv4_block6_2_conv (Conv2D)   (None, 8, 8, 256)    590080      ['conv4_block6_1_relu[0][0]']    \n",
      "                                                                                                  \n",
      " conv4_block6_2_bn (BatchNormal  (None, 8, 8, 256)   1024        ['conv4_block6_2_conv[0][0]']    \n",
      " ization)                                                                                         \n",
      "                                                                                                  \n",
      " conv4_block6_2_relu (Activatio  (None, 8, 8, 256)   0           ['conv4_block6_2_bn[0][0]']      \n",
      " n)                                                                                               \n",
      "                                                                                                  \n",
      " conv4_block6_3_conv (Conv2D)   (None, 8, 8, 1024)   263168      ['conv4_block6_2_relu[0][0]']    \n",
      "                                                                                                  \n",
      " conv4_block6_3_bn (BatchNormal  (None, 8, 8, 1024)  4096        ['conv4_block6_3_conv[0][0]']    \n",
      " ization)                                                                                         \n",
      "                                                                                                  \n",
      " conv4_block6_add (Add)         (None, 8, 8, 1024)   0           ['conv4_block5_out[0][0]',       \n",
      "                                                                  'conv4_block6_3_bn[0][0]']      \n",
      "                                                                                                  \n",
      " conv4_block6_out (Activation)  (None, 8, 8, 1024)   0           ['conv4_block6_add[0][0]']       \n",
      "                                                                                                  \n",
      " conv5_block1_1_conv (Conv2D)   (None, 4, 4, 512)    524800      ['conv4_block6_out[0][0]']       \n",
      "                                                                                                  \n",
      " conv5_block1_1_bn (BatchNormal  (None, 4, 4, 512)   2048        ['conv5_block1_1_conv[0][0]']    \n",
      " ization)                                                                                         \n",
      "                                                                                                  \n",
      " conv5_block1_1_relu (Activatio  (None, 4, 4, 512)   0           ['conv5_block1_1_bn[0][0]']      \n",
      " n)                                                                                               \n",
      "                                                                                                  \n",
      " conv5_block1_2_conv (Conv2D)   (None, 4, 4, 512)    2359808     ['conv5_block1_1_relu[0][0]']    \n",
      "                                                                                                  \n",
      " conv5_block1_2_bn (BatchNormal  (None, 4, 4, 512)   2048        ['conv5_block1_2_conv[0][0]']    \n",
      " ization)                                                                                         \n",
      "                                                                                                  \n",
      " conv5_block1_2_relu (Activatio  (None, 4, 4, 512)   0           ['conv5_block1_2_bn[0][0]']      \n",
      " n)                                                                                               \n",
      "                                                                                                  \n",
      " conv5_block1_0_conv (Conv2D)   (None, 4, 4, 2048)   2099200     ['conv4_block6_out[0][0]']       \n",
      "                                                                                                  \n",
      " conv5_block1_3_conv (Conv2D)   (None, 4, 4, 2048)   1050624     ['conv5_block1_2_relu[0][0]']    \n",
      "                                                                                                  \n",
      " conv5_block1_0_bn (BatchNormal  (None, 4, 4, 2048)  8192        ['conv5_block1_0_conv[0][0]']    \n",
      " ization)                                                                                         \n",
      "                                                                                                  \n",
      " conv5_block1_3_bn (BatchNormal  (None, 4, 4, 2048)  8192        ['conv5_block1_3_conv[0][0]']    \n",
      " ization)                                                                                         \n",
      "                                                                                                  \n",
      " conv5_block1_add (Add)         (None, 4, 4, 2048)   0           ['conv5_block1_0_bn[0][0]',      \n",
      "                                                                  'conv5_block1_3_bn[0][0]']      \n",
      "                                                                                                  \n",
      " conv5_block1_out (Activation)  (None, 4, 4, 2048)   0           ['conv5_block1_add[0][0]']       \n",
      "                                                                                                  \n",
      " conv5_block2_1_conv (Conv2D)   (None, 4, 4, 512)    1049088     ['conv5_block1_out[0][0]']       \n",
      "                                                                                                  \n",
      " conv5_block2_1_bn (BatchNormal  (None, 4, 4, 512)   2048        ['conv5_block2_1_conv[0][0]']    \n",
      " ization)                                                                                         \n",
      "                                                                                                  \n",
      " conv5_block2_1_relu (Activatio  (None, 4, 4, 512)   0           ['conv5_block2_1_bn[0][0]']      \n",
      " n)                                                                                               \n",
      "                                                                                                  \n",
      " conv5_block2_2_conv (Conv2D)   (None, 4, 4, 512)    2359808     ['conv5_block2_1_relu[0][0]']    \n",
      "                                                                                                  \n",
      " conv5_block2_2_bn (BatchNormal  (None, 4, 4, 512)   2048        ['conv5_block2_2_conv[0][0]']    \n",
      " ization)                                                                                         \n",
      "                                                                                                  \n"
     ]
    },
    {
     "name": "stdout",
     "output_type": "stream",
     "text": [
      " conv5_block2_2_relu (Activatio  (None, 4, 4, 512)   0           ['conv5_block2_2_bn[0][0]']      \n",
      " n)                                                                                               \n",
      "                                                                                                  \n",
      " conv5_block2_3_conv (Conv2D)   (None, 4, 4, 2048)   1050624     ['conv5_block2_2_relu[0][0]']    \n",
      "                                                                                                  \n",
      " conv5_block2_3_bn (BatchNormal  (None, 4, 4, 2048)  8192        ['conv5_block2_3_conv[0][0]']    \n",
      " ization)                                                                                         \n",
      "                                                                                                  \n",
      " conv5_block2_add (Add)         (None, 4, 4, 2048)   0           ['conv5_block1_out[0][0]',       \n",
      "                                                                  'conv5_block2_3_bn[0][0]']      \n",
      "                                                                                                  \n",
      " conv5_block2_out (Activation)  (None, 4, 4, 2048)   0           ['conv5_block2_add[0][0]']       \n",
      "                                                                                                  \n",
      " conv5_block3_1_conv (Conv2D)   (None, 4, 4, 512)    1049088     ['conv5_block2_out[0][0]']       \n",
      "                                                                                                  \n",
      " conv5_block3_1_bn (BatchNormal  (None, 4, 4, 512)   2048        ['conv5_block3_1_conv[0][0]']    \n",
      " ization)                                                                                         \n",
      "                                                                                                  \n",
      " conv5_block3_1_relu (Activatio  (None, 4, 4, 512)   0           ['conv5_block3_1_bn[0][0]']      \n",
      " n)                                                                                               \n",
      "                                                                                                  \n",
      " conv5_block3_2_conv (Conv2D)   (None, 4, 4, 512)    2359808     ['conv5_block3_1_relu[0][0]']    \n",
      "                                                                                                  \n",
      " conv5_block3_2_bn (BatchNormal  (None, 4, 4, 512)   2048        ['conv5_block3_2_conv[0][0]']    \n",
      " ization)                                                                                         \n",
      "                                                                                                  \n",
      " conv5_block3_2_relu (Activatio  (None, 4, 4, 512)   0           ['conv5_block3_2_bn[0][0]']      \n",
      " n)                                                                                               \n",
      "                                                                                                  \n",
      " conv5_block3_3_conv (Conv2D)   (None, 4, 4, 2048)   1050624     ['conv5_block3_2_relu[0][0]']    \n",
      "                                                                                                  \n",
      " conv5_block3_3_bn (BatchNormal  (None, 4, 4, 2048)  8192        ['conv5_block3_3_conv[0][0]']    \n",
      " ization)                                                                                         \n",
      "                                                                                                  \n",
      " conv5_block3_add (Add)         (None, 4, 4, 2048)   0           ['conv5_block2_out[0][0]',       \n",
      "                                                                  'conv5_block3_3_bn[0][0]']      \n",
      "                                                                                                  \n",
      " conv5_block3_out (Activation)  (None, 4, 4, 2048)   0           ['conv5_block3_add[0][0]']       \n",
      "                                                                                                  \n",
      " flatten (Flatten)              (None, 32768)        0           ['conv5_block3_out[0][0]']       \n",
      "                                                                                                  \n",
      " dense (Dense)                  (None, 1024)         33555456    ['flatten[0][0]']                \n",
      "                                                                                                  \n",
      " dropout (Dropout)              (None, 1024)         0           ['dense[0][0]']                  \n",
      "                                                                                                  \n",
      " dense_1 (Dense)                (None, 512)          524800      ['dropout[0][0]']                \n",
      "                                                                                                  \n",
      " dropout_1 (Dropout)            (None, 512)          0           ['dense_1[0][0]']                \n",
      "                                                                                                  \n",
      " dense_2 (Dense)                (None, 256)          131328      ['dropout_1[0][0]']              \n",
      "                                                                                                  \n",
      " dropout_2 (Dropout)            (None, 256)          0           ['dense_2[0][0]']                \n",
      "                                                                                                  \n",
      " batch_normalization (BatchNorm  (None, 256)         1024        ['dropout_2[0][0]']              \n",
      " alization)                                                                                       \n",
      "                                                                                                  \n",
      " dense_3 (Dense)                (None, 128)          32896       ['batch_normalization[0][0]']    \n",
      "                                                                                                  \n",
      " dropout_3 (Dropout)            (None, 128)          0           ['dense_3[0][0]']                \n",
      "                                                                                                  \n",
      " batch_normalization_1 (BatchNo  (None, 128)         512         ['dropout_3[0][0]']              \n",
      " rmalization)                                                                                     \n",
      "                                                                                                  \n",
      " dense_4 (Dense)                (None, 64)           8256        ['batch_normalization_1[0][0]']  \n",
      "                                                                                                  \n",
      " dense_5 (Dense)                (None, 1)            65          ['dense_4[0][0]']                \n",
      "                                                                                                  \n",
      "==================================================================================================\n",
      "Total params: 57,842,051\n",
      "Trainable params: 35,308,289\n",
      "Non-trainable params: 22,533,762\n",
      "__________________________________________________________________________________________________\n",
      "Epoch 1/5\n"
     ]
    },
    {
     "name": "stderr",
     "output_type": "stream",
     "text": [
      "2023-04-01 20:58:09.366280: W tensorflow/core/platform/profile_utils/cpu_utils.cc:128] Failed to get CPU frequency: 0 Hz\n",
      "2023-04-01 20:58:10.842694: I tensorflow/core/grappler/optimizers/custom_graph_optimizer_registry.cc:113] Plugin optimizer for device_type GPU is enabled.\n"
     ]
    },
    {
     "name": "stdout",
     "output_type": "stream",
     "text": [
      "2599/2599 [==============================] - ETA: 0s - loss: 1.1742 - auc: 0.8896 - accuracy: 0.7652"
     ]
    },
    {
     "name": "stderr",
     "output_type": "stream",
     "text": [
      "2023-04-01 21:01:40.859671: I tensorflow/core/grappler/optimizers/custom_graph_optimizer_registry.cc:113] Plugin optimizer for device_type GPU is enabled.\n"
     ]
    },
    {
     "name": "stdout",
     "output_type": "stream",
     "text": [
      "2599/2599 [==============================] - 215s 82ms/step - loss: 1.1742 - auc: 0.8896 - accuracy: 0.7652 - val_loss: 2.2030 - val_auc: 0.8285 - val_accuracy: 0.2570\n",
      "Epoch 2/5\n",
      "2599/2599 [==============================] - 209s 80ms/step - loss: 0.5752 - auc: 0.9703 - accuracy: 0.8976 - val_loss: 0.4277 - val_auc: 0.9265 - val_accuracy: 0.8960\n",
      "Epoch 3/5\n",
      "2599/2599 [==============================] - 209s 81ms/step - loss: 0.4706 - auc: 0.9814 - accuracy: 0.9257 - val_loss: 0.8794 - val_auc: 0.6362 - val_accuracy: 0.6509\n",
      "Epoch 4/5\n",
      "2599/2599 [==============================] - 210s 81ms/step - loss: 0.4145 - auc: 0.9869 - accuracy: 0.9399 - val_loss: 2.7371 - val_auc: 0.7025 - val_accuracy: 0.2328\n",
      "Epoch 5/5\n",
      "2599/2599 [==============================] - 210s 81ms/step - loss: 0.3618 - auc: 0.9900 - accuracy: 0.9504 - val_loss: 0.8181 - val_auc: 0.9487 - val_accuracy: 0.7985\n"
     ]
    },
    {
     "data": {
      "text/plain": [
       "<keras.callbacks.History at 0x35f376050>"
      ]
     },
     "execution_count": 11,
     "metadata": {},
     "output_type": "execute_result"
    }
   ],
   "source": [
    "# draft model\n",
    "#inputs = Input(shape=(224, 224, 3))\n",
    "callback = tf.keras.callbacks.EarlyStopping(monitor='val_loss', restore_best_weights=True, patience=2)\n",
    "\n",
    "resnet = tf.keras.applications.ResNet50(include_top=False, weights='imagenet', input_shape=(128,128,3))\n",
    "\n",
    "for layer in resnet.layers[:170]:\n",
    "    layer.trainable = False\n",
    "\n",
    "metrics_list = [tf.keras.metrics.AUC(name = 'auc'),\n",
    "                tf.keras.metrics.BinaryAccuracy(name = 'accuracy')]\n",
    "\n",
    "#calculate class weights\n",
    "class_weights = {0 : 5, 1 : 1} \n",
    "\n",
    "optimizer_fn = tf.keras.optimizers.experimental.RMSprop(learning_rate=0.001, jit_compile = False)\n",
    "#optimizer_fn = tf.keras.optimizers.Adam(learning_rate=0.00002)\n",
    "\n",
    "x = Flatten()(resnet.output)\n",
    "x = Dense(1024, activation = 'relu', kernel_regularizer='l2')(x)\n",
    "x = Dropout(0.2)(x)\n",
    "x = Dense(512, activation = 'relu')(x)\n",
    "x = Dropout(0.2)(x)\n",
    "x = Dense(256, activation = 'relu')(x)\n",
    "x = Dropout(0.2)(x)\n",
    "x = BatchNormalization()(x)\n",
    "x = Dense(128, activation = 'relu', kernel_regularizer='l2')(x)\n",
    "x = Dropout(0.2)(x)\n",
    "x = BatchNormalization()(x)\n",
    "x = Dense(64, activation = 'relu')(x)\n",
    "x = Dense(1, activation = 'sigmoid')(x)\n",
    "\n",
    "model = tf.keras.Model(resnet.input, x)\n",
    "\n",
    "model.compile(optimizer = optimizer_fn, loss='binary_crossentropy', metrics= metrics_list)\n",
    "model.summary()\n",
    "model.fit(train_gen, validation_data = (x_val, y_val), epochs=5, batch_size = batch_size, class_weight = class_weights)\n"
   ]
  },
  {
   "cell_type": "code",
   "execution_count": 27,
   "id": "b3797283",
   "metadata": {},
   "outputs": [
    {
     "name": "stdout",
     "output_type": "stream",
     "text": [
      "58/58 [==============================] - 3s 47ms/step - loss: 0.8181 - auc: 0.9487 - accuracy: 0.7985\n"
     ]
    },
    {
     "data": {
      "text/plain": [
       "[0.818135678768158, 0.9486595392227173, 0.798491358757019]"
      ]
     },
     "execution_count": 27,
     "metadata": {},
     "output_type": "execute_result"
    }
   ],
   "source": [
    "results = model.evaluate(x_val, y_val)\n",
    "results"
   ]
  },
  {
   "cell_type": "code",
   "execution_count": 28,
   "id": "6d4d60ff",
   "metadata": {},
   "outputs": [
    {
     "name": "stdout",
     "output_type": "stream",
     "text": [
      "58/58 [==============================] - 2s 40ms/step\n"
     ]
    }
   ],
   "source": [
    "y_pred = model.predict(x_val)"
   ]
  },
  {
   "cell_type": "code",
   "execution_count": 30,
   "id": "0d701795",
   "metadata": {},
   "outputs": [
    {
     "name": "stdout",
     "output_type": "stream",
     "text": [
      "1.0\n",
      "0.7861635220125787\n"
     ]
    }
   ],
   "source": [
    "precision = precision_score(y_val, y_pred.round())\n",
    "recall = recall_score(y_val, y_pred.round())\n",
    "print(precision)\n",
    "print(recall)"
   ]
  },
  {
   "cell_type": "code",
   "execution_count": 31,
   "id": "1c424d47",
   "metadata": {},
   "outputs": [
    {
     "data": {
      "text/plain": [
       "array([[ 107,    0],\n",
       "       [ 374, 1375]])"
      ]
     },
     "execution_count": 31,
     "metadata": {},
     "output_type": "execute_result"
    }
   ],
   "source": [
    "confusion_matrix(y_val, y_pred.round())"
   ]
  },
  {
   "cell_type": "code",
   "execution_count": 32,
   "id": "34189632",
   "metadata": {},
   "outputs": [
    {
     "name": "stdout",
     "output_type": "stream",
     "text": [
      "              precision    recall  f1-score   support\n",
      "\n",
      "         0.0       0.22      1.00      0.36       107\n",
      "         1.0       1.00      0.79      0.88      1749\n",
      "\n",
      "    accuracy                           0.80      1856\n",
      "   macro avg       0.61      0.89      0.62      1856\n",
      "weighted avg       0.96      0.80      0.85      1856\n",
      "\n"
     ]
    }
   ],
   "source": [
    "print(classification_report(y_val, y_pred.round()))"
   ]
  },
  {
   "cell_type": "code",
   "execution_count": 18,
   "id": "d01af640",
   "metadata": {},
   "outputs": [
    {
     "data": {
      "text/plain": [
       "(array([0., 1.], dtype=float32), array([ 107, 1749]))"
      ]
     },
     "execution_count": 18,
     "metadata": {},
     "output_type": "execute_result"
    }
   ],
   "source": [
    "np.unique(y_val, return_counts=True)"
   ]
  },
  {
   "cell_type": "markdown",
   "id": "34bcc392",
   "metadata": {},
   "source": [
    "## Test evaluation"
   ]
  },
  {
   "cell_type": "code",
   "execution_count": 44,
   "id": "8480de31",
   "metadata": {},
   "outputs": [
    {
     "name": "stdout",
     "output_type": "stream",
     "text": [
      "537/537 [==============================] - 22s 40ms/step\n"
     ]
    },
    {
     "data": {
      "text/plain": [
       "array([[  218,   581],\n",
       "       [ 4518, 11843]])"
      ]
     },
     "execution_count": 44,
     "metadata": {},
     "output_type": "execute_result"
    }
   ],
   "source": [
    "y_pred_test = model.predict(x_test)"
   ]
  },
  {
   "cell_type": "code",
   "execution_count": 45,
   "id": "4c0df661",
   "metadata": {},
   "outputs": [
    {
     "data": {
      "text/plain": [
       "array([[  218,   581],\n",
       "       [ 4518, 11843]])"
      ]
     },
     "execution_count": 45,
     "metadata": {},
     "output_type": "execute_result"
    }
   ],
   "source": [
    "confusion_matrix(y_test, y_pred_test.round())"
   ]
  },
  {
   "cell_type": "code",
   "execution_count": 46,
   "id": "a99b5258",
   "metadata": {},
   "outputs": [
    {
     "name": "stdout",
     "output_type": "stream",
     "text": [
      "              precision    recall  f1-score   support\n",
      "\n",
      "         0.0       0.05      0.27      0.08       799\n",
      "         1.0       0.95      0.72      0.82     16361\n",
      "\n",
      "    accuracy                           0.70     17160\n",
      "   macro avg       0.50      0.50      0.45     17160\n",
      "weighted avg       0.91      0.70      0.79     17160\n",
      "\n"
     ]
    }
   ],
   "source": [
    "print(classification_report(y_test, y_pred_test.round()))"
   ]
  },
  {
   "cell_type": "code",
   "execution_count": 47,
   "id": "95cc8b6e",
   "metadata": {},
   "outputs": [
    {
     "data": {
      "text/plain": [
       "(array([0., 1.], dtype=float32), array([  799, 16361]))"
      ]
     },
     "execution_count": 47,
     "metadata": {},
     "output_type": "execute_result"
    }
   ],
   "source": [
    "np.unique(y_test, return_counts=True)"
   ]
  },
  {
   "cell_type": "markdown",
   "id": "c2cd5035",
   "metadata": {},
   "source": [
    "## Save model"
   ]
  },
  {
   "cell_type": "code",
   "execution_count": null,
   "id": "7800f811",
   "metadata": {},
   "outputs": [],
   "source": [
    "model_json = model.to_json()\n",
    "with open(\"model1.json\", \"w\") as json_file:\n",
    "    json_file.write(model_json)\n",
    "model.save_weights(\"model1.h5\")"
   ]
  },
  {
   "cell_type": "markdown",
   "id": "6f30a44d",
   "metadata": {},
   "source": [
    "## Load model"
   ]
  },
  {
   "cell_type": "code",
   "execution_count": 146,
   "id": "b408354b",
   "metadata": {},
   "outputs": [],
   "source": [
    "# load json and create model\n",
    "json_file = open('baseline_model/model1.json', 'r')\n",
    "loaded_model_json = json_file.read()\n",
    "json_file.close()\n",
    "loaded_model = tf.keras.models.model_from_json(loaded_model_json)\n",
    "# load weights into new model\n",
    "loaded_model.load_weights(\"baseline_model/model1.h5\")"
   ]
  },
  {
   "cell_type": "code",
   "execution_count": 147,
   "id": "941febbc",
   "metadata": {},
   "outputs": [
    {
     "name": "stderr",
     "output_type": "stream",
     "text": [
      "2023-04-06 13:07:12.869238: I tensorflow/core/grappler/optimizers/custom_graph_optimizer_registry.cc:113] Plugin optimizer for device_type GPU is enabled.\n"
     ]
    },
    {
     "name": "stdout",
     "output_type": "stream",
     "text": [
      "58/58 [==============================] - 4s 52ms/step - loss: 0.8181 - auc: 0.9487 - accuracy: 0.7985\n"
     ]
    },
    {
     "data": {
      "text/plain": [
       "[0.818135678768158, 0.9486595392227173, 0.798491358757019]"
      ]
     },
     "execution_count": 147,
     "metadata": {},
     "output_type": "execute_result"
    }
   ],
   "source": [
    "# evaluate loaded model on test data\n",
    "optimizer_fn = tf.keras.optimizers.experimental.RMSprop(learning_rate=0.001, jit_compile = False)\n",
    "metrics_list = [tf.keras.metrics.AUC(name = 'auc'),\n",
    "                tf.keras.metrics.BinaryAccuracy(name = 'accuracy')]\n",
    "loaded_model.compile(optimizer = optimizer_fn, loss='binary_crossentropy', metrics= metrics_list)\n",
    "score1 = loaded_model.evaluate(x_val, y_val)\n",
    "score1"
   ]
  },
  {
   "cell_type": "markdown",
   "id": "ad5d0f3b",
   "metadata": {},
   "source": [
    "## Majority voting"
   ]
  },
  {
   "cell_type": "code",
   "execution_count": 164,
   "id": "a158e374",
   "metadata": {},
   "outputs": [],
   "source": [
    "# load validation set\n",
    "val_case = ['case_00233', 'case_00089', 'case_00050', 'case_00112', 'case_00258', 'case_00246', 'case_00157', 'case_00149','case_00184']\n",
    "test_case = ['case_00221', 'case_00259', 'case_00087', 'case_00254', 'case_00098', 'case_00023', 'case_00041',\n",
    "             'case_00080', 'case_00101', 'case_00164', 'case_00002', 'case_00110', 'case_00030', 'case_00068',\n",
    "             'case_00026', 'case_00063', 'case_00006', 'case_00048', 'case_00250', 'case_00238', 'case_00015',\n",
    "             'case_00111', 'case_00278', 'case_00133', 'case_00284', 'case_00282', 'case_00269', 'case_00039',\n",
    "             'case_00033', 'case_00108', 'case_00175', 'case_00161', 'case_00256', 'case_00119', 'case_00286',\n",
    "             'case_00077', 'case_00162', 'case_00270', 'case_00271', 'case_00285', 'case_00174', 'case_00147',\n",
    "             'case_00215', 'case_00150', 'case_00052', 'case_00231', 'case_00198', 'case_00117', 'case_00138',\n",
    "             'case_00211', 'case_00190', 'case_00248', 'case_00235', 'case_00049', 'case_00074', 'case_00107',\n",
    "             'case_00218', 'case_00001', 'case_00193', 'case_00067', 'case_00289', 'case_00072', 'case_00044',\n",
    "             'case_00294', 'case_00298', 'case_00263', 'case_00038', 'case_00299', 'case_00249', 'case_00225',\n",
    "             'case_00217', 'case_00178', 'case_00082', 'case_00035', 'case_00034', 'case_00047', 'case_00276',\n",
    "             'case_00151', 'case_00226', 'case_00086', 'case_00176']"
   ]
  },
  {
   "cell_type": "code",
   "execution_count": 148,
   "id": "e21902b9",
   "metadata": {},
   "outputs": [],
   "source": [
    "def adding_channel_dict(image_dict):\n",
    "    for key in image_dict:\n",
    "        image_dict[key] = generate_input.adding_channel(image_dict[key])\n",
    "    return image_dict\n",
    "\n",
    "def load_data_to_evaluate_by_majority_voting(rootdir, img_dir, json_path, list_cases):\n",
    "    val_path = generate_input.processed_image_paths(rootdir, img_dir)\n",
    "    labels_dict = generate_input.malignant_labels_to_dict(json_path)\n",
    "    labels_dict_short = generate_part_label_dict(labels_dict, list_cases)\n",
    "    labels_dict_short = {key: float(value) for key, value in labels_dict_short.items()}\n",
    "    \n",
    "    image_dict_short = generate_input.load_nifti_img_and_mask_as_numpy(val_path, list_cases)\n",
    "    image_dict_short = adding_channel_dict(image_dict_short)\n",
    "    return image_dict_short, labels_dict_short\n",
    "    \n",
    "def create_prediction_dict(image_dict, model):\n",
    "    pred_dict = {}\n",
    "    for key in image_dict:\n",
    "        y_pred = model.predict(image_dict[key])\n",
    "        pred_dict[key] = np.round(np.sum(y_pred)/len(y_pred))\n",
    "    return pred_dict\n",
    "\n",
    "def create_true_and_prediction_lists(true_dict, pred_dict):\n",
    "    common_keys = true_dict.keys() & pred_dict.keys()\n",
    "    true_lst = []\n",
    "    pred_lst = [] \n",
    "    for key in common_keys:\n",
    "        true_lst.append(true_dict[key])\n",
    "        pred_lst.append(pred_dict[key])   \n",
    "    return true_lst, pred_lst"
   ]
  },
  {
   "cell_type": "markdown",
   "id": "088880b1",
   "metadata": {},
   "source": [
    "### validation cases"
   ]
  },
  {
   "cell_type": "code",
   "execution_count": 149,
   "id": "78c8ca73",
   "metadata": {},
   "outputs": [],
   "source": [
    "val_dict, labels_val = load_data_to_evaluate_by_majority_voting('./preprocessed-data/', 'images', '../kits21/kits21/data/kits.json', val_case)"
   ]
  },
  {
   "cell_type": "code",
   "execution_count": 157,
   "id": "12a92ce6",
   "metadata": {
    "scrolled": true
   },
   "outputs": [
    {
     "name": "stdout",
     "output_type": "stream",
     "text": [
      "4/4 [==============================] - 0s 49ms/step\n",
      "2/2 [==============================] - 0s 42ms/step\n",
      "4/4 [==============================] - 0s 68ms/step\n",
      "4/4 [==============================] - 0s 52ms/step\n",
      "19/19 [==============================] - 1s 41ms/step\n",
      "3/3 [==============================] - 0s 41ms/step\n",
      "18/18 [==============================] - 1s 41ms/step\n",
      "3/3 [==============================] - 0s 41ms/step\n",
      "5/5 [==============================] - 0s 45ms/step\n"
     ]
    }
   ],
   "source": [
    "val_pred_dict = create_prediction_dict(val_dict, loaded_model)"
   ]
  },
  {
   "cell_type": "code",
   "execution_count": 159,
   "id": "9dd86de3",
   "metadata": {},
   "outputs": [],
   "source": [
    "val_true_lst, val_pred_lst = create_true_and_prediction_lists(labels_val, val_pred_dict)"
   ]
  },
  {
   "cell_type": "code",
   "execution_count": 162,
   "id": "2b4c0324",
   "metadata": {},
   "outputs": [
    {
     "name": "stdout",
     "output_type": "stream",
     "text": [
      "[[1 0]\n",
      " [3 5]]\n"
     ]
    }
   ],
   "source": [
    "print(confusion_matrix(val_true_lst, val_pred_lst))"
   ]
  },
  {
   "cell_type": "code",
   "execution_count": 163,
   "id": "035fb53e",
   "metadata": {},
   "outputs": [
    {
     "name": "stdout",
     "output_type": "stream",
     "text": [
      "              precision    recall  f1-score   support\n",
      "\n",
      "         0.0       0.25      1.00      0.40         1\n",
      "         1.0       1.00      0.62      0.77         8\n",
      "\n",
      "    accuracy                           0.67         9\n",
      "   macro avg       0.62      0.81      0.58         9\n",
      "weighted avg       0.92      0.67      0.73         9\n",
      "\n"
     ]
    }
   ],
   "source": [
    "print(classification_report(val_true_lst, val_pred_lst))"
   ]
  },
  {
   "cell_type": "markdown",
   "id": "a9d5e808",
   "metadata": {},
   "source": [
    "### test cases"
   ]
  },
  {
   "cell_type": "code",
   "execution_count": 165,
   "id": "f6e45e48",
   "metadata": {},
   "outputs": [],
   "source": [
    "test_dict, test_label_dict = load_data_to_evaluate_by_majority_voting('./preprocessed-data/', 'images', '../kits21/kits21/data/kits.json', test_case)"
   ]
  },
  {
   "cell_type": "code",
   "execution_count": 166,
   "id": "41835e8a",
   "metadata": {},
   "outputs": [
    {
     "name": "stdout",
     "output_type": "stream",
     "text": [
      "3/3 [==============================] - 1s 256ms/step\n",
      "4/4 [==============================] - 1s 203ms/step\n",
      "9/9 [==============================] - 1s 104ms/step\n",
      "3/3 [==============================] - 0s 49ms/step\n",
      "4/4 [==============================] - 0s 42ms/step\n",
      "2/2 [==============================] - 1s 611ms/step\n",
      "19/19 [==============================] - 1s 74ms/step\n",
      "3/3 [==============================] - 0s 67ms/step\n",
      "5/5 [==============================] - 0s 40ms/step\n",
      "3/3 [==============================] - 0s 89ms/step\n",
      "3/3 [==============================] - 0s 229ms/step\n",
      "1/1 [==============================] - 0s 23ms/step\n",
      "3/3 [==============================] - 0s 71ms/step\n",
      "9/9 [==============================] - 1s 118ms/step\n",
      "3/3 [==============================] - 1s 341ms/step\n",
      "3/3 [==============================] - 0s 33ms/step\n",
      "5/5 [==============================] - 1s 181ms/step\n",
      "16/16 [==============================] - 1s 44ms/step\n",
      "21/21 [==============================] - 1s 44ms/step\n",
      "21/21 [==============================] - 1s 45ms/step\n",
      "3/3 [==============================] - 0s 87ms/step\n",
      "23/23 [==============================] - 1s 53ms/step\n",
      "3/3 [==============================] - 1s 358ms/step\n",
      "3/3 [==============================] - 1s 332ms/step\n",
      "3/3 [==============================] - 1s 338ms/step\n",
      "9/9 [==============================] - 0s 41ms/step\n",
      "3/3 [==============================] - 0s 76ms/step\n",
      "17/17 [==============================] - 2s 99ms/step\n",
      "3/3 [==============================] - 0s 78ms/step\n",
      "3/3 [==============================] - 1s 311ms/step\n",
      "9/9 [==============================] - 0s 42ms/step\n",
      "8/8 [==============================] - 1s 157ms/step\n",
      "15/15 [==============================] - 1s 54ms/step\n",
      "3/3 [==============================] - 0s 228ms/step\n",
      "3/3 [==============================] - 0s 92ms/step\n",
      "6/6 [==============================] - 1s 132ms/step\n",
      "2/2 [==============================] - 0s 54ms/step\n",
      "3/3 [==============================] - 1s 516ms/step\n",
      "20/20 [==============================] - 1s 46ms/step\n",
      "20/20 [==============================] - 2s 87ms/step\n",
      "6/6 [==============================] - 1s 124ms/step\n",
      "2/2 [==============================] - 1s 997ms/step\n",
      "20/20 [==============================] - 1s 51ms/step\n",
      "3/3 [==============================] - 1s 301ms/step\n",
      "20/20 [==============================] - 1s 50ms/step\n",
      "5/5 [==============================] - 0s 115ms/step\n",
      "2/2 [==============================] - 0s 130ms/step\n",
      "3/3 [==============================] - 0s 173ms/step\n",
      "4/4 [==============================] - 1s 173ms/step\n",
      "3/3 [==============================] - 1s 268ms/step\n",
      "8/8 [==============================] - 0s 45ms/step\n",
      "22/22 [==============================] - 1s 49ms/step\n",
      "7/7 [==============================] - 0s 57ms/step\n",
      "6/6 [==============================] - 0s 40ms/step\n",
      "4/4 [==============================] - 0s 75ms/step\n",
      "5/5 [==============================] - 1s 275ms/step\n",
      "6/6 [==============================] - 0s 42ms/step\n",
      "3/3 [==============================] - 1s 286ms/step\n",
      "7/7 [==============================] - 1s 201ms/step\n",
      "8/8 [==============================] - 1s 100ms/step\n",
      "2/2 [==============================] - 0s 234ms/step\n",
      "2/2 [==============================] - 0s 404ms/step\n",
      "4/4 [==============================] - 0s 76ms/step\n",
      "4/4 [==============================] - 0s 40ms/step\n",
      "5/5 [==============================] - 1s 144ms/step\n",
      "5/5 [==============================] - 1s 159ms/step\n",
      "4/4 [==============================] - 0s 101ms/step\n",
      "4/4 [==============================] - 0s 154ms/step\n",
      "34/34 [==============================] - 2s 70ms/step\n",
      "5/5 [==============================] - 0s 43ms/step\n",
      "2/2 [==============================] - 1s 502ms/step\n",
      "8/8 [==============================] - 1s 99ms/step\n",
      "3/3 [==============================] - 0s 33ms/step\n",
      "4/4 [==============================] - 1s 132ms/step\n",
      "10/10 [==============================] - 0s 51ms/step\n",
      "6/6 [==============================] - 1s 118ms/step\n",
      "4/4 [==============================] - 0s 107ms/step\n",
      "6/6 [==============================] - 1s 122ms/step\n",
      "14/14 [==============================] - 1s 48ms/step\n",
      "6/6 [==============================] - 1s 120ms/step\n",
      "3/3 [==============================] - 0s 137ms/step\n"
     ]
    }
   ],
   "source": [
    "test_pred_dict = create_prediction_dict(test_dict, loaded_model)"
   ]
  },
  {
   "cell_type": "code",
   "execution_count": 167,
   "id": "10d58978",
   "metadata": {},
   "outputs": [],
   "source": [
    "test_true_lst, test_pred_lst = create_true_and_prediction_lists(test_label_dict, test_pred_dict)"
   ]
  },
  {
   "cell_type": "code",
   "execution_count": 168,
   "id": "f7bb92f0",
   "metadata": {},
   "outputs": [
    {
     "name": "stdout",
     "output_type": "stream",
     "text": [
      "[[ 1  6]\n",
      " [17 57]]\n"
     ]
    }
   ],
   "source": [
    "print(confusion_matrix(test_true_lst, test_pred_lst))"
   ]
  },
  {
   "cell_type": "code",
   "execution_count": 169,
   "id": "bb10f616",
   "metadata": {},
   "outputs": [
    {
     "name": "stdout",
     "output_type": "stream",
     "text": [
      "              precision    recall  f1-score   support\n",
      "\n",
      "         0.0       0.06      0.14      0.08         7\n",
      "         1.0       0.90      0.77      0.83        74\n",
      "\n",
      "    accuracy                           0.72        81\n",
      "   macro avg       0.48      0.46      0.46        81\n",
      "weighted avg       0.83      0.72      0.77        81\n",
      "\n"
     ]
    }
   ],
   "source": [
    "print(classification_report(test_true_lst, test_pred_lst))"
   ]
  },
  {
   "cell_type": "code",
   "execution_count": null,
   "id": "4e1a7b2a",
   "metadata": {},
   "outputs": [],
   "source": []
  },
  {
   "cell_type": "code",
   "execution_count": null,
   "id": "e7da13c3",
   "metadata": {},
   "outputs": [],
   "source": []
  },
  {
   "cell_type": "code",
   "execution_count": null,
   "id": "4dd96ebd",
   "metadata": {},
   "outputs": [],
   "source": []
  },
  {
   "cell_type": "code",
   "execution_count": null,
   "id": "bc6c4f25",
   "metadata": {},
   "outputs": [],
   "source": [
    "### XAI"
   ]
  },
  {
   "cell_type": "code",
   "execution_count": null,
   "id": "c654135e",
   "metadata": {},
   "outputs": [],
   "source": [
    "# # draft model\n",
    "# restnet = tf.keras.applications.ResNet50(include_top=False, input_shape=(224, 224, 3), classes=1)\n",
    "\n",
    "# # metrics_list = [tf.keras.metrics.SpecificityAtSensitivity(0.7, name = 'specificity'),\n",
    "# #                tf.keras.metrics.AUC(name = 'auc'),\n",
    "# #                tf.keras.metrics.FalsePositives(name = 'fp'),\n",
    "# #                tf.keras.metrics.TrueNegatives(name = 'tn'),\n",
    "# #                 tf.keras.metrics.BinaryAccuracy(name = 'accuracy'),]\n",
    "\n",
    "# #calculate class weights\n",
    "# #class_weights_array = compute_class_weight(class_weight = 'balanced', classes = np.unique(y_train), y = np.concatenate(y_train, axis=0))\n",
    "# #class_weights = dict(zip(np.unique(y_train), class_weights_array ))\n",
    "\n",
    "\n",
    "# optimizer_fn = tf.keras.optimizers.experimental.RMSprop(learning_rate=0.00002, jit_compile = False)\n",
    "\n",
    "\n",
    "# model = Sequential()\n",
    "# model.add(restnet)\n",
    "# model.add(Dense(224, activation='relu', input_dim=(224, 224, 3)))\n",
    "# model.add(Dropout(0.3))\n",
    "# model.add(Flatten())\n",
    "# model.add(Dense(1, activation='sigmoid'))\n",
    "\n",
    "# model.compile(optimizer = optimizer_fn, loss='binary_crossentropy', metrics= ['accuracy'] )\n",
    "# model.summary()\n",
    "# model.fit(x_train, y_train, validation_data = (x_val, y_val), epochs=3, batch_size = 32 )\n"
   ]
  },
  {
   "cell_type": "code",
   "execution_count": null,
   "id": "287772dc",
   "metadata": {},
   "outputs": [],
   "source": [
    "# # draft model\n",
    "# #inputs = Input(shape=(224, 224, 3))\n",
    "# resnet = tf.keras.applications.ResNet50(include_top=False, weights='imagenet', input_shape=(224,224,3))\n",
    "\n",
    "# for layer in resnet.layers:\n",
    "#     layer.trainable = False\n",
    "\n",
    "# metrics_list = [tf.keras.metrics.AUC(name = 'auc'),\n",
    "#                 tf.keras.metrics.BinaryAccuracy(name = 'accuracy')]\n",
    "\n",
    "\n",
    "\n",
    "# #calculate class weights\n",
    "# class_weights = {0 : 10, 1 : 1} # 20 is too much put less\n",
    "\n",
    "# optimizer_fn = tf.keras.optimizers.experimental.RMSprop(learning_rate=0.00002, jit_compile = False)\n",
    "\n",
    "\n",
    "# model = Sequential()\n",
    "# model.add(resnet)\n",
    "# model.add(Flatten())\n",
    "# # model.add(Dense(1024, activation='relu'))\n",
    "# # model.add(Dropout(0.5))\n",
    "# # model.add(BatchNormalization())\n",
    "# # model.add(Dense(512, activation='relu'))\n",
    "# # model.add(Dropout(0.5))\n",
    "# # model.add(BatchNormalization())\n",
    "# # model.add(Dense(256, activation='relu'))\n",
    "# # model.add(Dropout(0.5))\n",
    "# # model.add(BatchNormalization())\n",
    "# # model.add(Dense(128, activation='relu'))\n",
    "# # model.add(Dropout(0.5))\n",
    "# # model.add(BatchNormalization())\n",
    "# # model.add(Dense(64, activation='relu'))\n",
    "# model.add(Dense(1, activation='sigmoid'))  \n",
    "# model.compile(optimizer = optimizer_fn, loss='binary_crossentropy', metrics= metrics_list)\n",
    "# model.summary()\n",
    "# model.fit(train_gen, validation_data = (x_val, y_val), class_weight = class_weights, epochs=10, batch_size = 200)\n"
   ]
  }
 ],
 "metadata": {
  "kernelspec": {
   "display_name": "Python 3 (ipykernel)",
   "language": "python",
   "name": "python3"
  },
  "language_info": {
   "codemirror_mode": {
    "name": "ipython",
    "version": 3
   },
   "file_extension": ".py",
   "mimetype": "text/x-python",
   "name": "python",
   "nbconvert_exporter": "python",
   "pygments_lexer": "ipython3",
   "version": "3.10.9"
  }
 },
 "nbformat": 4,
 "nbformat_minor": 5
}
