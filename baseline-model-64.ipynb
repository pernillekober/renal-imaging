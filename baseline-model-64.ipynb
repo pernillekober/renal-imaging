{
 "cells": [
  {
   "cell_type": "code",
   "execution_count": 1,
   "id": "cc95da12",
   "metadata": {},
   "outputs": [],
   "source": [
    "#For importing modules\n",
    "import sys\n",
    "\n",
    "\n",
    "# final pre-processing\n",
    "from imblearn.over_sampling import SMOTE\n",
    "from sklearn.utils import shuffle\n",
    "from tensorflow.keras.utils import Sequence\n",
    "import numpy as np\n",
    "\n",
    "\n",
    "# model\n",
    "import tensorflow as tf\n",
    "from tensorflow.keras.layers import Flatten, Dense, Dropout, Input, BatchNormalization\n",
    "\n",
    "# evaluation\n",
    "from sklearn.metrics import precision_score, recall_score, confusion_matrix,classification_report,roc_curve, roc_auc_score\n",
    "import matplotlib.pyplot as plt\n"
   ]
  },
  {
   "cell_type": "code",
   "execution_count": 2,
   "id": "8134298c",
   "metadata": {},
   "outputs": [],
   "source": [
    "sys.path.append('/path/to/2014_07_13_test')\n",
    "import generate_input"
   ]
  },
  {
   "cell_type": "markdown",
   "id": "9a9640c8",
   "metadata": {},
   "source": [
    "## Load data"
   ]
  },
  {
   "cell_type": "code",
   "execution_count": 3,
   "id": "c00e596e",
   "metadata": {},
   "outputs": [],
   "source": [
    "# # filter small cases\n",
    "# filter_case = ['case_00018', 'case_00031', 'case_00042', 'case_00056', 'case_00088', 'case_00090', 'case_00092', \n",
    "#                'case_00106', 'case_00120', 'case_00133', 'case_00183', 'case_00200', 'case_00211', 'case_00228',\n",
    "#                'case_00234', 'case_00237', 'case_00249', 'case_00277', 'case_00288', 'case_00291']"
   ]
  },
  {
   "cell_type": "code",
   "execution_count": 4,
   "id": "7d267974",
   "metadata": {},
   "outputs": [],
   "source": [
    "# load validation set\n",
    "val_case = ['case_00233', 'case_00089', 'case_00050', 'case_00112', 'case_00258', 'case_00246', 'case_00157',\n",
    "            'case_00149','case_00184']\n",
    "test_case = ['case_00221', 'case_00259', 'case_00087', 'case_00254', 'case_00098', 'case_00023', 'case_00041',\n",
    "             'case_00080', 'case_00101', 'case_00164', 'case_00002', 'case_00110', 'case_00030', 'case_00068',\n",
    "             'case_00026', 'case_00063', 'case_00006', 'case_00048', 'case_00250', 'case_00238', 'case_00015',\n",
    "             'case_00111', 'case_00278', 'case_00133', 'case_00284', 'case_00282', 'case_00269', 'case_00039',\n",
    "             'case_00033', 'case_00108', 'case_00175', 'case_00161', 'case_00256', 'case_00119', 'case_00286',\n",
    "             'case_00077', 'case_00162', 'case_00270', 'case_00271', 'case_00285', 'case_00174', 'case_00147',\n",
    "             'case_00215', 'case_00150', 'case_00052', 'case_00231', 'case_00198', 'case_00117', 'case_00138',\n",
    "             'case_00211', 'case_00190', 'case_00248', 'case_00235', 'case_00049', 'case_00074', 'case_00107',\n",
    "             'case_00218', 'case_00001', 'case_00193', 'case_00067', 'case_00289', 'case_00072', 'case_00044',\n",
    "             'case_00294', 'case_00298', 'case_00263', 'case_00038', 'case_00299', 'case_00249', 'case_00225',\n",
    "             'case_00217', 'case_00178', 'case_00082', 'case_00035', 'case_00034', 'case_00047', 'case_00276',\n",
    "             'case_00151', 'case_00226', 'case_00086', 'case_00176']"
   ]
  },
  {
   "cell_type": "code",
   "execution_count": 5,
   "id": "7c1f8db9",
   "metadata": {},
   "outputs": [],
   "source": [
    "all_cases = [ 'case_' + str(number).zfill(5) for number in range(300)] # create list of all cases\n",
    "train_case = [x for x in all_cases if x not in val_case and x not in test_case] # take only cases not in test and val"
   ]
  },
  {
   "cell_type": "code",
   "execution_count": 6,
   "id": "c68af3dd",
   "metadata": {},
   "outputs": [],
   "source": [
    "def generate_part_label_dict(labels_dict, list_of_cases):\n",
    "    return {k: labels_dict[k] for k in list_of_cases}\n",
    "\n",
    "def load_data(rootdir, img_dir, json_path, list_cases, isLabels = False):\n",
    "    val_path = generate_input.processed_image_paths(rootdir, img_dir)\n",
    "    labels_dict = generate_input.malignant_labels_to_dict(json_path)\n",
    "    labels_dict_short = generate_part_label_dict(labels_dict, list_cases)\n",
    "    image_dict_short = generate_input.load_nifti_img_and_mask_as_numpy(val_path, list_cases)\n",
    "    x_set, y_set, labels_val = generate_input.fill_set(list_cases, labels_dict_short, image_dict_short, labels_dict, True)\n",
    "    \n",
    "    x_set = generate_input.adding_channel(x_set)\n",
    "    if isLabels == True:\n",
    "        return x_set, y_set, labels_val\n",
    "    else:\n",
    "        return x_set, y_set"
   ]
  },
  {
   "cell_type": "code",
   "execution_count": 7,
   "id": "e95fd48c",
   "metadata": {},
   "outputs": [],
   "source": [
    "x_val, y_val, labels_val = load_data('./preprocessed-data/', 'images', '../kits21/kits21/data/kits.json', val_case, True)\n",
    "x_test, y_test, labels_test = load_data('./preprocessed-data/', 'images', '../kits21/kits21/data/kits.json', test_case, True)"
   ]
  },
  {
   "cell_type": "code",
   "execution_count": 8,
   "id": "fdae94fc",
   "metadata": {},
   "outputs": [],
   "source": [
    "x_train, y_train = load_data('./preprocessed-data/', 'images', '../kits21/kits21/data/kits.json', train_case)"
   ]
  },
  {
   "cell_type": "code",
   "execution_count": 9,
   "id": "afd758f4",
   "metadata": {},
   "outputs": [],
   "source": [
    "# x_train, y_train, x_val, y_val, x_test, y_test, id_val, id_test = generate_input.generate_data_input(\n",
    "#     '../kits21/kits21/data/kits.json', n_samples = 300, neg_pct = 100, rootdir = './preprocessed-data/', \n",
    "#     img_dir = 'images', mask_dir = 'masks', val_split = 9, test_split = 81)"
   ]
  },
  {
   "cell_type": "code",
   "execution_count": 10,
   "id": "c75a047f",
   "metadata": {},
   "outputs": [
    {
     "name": "stdout",
     "output_type": "stream",
     "text": [
      "16373 16373\n"
     ]
    }
   ],
   "source": [
    "print(len(x_train), len(y_train))"
   ]
  },
  {
   "cell_type": "code",
   "execution_count": 11,
   "id": "1fdb2030",
   "metadata": {},
   "outputs": [
    {
     "data": {
      "text/plain": [
       "(16373, 64, 64, 3)"
      ]
     },
     "execution_count": 11,
     "metadata": {},
     "output_type": "execute_result"
    }
   ],
   "source": [
    "x_train.shape"
   ]
  },
  {
   "cell_type": "markdown",
   "id": "29b438df",
   "metadata": {},
   "source": [
    "## Upsampling "
   ]
  },
  {
   "cell_type": "code",
   "execution_count": 12,
   "id": "06ee0eb0",
   "metadata": {},
   "outputs": [],
   "source": [
    "x_train_reshape = x_train.reshape(x_train.shape[0], x_train.shape[1] * x_train.shape[2] * x_train.shape[3])\n",
    "sm = SMOTE(random_state=64)\n",
    "x_smote, y_smote = sm.fit_resample(x_train_reshape, y_train)\n",
    "x_smote = x_smote.reshape(x_smote.shape[0], x_train.shape[1], x_train.shape[2], x_train.shape[3])"
   ]
  },
  {
   "cell_type": "code",
   "execution_count": 13,
   "id": "97103fec",
   "metadata": {},
   "outputs": [],
   "source": [
    "x_smote, y_smote = shuffle(x_smote, y_smote)"
   ]
  },
  {
   "cell_type": "code",
   "execution_count": 14,
   "id": "3647ea79",
   "metadata": {},
   "outputs": [
    {
     "name": "stdout",
     "output_type": "stream",
     "text": [
      "29628 29628\n"
     ]
    }
   ],
   "source": [
    "print(len(x_smote), len(y_smote))"
   ]
  },
  {
   "cell_type": "markdown",
   "id": "1443c8af",
   "metadata": {},
   "source": [
    "## Developing baseline model"
   ]
  },
  {
   "cell_type": "code",
   "execution_count": 15,
   "id": "ac892aa2",
   "metadata": {},
   "outputs": [],
   "source": [
    "# a code is taken from https://stackoverflow.com/questions/62916904/failed-copying-input-tensor-from-cpu-to-gpu-in-order-to-run-gatherve-dst-tensor\n",
    "\n",
    "batch_size = 16\n",
    "class DataGenerator(Sequence):\n",
    "    \"\"\" Send data to the model using TF in specified sizes of batch \"\"\"\n",
    "    def __init__(self, x_set, y_set, batch_size):\n",
    "        self.x, self.y = x_set, y_set\n",
    "        self.batch_size = batch_size\n",
    "\n",
    "    def __len__(self):\n",
    "        return int(np.ceil(len(self.x) / float(self.batch_size)))\n",
    "\n",
    "    def __getitem__(self, idx):\n",
    "        batch_x = self.x[idx * self.batch_size:(idx + 1) * self.batch_size]\n",
    "        batch_y = self.y[idx * self.batch_size:(idx + 1) * self.batch_size]\n",
    "        return batch_x, batch_y\n",
    "\n",
    "train_gen = DataGenerator(x_smote, y_smote, batch_size)"
   ]
  },
  {
   "cell_type": "code",
   "execution_count": null,
   "id": "88392ba5",
   "metadata": {
    "scrolled": true
   },
   "outputs": [
    {
     "name": "stdout",
     "output_type": "stream",
     "text": [
      "Model: \"model_12\"\n",
      "__________________________________________________________________________________________________\n",
      " Layer (type)                   Output Shape         Param #     Connected to                     \n",
      "==================================================================================================\n",
      " input_8 (InputLayer)           [(None, 64, 64, 3)]  0           []                               \n",
      "                                                                                                  \n",
      " conv1_pad (ZeroPadding2D)      (None, 70, 70, 3)    0           ['input_8[0][0]']                \n",
      "                                                                                                  \n",
      " conv1_conv (Conv2D)            (None, 32, 32, 64)   9472        ['conv1_pad[0][0]']              \n",
      "                                                                                                  \n",
      " conv1_bn (BatchNormalization)  (None, 32, 32, 64)   256         ['conv1_conv[0][0]']             \n",
      "                                                                                                  \n",
      " conv1_relu (Activation)        (None, 32, 32, 64)   0           ['conv1_bn[0][0]']               \n",
      "                                                                                                  \n",
      " pool1_pad (ZeroPadding2D)      (None, 34, 34, 64)   0           ['conv1_relu[0][0]']             \n",
      "                                                                                                  \n",
      " pool1_pool (MaxPooling2D)      (None, 16, 16, 64)   0           ['pool1_pad[0][0]']              \n",
      "                                                                                                  \n",
      " conv2_block1_1_conv (Conv2D)   (None, 16, 16, 64)   4160        ['pool1_pool[0][0]']             \n",
      "                                                                                                  \n",
      " conv2_block1_1_bn (BatchNormal  (None, 16, 16, 64)  256         ['conv2_block1_1_conv[0][0]']    \n",
      " ization)                                                                                         \n",
      "                                                                                                  \n",
      " conv2_block1_1_relu (Activatio  (None, 16, 16, 64)  0           ['conv2_block1_1_bn[0][0]']      \n",
      " n)                                                                                               \n",
      "                                                                                                  \n",
      " conv2_block1_2_conv (Conv2D)   (None, 16, 16, 64)   36928       ['conv2_block1_1_relu[0][0]']    \n",
      "                                                                                                  \n",
      " conv2_block1_2_bn (BatchNormal  (None, 16, 16, 64)  256         ['conv2_block1_2_conv[0][0]']    \n",
      " ization)                                                                                         \n",
      "                                                                                                  \n",
      " conv2_block1_2_relu (Activatio  (None, 16, 16, 64)  0           ['conv2_block1_2_bn[0][0]']      \n",
      " n)                                                                                               \n",
      "                                                                                                  \n",
      " conv2_block1_0_conv (Conv2D)   (None, 16, 16, 256)  16640       ['pool1_pool[0][0]']             \n",
      "                                                                                                  \n",
      " conv2_block1_3_conv (Conv2D)   (None, 16, 16, 256)  16640       ['conv2_block1_2_relu[0][0]']    \n",
      "                                                                                                  \n",
      " conv2_block1_0_bn (BatchNormal  (None, 16, 16, 256)  1024       ['conv2_block1_0_conv[0][0]']    \n",
      " ization)                                                                                         \n",
      "                                                                                                  \n",
      " conv2_block1_3_bn (BatchNormal  (None, 16, 16, 256)  1024       ['conv2_block1_3_conv[0][0]']    \n",
      " ization)                                                                                         \n",
      "                                                                                                  \n",
      " conv2_block1_add (Add)         (None, 16, 16, 256)  0           ['conv2_block1_0_bn[0][0]',      \n",
      "                                                                  'conv2_block1_3_bn[0][0]']      \n",
      "                                                                                                  \n",
      " conv2_block1_out (Activation)  (None, 16, 16, 256)  0           ['conv2_block1_add[0][0]']       \n",
      "                                                                                                  \n",
      " conv2_block2_1_conv (Conv2D)   (None, 16, 16, 64)   16448       ['conv2_block1_out[0][0]']       \n",
      "                                                                                                  \n",
      " conv2_block2_1_bn (BatchNormal  (None, 16, 16, 64)  256         ['conv2_block2_1_conv[0][0]']    \n",
      " ization)                                                                                         \n",
      "                                                                                                  \n",
      " conv2_block2_1_relu (Activatio  (None, 16, 16, 64)  0           ['conv2_block2_1_bn[0][0]']      \n",
      " n)                                                                                               \n",
      "                                                                                                  \n",
      " conv2_block2_2_conv (Conv2D)   (None, 16, 16, 64)   36928       ['conv2_block2_1_relu[0][0]']    \n",
      "                                                                                                  \n",
      " conv2_block2_2_bn (BatchNormal  (None, 16, 16, 64)  256         ['conv2_block2_2_conv[0][0]']    \n",
      " ization)                                                                                         \n",
      "                                                                                                  \n",
      " conv2_block2_2_relu (Activatio  (None, 16, 16, 64)  0           ['conv2_block2_2_bn[0][0]']      \n",
      " n)                                                                                               \n",
      "                                                                                                  \n",
      " conv2_block2_3_conv (Conv2D)   (None, 16, 16, 256)  16640       ['conv2_block2_2_relu[0][0]']    \n",
      "                                                                                                  \n",
      " conv2_block2_3_bn (BatchNormal  (None, 16, 16, 256)  1024       ['conv2_block2_3_conv[0][0]']    \n",
      " ization)                                                                                         \n",
      "                                                                                                  \n",
      " conv2_block2_add (Add)         (None, 16, 16, 256)  0           ['conv2_block1_out[0][0]',       \n",
      "                                                                  'conv2_block2_3_bn[0][0]']      \n",
      "                                                                                                  \n",
      " conv2_block2_out (Activation)  (None, 16, 16, 256)  0           ['conv2_block2_add[0][0]']       \n",
      "                                                                                                  \n",
      " conv2_block3_1_conv (Conv2D)   (None, 16, 16, 64)   16448       ['conv2_block2_out[0][0]']       \n",
      "                                                                                                  \n",
      " conv2_block3_1_bn (BatchNormal  (None, 16, 16, 64)  256         ['conv2_block3_1_conv[0][0]']    \n",
      " ization)                                                                                         \n",
      "                                                                                                  \n",
      " conv2_block3_1_relu (Activatio  (None, 16, 16, 64)  0           ['conv2_block3_1_bn[0][0]']      \n",
      " n)                                                                                               \n",
      "                                                                                                  \n",
      " conv2_block3_2_conv (Conv2D)   (None, 16, 16, 64)   36928       ['conv2_block3_1_relu[0][0]']    \n"
     ]
    },
    {
     "name": "stdout",
     "output_type": "stream",
     "text": [
      "                                                                                                  \n",
      " conv2_block3_2_bn (BatchNormal  (None, 16, 16, 64)  256         ['conv2_block3_2_conv[0][0]']    \n",
      " ization)                                                                                         \n",
      "                                                                                                  \n",
      " conv2_block3_2_relu (Activatio  (None, 16, 16, 64)  0           ['conv2_block3_2_bn[0][0]']      \n",
      " n)                                                                                               \n",
      "                                                                                                  \n",
      " conv2_block3_3_conv (Conv2D)   (None, 16, 16, 256)  16640       ['conv2_block3_2_relu[0][0]']    \n",
      "                                                                                                  \n",
      " conv2_block3_3_bn (BatchNormal  (None, 16, 16, 256)  1024       ['conv2_block3_3_conv[0][0]']    \n",
      " ization)                                                                                         \n",
      "                                                                                                  \n",
      " conv2_block3_add (Add)         (None, 16, 16, 256)  0           ['conv2_block2_out[0][0]',       \n",
      "                                                                  'conv2_block3_3_bn[0][0]']      \n",
      "                                                                                                  \n",
      " conv2_block3_out (Activation)  (None, 16, 16, 256)  0           ['conv2_block3_add[0][0]']       \n",
      "                                                                                                  \n",
      " conv3_block1_1_conv (Conv2D)   (None, 8, 8, 128)    32896       ['conv2_block3_out[0][0]']       \n",
      "                                                                                                  \n",
      " conv3_block1_1_bn (BatchNormal  (None, 8, 8, 128)   512         ['conv3_block1_1_conv[0][0]']    \n",
      " ization)                                                                                         \n",
      "                                                                                                  \n",
      " conv3_block1_1_relu (Activatio  (None, 8, 8, 128)   0           ['conv3_block1_1_bn[0][0]']      \n",
      " n)                                                                                               \n",
      "                                                                                                  \n",
      " conv3_block1_2_conv (Conv2D)   (None, 8, 8, 128)    147584      ['conv3_block1_1_relu[0][0]']    \n",
      "                                                                                                  \n",
      " conv3_block1_2_bn (BatchNormal  (None, 8, 8, 128)   512         ['conv3_block1_2_conv[0][0]']    \n",
      " ization)                                                                                         \n",
      "                                                                                                  \n",
      " conv3_block1_2_relu (Activatio  (None, 8, 8, 128)   0           ['conv3_block1_2_bn[0][0]']      \n",
      " n)                                                                                               \n",
      "                                                                                                  \n",
      " conv3_block1_0_conv (Conv2D)   (None, 8, 8, 512)    131584      ['conv2_block3_out[0][0]']       \n",
      "                                                                                                  \n",
      " conv3_block1_3_conv (Conv2D)   (None, 8, 8, 512)    66048       ['conv3_block1_2_relu[0][0]']    \n",
      "                                                                                                  \n",
      " conv3_block1_0_bn (BatchNormal  (None, 8, 8, 512)   2048        ['conv3_block1_0_conv[0][0]']    \n",
      " ization)                                                                                         \n",
      "                                                                                                  \n",
      " conv3_block1_3_bn (BatchNormal  (None, 8, 8, 512)   2048        ['conv3_block1_3_conv[0][0]']    \n",
      " ization)                                                                                         \n",
      "                                                                                                  \n",
      " conv3_block1_add (Add)         (None, 8, 8, 512)    0           ['conv3_block1_0_bn[0][0]',      \n",
      "                                                                  'conv3_block1_3_bn[0][0]']      \n",
      "                                                                                                  \n",
      " conv3_block1_out (Activation)  (None, 8, 8, 512)    0           ['conv3_block1_add[0][0]']       \n",
      "                                                                                                  \n",
      " conv3_block2_1_conv (Conv2D)   (None, 8, 8, 128)    65664       ['conv3_block1_out[0][0]']       \n",
      "                                                                                                  \n",
      " conv3_block2_1_bn (BatchNormal  (None, 8, 8, 128)   512         ['conv3_block2_1_conv[0][0]']    \n",
      " ization)                                                                                         \n",
      "                                                                                                  \n",
      " conv3_block2_1_relu (Activatio  (None, 8, 8, 128)   0           ['conv3_block2_1_bn[0][0]']      \n",
      " n)                                                                                               \n",
      "                                                                                                  \n",
      " conv3_block2_2_conv (Conv2D)   (None, 8, 8, 128)    147584      ['conv3_block2_1_relu[0][0]']    \n",
      "                                                                                                  \n",
      " conv3_block2_2_bn (BatchNormal  (None, 8, 8, 128)   512         ['conv3_block2_2_conv[0][0]']    \n",
      " ization)                                                                                         \n",
      "                                                                                                  \n",
      " conv3_block2_2_relu (Activatio  (None, 8, 8, 128)   0           ['conv3_block2_2_bn[0][0]']      \n",
      " n)                                                                                               \n",
      "                                                                                                  \n",
      " conv3_block2_3_conv (Conv2D)   (None, 8, 8, 512)    66048       ['conv3_block2_2_relu[0][0]']    \n",
      "                                                                                                  \n",
      " conv3_block2_3_bn (BatchNormal  (None, 8, 8, 512)   2048        ['conv3_block2_3_conv[0][0]']    \n",
      " ization)                                                                                         \n",
      "                                                                                                  \n",
      " conv3_block2_add (Add)         (None, 8, 8, 512)    0           ['conv3_block1_out[0][0]',       \n",
      "                                                                  'conv3_block2_3_bn[0][0]']      \n",
      "                                                                                                  \n",
      " conv3_block2_out (Activation)  (None, 8, 8, 512)    0           ['conv3_block2_add[0][0]']       \n",
      "                                                                                                  \n",
      " conv3_block3_1_conv (Conv2D)   (None, 8, 8, 128)    65664       ['conv3_block2_out[0][0]']       \n",
      "                                                                                                  \n",
      " conv3_block3_1_bn (BatchNormal  (None, 8, 8, 128)   512         ['conv3_block3_1_conv[0][0]']    \n",
      " ization)                                                                                         \n",
      "                                                                                                  \n",
      " conv3_block3_1_relu (Activatio  (None, 8, 8, 128)   0           ['conv3_block3_1_bn[0][0]']      \n",
      " n)                                                                                               \n",
      "                                                                                                  \n",
      " conv3_block3_2_conv (Conv2D)   (None, 8, 8, 128)    147584      ['conv3_block3_1_relu[0][0]']    \n"
     ]
    },
    {
     "name": "stdout",
     "output_type": "stream",
     "text": [
      "                                                                                                  \n",
      " conv3_block3_2_bn (BatchNormal  (None, 8, 8, 128)   512         ['conv3_block3_2_conv[0][0]']    \n",
      " ization)                                                                                         \n",
      "                                                                                                  \n",
      " conv3_block3_2_relu (Activatio  (None, 8, 8, 128)   0           ['conv3_block3_2_bn[0][0]']      \n",
      " n)                                                                                               \n",
      "                                                                                                  \n",
      " conv3_block3_3_conv (Conv2D)   (None, 8, 8, 512)    66048       ['conv3_block3_2_relu[0][0]']    \n",
      "                                                                                                  \n",
      " conv3_block3_3_bn (BatchNormal  (None, 8, 8, 512)   2048        ['conv3_block3_3_conv[0][0]']    \n",
      " ization)                                                                                         \n",
      "                                                                                                  \n",
      " conv3_block3_add (Add)         (None, 8, 8, 512)    0           ['conv3_block2_out[0][0]',       \n",
      "                                                                  'conv3_block3_3_bn[0][0]']      \n",
      "                                                                                                  \n",
      " conv3_block3_out (Activation)  (None, 8, 8, 512)    0           ['conv3_block3_add[0][0]']       \n",
      "                                                                                                  \n",
      " conv3_block4_1_conv (Conv2D)   (None, 8, 8, 128)    65664       ['conv3_block3_out[0][0]']       \n",
      "                                                                                                  \n",
      " conv3_block4_1_bn (BatchNormal  (None, 8, 8, 128)   512         ['conv3_block4_1_conv[0][0]']    \n",
      " ization)                                                                                         \n",
      "                                                                                                  \n",
      " conv3_block4_1_relu (Activatio  (None, 8, 8, 128)   0           ['conv3_block4_1_bn[0][0]']      \n",
      " n)                                                                                               \n",
      "                                                                                                  \n",
      " conv3_block4_2_conv (Conv2D)   (None, 8, 8, 128)    147584      ['conv3_block4_1_relu[0][0]']    \n",
      "                                                                                                  \n",
      " conv3_block4_2_bn (BatchNormal  (None, 8, 8, 128)   512         ['conv3_block4_2_conv[0][0]']    \n",
      " ization)                                                                                         \n",
      "                                                                                                  \n",
      " conv3_block4_2_relu (Activatio  (None, 8, 8, 128)   0           ['conv3_block4_2_bn[0][0]']      \n",
      " n)                                                                                               \n",
      "                                                                                                  \n",
      " conv3_block4_3_conv (Conv2D)   (None, 8, 8, 512)    66048       ['conv3_block4_2_relu[0][0]']    \n",
      "                                                                                                  \n",
      " conv3_block4_3_bn (BatchNormal  (None, 8, 8, 512)   2048        ['conv3_block4_3_conv[0][0]']    \n",
      " ization)                                                                                         \n",
      "                                                                                                  \n",
      " conv3_block4_add (Add)         (None, 8, 8, 512)    0           ['conv3_block3_out[0][0]',       \n",
      "                                                                  'conv3_block4_3_bn[0][0]']      \n",
      "                                                                                                  \n",
      " conv3_block4_out (Activation)  (None, 8, 8, 512)    0           ['conv3_block4_add[0][0]']       \n",
      "                                                                                                  \n",
      " conv4_block1_1_conv (Conv2D)   (None, 4, 4, 256)    131328      ['conv3_block4_out[0][0]']       \n",
      "                                                                                                  \n",
      " conv4_block1_1_bn (BatchNormal  (None, 4, 4, 256)   1024        ['conv4_block1_1_conv[0][0]']    \n",
      " ization)                                                                                         \n",
      "                                                                                                  \n",
      " conv4_block1_1_relu (Activatio  (None, 4, 4, 256)   0           ['conv4_block1_1_bn[0][0]']      \n",
      " n)                                                                                               \n",
      "                                                                                                  \n",
      " conv4_block1_2_conv (Conv2D)   (None, 4, 4, 256)    590080      ['conv4_block1_1_relu[0][0]']    \n",
      "                                                                                                  \n",
      " conv4_block1_2_bn (BatchNormal  (None, 4, 4, 256)   1024        ['conv4_block1_2_conv[0][0]']    \n",
      " ization)                                                                                         \n",
      "                                                                                                  \n",
      " conv4_block1_2_relu (Activatio  (None, 4, 4, 256)   0           ['conv4_block1_2_bn[0][0]']      \n",
      " n)                                                                                               \n",
      "                                                                                                  \n",
      " conv4_block1_0_conv (Conv2D)   (None, 4, 4, 1024)   525312      ['conv3_block4_out[0][0]']       \n",
      "                                                                                                  \n",
      " conv4_block1_3_conv (Conv2D)   (None, 4, 4, 1024)   263168      ['conv4_block1_2_relu[0][0]']    \n",
      "                                                                                                  \n",
      " conv4_block1_0_bn (BatchNormal  (None, 4, 4, 1024)  4096        ['conv4_block1_0_conv[0][0]']    \n",
      " ization)                                                                                         \n",
      "                                                                                                  \n",
      " conv4_block1_3_bn (BatchNormal  (None, 4, 4, 1024)  4096        ['conv4_block1_3_conv[0][0]']    \n",
      " ization)                                                                                         \n",
      "                                                                                                  \n",
      " conv4_block1_add (Add)         (None, 4, 4, 1024)   0           ['conv4_block1_0_bn[0][0]',      \n",
      "                                                                  'conv4_block1_3_bn[0][0]']      \n",
      "                                                                                                  \n",
      " conv4_block1_out (Activation)  (None, 4, 4, 1024)   0           ['conv4_block1_add[0][0]']       \n",
      "                                                                                                  \n",
      " conv4_block2_1_conv (Conv2D)   (None, 4, 4, 256)    262400      ['conv4_block1_out[0][0]']       \n",
      "                                                                                                  \n",
      " conv4_block2_1_bn (BatchNormal  (None, 4, 4, 256)   1024        ['conv4_block2_1_conv[0][0]']    \n",
      " ization)                                                                                         \n",
      "                                                                                                  \n",
      " conv4_block2_1_relu (Activatio  (None, 4, 4, 256)   0           ['conv4_block2_1_bn[0][0]']      \n",
      " n)                                                                                               \n",
      "                                                                                                  \n",
      " conv4_block2_2_conv (Conv2D)   (None, 4, 4, 256)    590080      ['conv4_block2_1_relu[0][0]']    \n"
     ]
    },
    {
     "name": "stdout",
     "output_type": "stream",
     "text": [
      "                                                                                                  \n",
      " conv4_block2_2_bn (BatchNormal  (None, 4, 4, 256)   1024        ['conv4_block2_2_conv[0][0]']    \n",
      " ization)                                                                                         \n",
      "                                                                                                  \n",
      " conv4_block2_2_relu (Activatio  (None, 4, 4, 256)   0           ['conv4_block2_2_bn[0][0]']      \n",
      " n)                                                                                               \n",
      "                                                                                                  \n",
      " conv4_block2_3_conv (Conv2D)   (None, 4, 4, 1024)   263168      ['conv4_block2_2_relu[0][0]']    \n",
      "                                                                                                  \n",
      " conv4_block2_3_bn (BatchNormal  (None, 4, 4, 1024)  4096        ['conv4_block2_3_conv[0][0]']    \n",
      " ization)                                                                                         \n",
      "                                                                                                  \n",
      " conv4_block2_add (Add)         (None, 4, 4, 1024)   0           ['conv4_block1_out[0][0]',       \n",
      "                                                                  'conv4_block2_3_bn[0][0]']      \n",
      "                                                                                                  \n",
      " conv4_block2_out (Activation)  (None, 4, 4, 1024)   0           ['conv4_block2_add[0][0]']       \n",
      "                                                                                                  \n",
      " conv4_block3_1_conv (Conv2D)   (None, 4, 4, 256)    262400      ['conv4_block2_out[0][0]']       \n",
      "                                                                                                  \n",
      " conv4_block3_1_bn (BatchNormal  (None, 4, 4, 256)   1024        ['conv4_block3_1_conv[0][0]']    \n",
      " ization)                                                                                         \n",
      "                                                                                                  \n",
      " conv4_block3_1_relu (Activatio  (None, 4, 4, 256)   0           ['conv4_block3_1_bn[0][0]']      \n",
      " n)                                                                                               \n",
      "                                                                                                  \n",
      " conv4_block3_2_conv (Conv2D)   (None, 4, 4, 256)    590080      ['conv4_block3_1_relu[0][0]']    \n",
      "                                                                                                  \n",
      " conv4_block3_2_bn (BatchNormal  (None, 4, 4, 256)   1024        ['conv4_block3_2_conv[0][0]']    \n",
      " ization)                                                                                         \n",
      "                                                                                                  \n",
      " conv4_block3_2_relu (Activatio  (None, 4, 4, 256)   0           ['conv4_block3_2_bn[0][0]']      \n",
      " n)                                                                                               \n",
      "                                                                                                  \n",
      " conv4_block3_3_conv (Conv2D)   (None, 4, 4, 1024)   263168      ['conv4_block3_2_relu[0][0]']    \n",
      "                                                                                                  \n",
      " conv4_block3_3_bn (BatchNormal  (None, 4, 4, 1024)  4096        ['conv4_block3_3_conv[0][0]']    \n",
      " ization)                                                                                         \n",
      "                                                                                                  \n",
      " conv4_block3_add (Add)         (None, 4, 4, 1024)   0           ['conv4_block2_out[0][0]',       \n",
      "                                                                  'conv4_block3_3_bn[0][0]']      \n",
      "                                                                                                  \n",
      " conv4_block3_out (Activation)  (None, 4, 4, 1024)   0           ['conv4_block3_add[0][0]']       \n",
      "                                                                                                  \n",
      " conv4_block4_1_conv (Conv2D)   (None, 4, 4, 256)    262400      ['conv4_block3_out[0][0]']       \n",
      "                                                                                                  \n",
      " conv4_block4_1_bn (BatchNormal  (None, 4, 4, 256)   1024        ['conv4_block4_1_conv[0][0]']    \n",
      " ization)                                                                                         \n",
      "                                                                                                  \n",
      " conv4_block4_1_relu (Activatio  (None, 4, 4, 256)   0           ['conv4_block4_1_bn[0][0]']      \n",
      " n)                                                                                               \n",
      "                                                                                                  \n",
      " conv4_block4_2_conv (Conv2D)   (None, 4, 4, 256)    590080      ['conv4_block4_1_relu[0][0]']    \n",
      "                                                                                                  \n",
      " conv4_block4_2_bn (BatchNormal  (None, 4, 4, 256)   1024        ['conv4_block4_2_conv[0][0]']    \n",
      " ization)                                                                                         \n",
      "                                                                                                  \n",
      " conv4_block4_2_relu (Activatio  (None, 4, 4, 256)   0           ['conv4_block4_2_bn[0][0]']      \n",
      " n)                                                                                               \n",
      "                                                                                                  \n",
      " conv4_block4_3_conv (Conv2D)   (None, 4, 4, 1024)   263168      ['conv4_block4_2_relu[0][0]']    \n",
      "                                                                                                  \n",
      " conv4_block4_3_bn (BatchNormal  (None, 4, 4, 1024)  4096        ['conv4_block4_3_conv[0][0]']    \n",
      " ization)                                                                                         \n",
      "                                                                                                  \n",
      " conv4_block4_add (Add)         (None, 4, 4, 1024)   0           ['conv4_block3_out[0][0]',       \n",
      "                                                                  'conv4_block4_3_bn[0][0]']      \n",
      "                                                                                                  \n",
      " conv4_block4_out (Activation)  (None, 4, 4, 1024)   0           ['conv4_block4_add[0][0]']       \n",
      "                                                                                                  \n",
      " conv4_block5_1_conv (Conv2D)   (None, 4, 4, 256)    262400      ['conv4_block4_out[0][0]']       \n",
      "                                                                                                  \n",
      " conv4_block5_1_bn (BatchNormal  (None, 4, 4, 256)   1024        ['conv4_block5_1_conv[0][0]']    \n",
      " ization)                                                                                         \n",
      "                                                                                                  \n",
      " conv4_block5_1_relu (Activatio  (None, 4, 4, 256)   0           ['conv4_block5_1_bn[0][0]']      \n",
      " n)                                                                                               \n",
      "                                                                                                  \n",
      " conv4_block5_2_conv (Conv2D)   (None, 4, 4, 256)    590080      ['conv4_block5_1_relu[0][0]']    \n",
      "                                                                                                  \n",
      " conv4_block5_2_bn (BatchNormal  (None, 4, 4, 256)   1024        ['conv4_block5_2_conv[0][0]']    \n",
      " ization)                                                                                         \n",
      "                                                                                                  \n",
      " conv4_block5_2_relu (Activatio  (None, 4, 4, 256)   0           ['conv4_block5_2_bn[0][0]']      \n"
     ]
    },
    {
     "name": "stdout",
     "output_type": "stream",
     "text": [
      " n)                                                                                               \n",
      "                                                                                                  \n",
      " conv4_block5_3_conv (Conv2D)   (None, 4, 4, 1024)   263168      ['conv4_block5_2_relu[0][0]']    \n",
      "                                                                                                  \n",
      " conv4_block5_3_bn (BatchNormal  (None, 4, 4, 1024)  4096        ['conv4_block5_3_conv[0][0]']    \n",
      " ization)                                                                                         \n",
      "                                                                                                  \n",
      " conv4_block5_add (Add)         (None, 4, 4, 1024)   0           ['conv4_block4_out[0][0]',       \n",
      "                                                                  'conv4_block5_3_bn[0][0]']      \n",
      "                                                                                                  \n",
      " conv4_block5_out (Activation)  (None, 4, 4, 1024)   0           ['conv4_block5_add[0][0]']       \n",
      "                                                                                                  \n",
      " conv4_block6_1_conv (Conv2D)   (None, 4, 4, 256)    262400      ['conv4_block5_out[0][0]']       \n",
      "                                                                                                  \n",
      " conv4_block6_1_bn (BatchNormal  (None, 4, 4, 256)   1024        ['conv4_block6_1_conv[0][0]']    \n",
      " ization)                                                                                         \n",
      "                                                                                                  \n",
      " conv4_block6_1_relu (Activatio  (None, 4, 4, 256)   0           ['conv4_block6_1_bn[0][0]']      \n",
      " n)                                                                                               \n",
      "                                                                                                  \n",
      " conv4_block6_2_conv (Conv2D)   (None, 4, 4, 256)    590080      ['conv4_block6_1_relu[0][0]']    \n",
      "                                                                                                  \n",
      " conv4_block6_2_bn (BatchNormal  (None, 4, 4, 256)   1024        ['conv4_block6_2_conv[0][0]']    \n",
      " ization)                                                                                         \n",
      "                                                                                                  \n",
      " conv4_block6_2_relu (Activatio  (None, 4, 4, 256)   0           ['conv4_block6_2_bn[0][0]']      \n",
      " n)                                                                                               \n",
      "                                                                                                  \n",
      " conv4_block6_3_conv (Conv2D)   (None, 4, 4, 1024)   263168      ['conv4_block6_2_relu[0][0]']    \n",
      "                                                                                                  \n",
      " conv4_block6_3_bn (BatchNormal  (None, 4, 4, 1024)  4096        ['conv4_block6_3_conv[0][0]']    \n",
      " ization)                                                                                         \n",
      "                                                                                                  \n",
      " conv4_block6_add (Add)         (None, 4, 4, 1024)   0           ['conv4_block5_out[0][0]',       \n",
      "                                                                  'conv4_block6_3_bn[0][0]']      \n",
      "                                                                                                  \n",
      " conv4_block6_out (Activation)  (None, 4, 4, 1024)   0           ['conv4_block6_add[0][0]']       \n",
      "                                                                                                  \n",
      " flatten_6 (Flatten)            (None, 16384)        0           ['conv4_block6_out[0][0]']       \n",
      "                                                                                                  \n",
      " dense_36 (Dense)               (None, 1024)         16778240    ['flatten_6[0][0]']              \n",
      "                                                                                                  \n",
      " dropout_24 (Dropout)           (None, 1024)         0           ['dense_36[0][0]']               \n",
      "                                                                                                  \n",
      " batch_normalization_12 (BatchN  (None, 1024)        4096        ['dropout_24[0][0]']             \n",
      " ormalization)                                                                                    \n",
      "                                                                                                  \n",
      " dense_37 (Dense)               (None, 512)          524800      ['batch_normalization_12[0][0]'] \n",
      "                                                                                                  \n",
      " dropout_25 (Dropout)           (None, 512)          0           ['dense_37[0][0]']               \n",
      "                                                                                                  \n",
      " dense_38 (Dense)               (None, 256)          131328      ['dropout_25[0][0]']             \n",
      "                                                                                                  \n",
      " dropout_26 (Dropout)           (None, 256)          0           ['dense_38[0][0]']               \n",
      "                                                                                                  \n",
      " dense_39 (Dense)               (None, 128)          32896       ['dropout_26[0][0]']             \n",
      "                                                                                                  \n",
      " dropout_27 (Dropout)           (None, 128)          0           ['dense_39[0][0]']               \n",
      "                                                                                                  \n",
      " batch_normalization_13 (BatchN  (None, 128)         512         ['dropout_27[0][0]']             \n",
      " ormalization)                                                                                    \n",
      "                                                                                                  \n",
      " dense_40 (Dense)               (None, 64)           8256        ['batch_normalization_13[0][0]'] \n",
      "                                                                                                  \n",
      " dense_41 (Dense)               (None, 1)            65          ['dense_40[0][0]']               \n",
      "                                                                                                  \n",
      "==================================================================================================\n",
      "Total params: 26,069,379\n",
      "Trainable params: 26,036,481\n",
      "Non-trainable params: 32,898\n",
      "__________________________________________________________________________________________________\n",
      "Epoch 1/2\n"
     ]
    },
    {
     "name": "stderr",
     "output_type": "stream",
     "text": [
      "2023-05-10 23:25:54.351620: I tensorflow/core/grappler/optimizers/custom_graph_optimizer_registry.cc:113] Plugin optimizer for device_type GPU is enabled.\n"
     ]
    },
    {
     "name": "stdout",
     "output_type": "stream",
     "text": [
      "1852/1852 [==============================] - ETA: 0s - loss: 2.3919 - auc: 0.9657 - accuracy: 0.8635"
     ]
    },
    {
     "name": "stderr",
     "output_type": "stream",
     "text": [
      "2023-05-10 23:35:24.850593: I tensorflow/core/grappler/optimizers/custom_graph_optimizer_registry.cc:113] Plugin optimizer for device_type GPU is enabled.\n"
     ]
    },
    {
     "name": "stdout",
     "output_type": "stream",
     "text": [
      "1852/1852 [==============================] - 581s 302ms/step - loss: 2.3919 - auc: 0.9657 - accuracy: 0.8635 - val_loss: 0.8936 - val_auc: 0.6581 - val_accuracy: 0.8605\n",
      "Epoch 2/2\n",
      " 228/1852 [==>...........................] - ETA: 7:29 - loss: 0.6149 - auc: 0.9897 - accuracy: 0.9723"
     ]
    }
   ],
   "source": [
    "# draft model\n",
    "#inputs = Input(shape=(224, 224, 3))\n",
    "callback = tf.keras.callbacks.EarlyStopping(monitor='val_loss', restore_best_weights=True, patience=2)\n",
    "\n",
    "resnet = tf.keras.applications.ResNet50(include_top=False, weights='imagenet', input_shape=(64,64,3))\n",
    "\n",
    "# for layer in resnet.layers:\n",
    "#     layer.trainable = True\n",
    "\n",
    "layer_name = \"conv4_block6_out\"\n",
    "metrics_list = [tf.keras.metrics.AUC(name = 'auc'),\n",
    "                tf.keras.metrics.BinaryAccuracy(name = 'accuracy')]\n",
    "\n",
    "#calculate class weights\n",
    "class_weights = {0 : 40, 1 : 1} \n",
    "\n",
    "optimizer_fn = tf.keras.optimizers.experimental.RMSprop(learning_rate=0.001, jit_compile = False)\n",
    "#optimizer_fn = tf.keras.optimizers.Adam(learning_rate=0.0001)\n",
    "\n",
    "intermediate_model = tf.keras.Model(inputs=resnet.input, outputs=resnet.get_layer(layer_name).output)\n",
    "x = Flatten()(intermediate_model.output) \n",
    "x = Dense(1024, activation = 'relu', kernel_regularizer = 'l2')(x) #kernel_regularizer = 'l1'\n",
    "x = Dropout(0.3)(x)\n",
    "x = BatchNormalization()(x)\n",
    "x = Dense(512, activation = 'relu')(x)\n",
    "x = Dropout(0.3)(x)\n",
    "x = Dense(256, activation = 'relu')(x)\n",
    "x = Dropout(0.3)(x)\n",
    "x = Dense(128, activation = 'relu')(x)\n",
    "x = Dropout(0.3)(x)\n",
    "x = BatchNormalization()(x)\n",
    "x = Dense(64, activation = 'relu', kernel_regularizer = 'l2')(x)\n",
    "\n",
    "x = Dense(1, activation = 'sigmoid')(x)\n",
    "\n",
    "model = tf.keras.Model(intermediate_model.input, x)\n",
    "\n",
    "model.compile(optimizer = optimizer_fn, loss='binary_crossentropy', metrics= metrics_list)\n",
    "model.summary()\n",
    "history=model.fit(train_gen, validation_data = (x_val, y_val), epochs=2, batch_size = batch_size, class_weight = class_weights)\n"
   ]
  },
  {
   "cell_type": "code",
   "execution_count": null,
   "id": "b459dcb7",
   "metadata": {},
   "outputs": [],
   "source": [
    "print(\"number of epochs:\", len(history.history['loss']))"
   ]
  },
  {
   "cell_type": "markdown",
   "id": "f65bbbb7",
   "metadata": {},
   "source": [
    "## Loss"
   ]
  },
  {
   "cell_type": "code",
   "execution_count": 70,
   "id": "7c54c84a",
   "metadata": {},
   "outputs": [],
   "source": [
    "# #plot the training and validation IoU and loss at each epoch\n",
    "# loss = history.history['loss']\n",
    "\n",
    "# val_loss = history.history['val_loss']\n",
    "# epochs = range(1, len(loss) + 1)\n",
    "# plt.plot(epochs, loss, 'y', label='Training loss')\n",
    "# plt.plot(epochs, val_loss, 'r', label='Validation loss')\n",
    "# plt.title('Training and validation loss')\n",
    "# plt.xlabel('Epochs')\n",
    "# plt.ylabel('Loss')\n",
    "# plt.legend()\n",
    "# plt.show()"
   ]
  },
  {
   "cell_type": "code",
   "execution_count": 71,
   "id": "34d6109b",
   "metadata": {},
   "outputs": [],
   "source": [
    "# acc = history.history['accuracy']\n",
    "# val_acc = history.history['val_accuracy']\n",
    "\n",
    "# plt.plot(epochs, acc, 'y', label='Training accuracy')\n",
    "# plt.plot(epochs, val_acc, 'r', label='Validation accuracy')\n",
    "# plt.title('Training and validation accuracy')\n",
    "# plt.xlabel('Epochs')\n",
    "# plt.ylabel('Accuracy')\n",
    "# plt.legend()\n",
    "# plt.show()"
   ]
  },
  {
   "cell_type": "markdown",
   "id": "0c3192a6",
   "metadata": {},
   "source": [
    "## Evaluation of validation test"
   ]
  },
  {
   "cell_type": "code",
   "execution_count": null,
   "id": "b3797283",
   "metadata": {},
   "outputs": [],
   "source": [
    "results = model.evaluate(x_val, y_val)\n",
    "results"
   ]
  },
  {
   "cell_type": "code",
   "execution_count": null,
   "id": "6d4d60ff",
   "metadata": {},
   "outputs": [],
   "source": [
    "y_pred = model.predict(x_val)"
   ]
  },
  {
   "cell_type": "code",
   "execution_count": null,
   "id": "0d701795",
   "metadata": {},
   "outputs": [],
   "source": [
    "precision = precision_score(y_val, y_pred.round()) \n",
    "recall = recall_score(y_val, y_pred.round())\n",
    "print(precision)\n",
    "print(recall)"
   ]
  },
  {
   "cell_type": "code",
   "execution_count": null,
   "id": "1c424d47",
   "metadata": {},
   "outputs": [],
   "source": [
    "confusion_matrix(y_val, y_pred.round())"
   ]
  },
  {
   "cell_type": "code",
   "execution_count": null,
   "id": "34189632",
   "metadata": {},
   "outputs": [],
   "source": [
    "print(classification_report(y_val, y_pred.round(), digits = 4)) "
   ]
  },
  {
   "cell_type": "code",
   "execution_count": null,
   "id": "374387a0",
   "metadata": {},
   "outputs": [],
   "source": [
    "fpr, tpr, _ = roc_curve(y_val,  y_pred.round())\n",
    "auc = roc_auc_score(y_val, y_pred.round())\n",
    "plt.plot([0, 1], [0, 1], \"k--\")\n",
    "plt.plot(fpr,tpr,label=\"auc=\"+str(auc))\n",
    "plt.legend(loc=4)\n",
    "plt.show()"
   ]
  },
  {
   "cell_type": "markdown",
   "id": "34bcc392",
   "metadata": {},
   "source": [
    "## Evaluation of test set"
   ]
  },
  {
   "cell_type": "code",
   "execution_count": 47,
   "id": "8480de31",
   "metadata": {},
   "outputs": [
    {
     "name": "stdout",
     "output_type": "stream",
     "text": [
      "193/193 [==============================] - 5s 25ms/step\n"
     ]
    }
   ],
   "source": [
    "y_pred_test = model.predict(x_test)"
   ]
  },
  {
   "cell_type": "code",
   "execution_count": 48,
   "id": "4c0df661",
   "metadata": {},
   "outputs": [
    {
     "data": {
      "text/plain": [
       "array([[  69,  186],\n",
       "       [ 670, 5226]])"
      ]
     },
     "execution_count": 48,
     "metadata": {},
     "output_type": "execute_result"
    }
   ],
   "source": [
    "confusion_matrix(y_test, y_pred_test.round())"
   ]
  },
  {
   "cell_type": "code",
   "execution_count": 49,
   "id": "a99b5258",
   "metadata": {},
   "outputs": [
    {
     "name": "stdout",
     "output_type": "stream",
     "text": [
      "              precision    recall  f1-score   support\n",
      "\n",
      "         0.0     0.0934    0.2706    0.1388       255\n",
      "         1.0     0.9656    0.8864    0.9243      5896\n",
      "\n",
      "    accuracy                         0.8608      6151\n",
      "   macro avg     0.5295    0.5785    0.5316      6151\n",
      "weighted avg     0.9295    0.8608    0.8917      6151\n",
      "\n"
     ]
    }
   ],
   "source": [
    "print(classification_report(y_test, y_pred_test.round(), digits = 4))"
   ]
  },
  {
   "cell_type": "code",
   "execution_count": 50,
   "id": "280b3347",
   "metadata": {},
   "outputs": [
    {
     "data": {
      "image/png": "[encoded data removed]",
      "text/plain": [
       "<Figure size 640x480 with 1 Axes>"
      ]
     },
     "metadata": {},
     "output_type": "display_data"
    }
   ],
   "source": [
    "fpr, tpr, _ = roc_curve(y_test,  y_pred_test.round())\n",
    "auc = roc_auc_score(y_test, y_pred_test.round())\n",
    "plt.plot([0, 1], [0, 1], \"k--\")\n",
    "plt.plot(fpr,tpr,label=\"auc=\"+str(auc))\n",
    "plt.legend(loc=4)\n",
    "plt.show()"
   ]
  },
  {
   "cell_type": "code",
   "execution_count": 51,
   "id": "c5db507a",
   "metadata": {},
   "outputs": [],
   "source": [
    "count_plus = {}\n",
    "count_neg = {}\n",
    "for i in zip(y_test,  y_pred_test.round(), labels_test):\n",
    "    if i[2] not in count_plus:\n",
    "        count_plus[i[2]] = 0\n",
    "    if i[2] not in count_neg:\n",
    "        count_neg[i[2]] = 0\n",
    "\n",
    "    if i[0] == i[1]:\n",
    "        count_plus[i[2]] += 1\n",
    "    else:\n",
    "        count_neg[i[2]] += 1\n"
   ]
  },
  {
   "cell_type": "markdown",
   "id": "215e4104",
   "metadata": {},
   "source": [
    "## Save model"
   ]
  },
  {
   "cell_type": "code",
   "execution_count": 53,
   "id": "497aa301",
   "metadata": {},
   "outputs": [],
   "source": [
    "model_json = model.to_json()\n",
    "with open(\"model64_binary10.json\", \"w\") as json_file:\n",
    "    json_file.write(model_json)\n",
    "model.save_weights(\"model64_binary10.h5\")"
   ]
  },
  {
   "cell_type": "markdown",
   "id": "5948ccab",
   "metadata": {},
   "source": [
    "## Load model"
   ]
  },
  {
   "cell_type": "code",
   "execution_count": 54,
   "id": "32be7e01",
   "metadata": {},
   "outputs": [],
   "source": [
    "# load json and create model\n",
    "json_file = open('model64_binary10.json', 'r')\n",
    "loaded_model_json = json_file.read()\n",
    "json_file.close()\n",
    "loaded_model = tf.keras.models.model_from_json(loaded_model_json)\n",
    "# load weights into new model\n",
    "loaded_model.load_weights(\"model64_binary10.h5\")"
   ]
  },
  {
   "cell_type": "code",
   "execution_count": 55,
   "id": "75e67d74",
   "metadata": {},
   "outputs": [
    {
     "name": "stderr",
     "output_type": "stream",
     "text": [
      "2023-05-10 23:11:05.756362: I tensorflow/core/grappler/optimizers/custom_graph_optimizer_registry.cc:113] Plugin optimizer for device_type GPU is enabled.\n"
     ]
    },
    {
     "name": "stdout",
     "output_type": "stream",
     "text": [
      "21/21 [==============================] - 7s 231ms/step - loss: 1.3410 - auc: 0.9289 - accuracy: 0.8558\n"
     ]
    },
    {
     "data": {
      "text/plain": [
       "[1.341022253036499, 0.9288563132286072, 0.8558139801025391]"
      ]
     },
     "execution_count": 55,
     "metadata": {},
     "output_type": "execute_result"
    }
   ],
   "source": [
    "# evaluate loaded model on test data\n",
    "optimizer_fn = tf.keras.optimizers.experimental.RMSprop(learning_rate=0.001, jit_compile = False)\n",
    "metrics_list = [tf.keras.metrics.AUC(name = 'auc'),\n",
    "                tf.keras.metrics.BinaryAccuracy(name = 'accuracy')]\n",
    "loaded_model.compile(optimizer = optimizer_fn, loss='binary_crossentropy', metrics= metrics_list)\n",
    "score1 = loaded_model.evaluate(x_val, y_val)\n",
    "score1"
   ]
  },
  {
   "cell_type": "markdown",
   "id": "8e4010f5",
   "metadata": {},
   "source": [
    "## Majority voting"
   ]
  },
  {
   "cell_type": "code",
   "execution_count": 56,
   "id": "b082e215",
   "metadata": {},
   "outputs": [],
   "source": [
    "# load validation set\n",
    "val_case = ['case_00233', 'case_00089', 'case_00050', 'case_00112', 'case_00258', 'case_00246', 'case_00157', 'case_00149','case_00184']\n",
    "test_case = ['case_00221', 'case_00259', 'case_00087', 'case_00254', 'case_00098', 'case_00023', 'case_00041',\n",
    "             'case_00080', 'case_00101', 'case_00164', 'case_00002', 'case_00110', 'case_00030', 'case_00068',\n",
    "             'case_00026', 'case_00063', 'case_00006', 'case_00048', 'case_00250', 'case_00238', 'case_00015',\n",
    "             'case_00111', 'case_00278', 'case_00133', 'case_00284', 'case_00282', 'case_00269', 'case_00039',\n",
    "             'case_00033', 'case_00108', 'case_00175', 'case_00161', 'case_00256', 'case_00119', 'case_00286',\n",
    "             'case_00077', 'case_00162', 'case_00270', 'case_00271', 'case_00285', 'case_00174', 'case_00147',\n",
    "             'case_00215', 'case_00150', 'case_00052', 'case_00231', 'case_00198', 'case_00117', 'case_00138',\n",
    "             'case_00211', 'case_00190', 'case_00248', 'case_00235', 'case_00049', 'case_00074', 'case_00107',\n",
    "             'case_00218', 'case_00001', 'case_00193', 'case_00067', 'case_00289', 'case_00072', 'case_00044',\n",
    "             'case_00294', 'case_00298', 'case_00263', 'case_00038', 'case_00299', 'case_00249', 'case_00225',\n",
    "             'case_00217', 'case_00178', 'case_00082', 'case_00035', 'case_00034', 'case_00047', 'case_00276',\n",
    "             'case_00151', 'case_00226', 'case_00086', 'case_00176']"
   ]
  },
  {
   "cell_type": "code",
   "execution_count": 57,
   "id": "ddcd5fb9",
   "metadata": {},
   "outputs": [],
   "source": [
    "def adding_channel_dict(image_dict):\n",
    "    \"\"\"Convert from one channel to three channel images that are stored in dictionary \"\"\"\n",
    "    for key in image_dict:\n",
    "        image_dict[key] = generate_input.adding_channel(image_dict[key])\n",
    "    return image_dict\n",
    "\n",
    "def load_data_to_evaluate_by_majority_voting(rootdir, img_dir, json_path, list_cases):\n",
    "    \"\"\" Load images and labels in dictionary format \"\"\"\n",
    "    val_path = generate_input.processed_image_paths(rootdir, img_dir)\n",
    "    labels_dict = generate_input.malignant_labels_to_dict(json_path)\n",
    "    labels_dict_short = generate_part_label_dict(labels_dict, list_cases)\n",
    "    labels_dict_short = {key: float(value) for key, value in labels_dict_short.items()}\n",
    "    \n",
    "    image_dict_short = generate_input.load_nifti_img_and_mask_as_numpy(val_path, list_cases)\n",
    "    image_dict_short = adding_channel_dict(image_dict_short)\n",
    "    return image_dict_short, labels_dict_short\n",
    "    \n",
    "def create_prediction_dict(image_dict, model):\n",
    "    \"\"\" Create dictionary with prediction on patient-level using majority voting \"\"\"\n",
    "    pred_dict = {}\n",
    "    for key in image_dict:\n",
    "        y_pred = model.predict(image_dict[key])\n",
    "        pred_dict[key] = np.round(np.sum(y_pred)/len(y_pred))\n",
    "    return pred_dict\n",
    "\n",
    "def create_true_and_prediction_lists(true_dict, pred_dict):\n",
    "    \"\"\" Convert dictionaries into lists for evaluation \"\"\"\n",
    "    common_keys = true_dict.keys() & pred_dict.keys()\n",
    "    true_lst = []\n",
    "    pred_lst = [] \n",
    "    key_lst = []\n",
    "    for key in common_keys:\n",
    "        true_lst.append(true_dict[key])\n",
    "        pred_lst.append(pred_dict[key])   \n",
    "        key_lst.append(key)\n",
    "    return true_lst, pred_lst,key_lst"
   ]
  },
  {
   "cell_type": "markdown",
   "id": "28aa8300",
   "metadata": {},
   "source": [
    "### Validation set"
   ]
  },
  {
   "cell_type": "code",
   "execution_count": 58,
   "id": "fadc46bc",
   "metadata": {},
   "outputs": [],
   "source": [
    "val_dict, labels_val = load_data_to_evaluate_by_majority_voting('./preprocessed-data/', 'images', '../kits21/kits21/data/kits.json', val_case)"
   ]
  },
  {
   "cell_type": "code",
   "execution_count": 59,
   "id": "c04d5e4c",
   "metadata": {
    "scrolled": true
   },
   "outputs": [
    {
     "name": "stderr",
     "output_type": "stream",
     "text": [
      "2023-05-10 23:11:12.834782: I tensorflow/core/grappler/optimizers/custom_graph_optimizer_registry.cc:113] Plugin optimizer for device_type GPU is enabled.\n"
     ]
    },
    {
     "name": "stdout",
     "output_type": "stream",
     "text": [
      "2/2 [==============================] - 3s 1s/step\n",
      "1/1 [==============================] - 1s 1s/step\n",
      "2/2 [==============================] - 2s 1s/step\n",
      "2/2 [==============================] - 2s 1s/step\n",
      "4/4 [==============================] - 1s 437ms/step\n",
      "2/2 [==============================] - 1s 1s/step\n",
      "8/8 [==============================] - 1s 194ms/step\n",
      "2/2 [==============================] - 1s 1s/step\n",
      "1/1 [==============================] - 1s 1s/step\n"
     ]
    }
   ],
   "source": [
    "val_pred_dict = create_prediction_dict(val_dict, loaded_model)"
   ]
  },
  {
   "cell_type": "code",
   "execution_count": 60,
   "id": "ef0eb1ef",
   "metadata": {},
   "outputs": [],
   "source": [
    "val_true_lst, val_pred_lst, val_cases = create_true_and_prediction_lists(labels_val, val_pred_dict)"
   ]
  },
  {
   "cell_type": "code",
   "execution_count": 61,
   "id": "2fba1cdf",
   "metadata": {},
   "outputs": [
    {
     "name": "stdout",
     "output_type": "stream",
     "text": [
      "[[1 0]\n",
      " [1 7]]\n"
     ]
    }
   ],
   "source": [
    "print(confusion_matrix(val_true_lst, val_pred_lst))"
   ]
  },
  {
   "cell_type": "code",
   "execution_count": 62,
   "id": "2a62364e",
   "metadata": {},
   "outputs": [
    {
     "name": "stdout",
     "output_type": "stream",
     "text": [
      "              precision    recall  f1-score   support\n",
      "\n",
      "         0.0       0.50      1.00      0.67         1\n",
      "         1.0       1.00      0.88      0.93         8\n",
      "\n",
      "    accuracy                           0.89         9\n",
      "   macro avg       0.75      0.94      0.80         9\n",
      "weighted avg       0.94      0.89      0.90         9\n",
      "\n"
     ]
    }
   ],
   "source": [
    "print(classification_report(val_true_lst, val_pred_lst))"
   ]
  },
  {
   "cell_type": "markdown",
   "id": "33df51b5",
   "metadata": {},
   "source": [
    "### Test set"
   ]
  },
  {
   "cell_type": "code",
   "execution_count": 63,
   "id": "d0bfb927",
   "metadata": {},
   "outputs": [],
   "source": [
    "test_dict, test_label_dict = load_data_to_evaluate_by_majority_voting('./preprocessed-data/', 'images', '../kits21/kits21/data/kits.json', test_case)"
   ]
  },
  {
   "cell_type": "code",
   "execution_count": 64,
   "id": "b814e24b",
   "metadata": {},
   "outputs": [
    {
     "name": "stdout",
     "output_type": "stream",
     "text": [
      "1/1 [==============================] - 1s 1s/step\n",
      "1/1 [==============================] - 1s 1s/step\n",
      "6/6 [==============================] - 1s 282ms/step\n",
      "1/1 [==============================] - 0s 29ms/step\n",
      "1/1 [==============================] - 1s 1s/step\n",
      "1/1 [==============================] - 0s 266ms/step\n",
      "7/7 [==============================] - 0s 16ms/step\n",
      "2/2 [==============================] - 1s 1s/step\n",
      "2/2 [==============================] - 1s 1s/step\n",
      "2/2 [==============================] - 2s 1s/step\n",
      "1/1 [==============================] - 1s 1s/step\n",
      "1/1 [==============================] - 0s 23ms/step\n",
      "1/1 [==============================] - 0s 290ms/step\n",
      "2/2 [==============================] - 1s 1s/step\n",
      "2/2 [==============================] - 1s 1s/step\n",
      "1/1 [==============================] - 0s 24ms/step\n",
      "2/2 [==============================] - 0s 24ms/step\n",
      "7/7 [==============================] - 0s 16ms/step\n",
      "7/7 [==============================] - 0s 61ms/step\n",
      "9/9 [==============================] - 1s 184ms/step\n",
      "1/1 [==============================] - 1s 581ms/step\n",
      "7/7 [==============================] - 0s 16ms/step\n",
      "1/1 [==============================] - 0s 21ms/step\n",
      "1/1 [==============================] - 0s 26ms/step\n",
      "2/2 [==============================] - 2s 2s/step\n",
      "4/4 [==============================] - 1s 486ms/step\n",
      "1/1 [==============================] - 1s 1s/step\n",
      "8/8 [==============================] - 1s 193ms/step\n",
      "2/2 [==============================] - 1s 715ms/step\n",
      "1/1 [==============================] - 1s 556ms/step\n",
      "6/6 [==============================] - 1s 276ms/step\n",
      "5/5 [==============================] - 0s 86ms/step\n",
      "7/7 [==============================] - 1s 124ms/step\n",
      "1/1 [==============================] - 1s 1s/step\n",
      "1/1 [==============================] - 0s 24ms/step\n",
      "2/2 [==============================] - 1s 278ms/step\n",
      "1/1 [==============================] - 1s 672ms/step\n",
      "2/2 [==============================] - 1s 1s/step\n",
      "7/7 [==============================] - 1s 154ms/step\n",
      "7/7 [==============================] - 0s 68ms/step\n",
      "2/2 [==============================] - 0s 16ms/step\n",
      "1/1 [==============================] - 1s 722ms/step\n",
      "8/8 [==============================] - 0s 17ms/step\n",
      "2/2 [==============================] - 0s 291ms/step\n",
      "8/8 [==============================] - 0s 53ms/step\n",
      "2/2 [==============================] - 0s 267ms/step\n",
      "2/2 [==============================] - 0s 14ms/step\n",
      "1/1 [==============================] - 0s 170ms/step\n",
      "1/1 [==============================] - 0s 22ms/step\n",
      "1/1 [==============================] - 0s 21ms/step\n",
      "5/5 [==============================] - 1s 245ms/step\n",
      "8/8 [==============================] - 0s 16ms/step\n",
      "2/2 [==============================] - 1s 1s/step\n",
      "2/2 [==============================] - 1s 736ms/step\n",
      "1/1 [==============================] - 0s 44ms/step\n",
      "1/1 [==============================] - 1s 728ms/step\n",
      "2/2 [==============================] - 1s 701ms/step\n",
      "1/1 [==============================] - 1s 574ms/step\n",
      "2/2 [==============================] - 0s 267ms/step\n",
      "2/2 [==============================] - 1s 665ms/step\n",
      "1/1 [==============================] - 0s 24ms/step\n",
      "1/1 [==============================] - 1s 548ms/step\n",
      "1/1 [==============================] - 1s 546ms/step\n",
      "2/2 [==============================] - 1s 666ms/step\n",
      "2/2 [==============================] - 1s 1s/step\n",
      "1/1 [==============================] - 0s 25ms/step\n",
      "1/1 [==============================] - 0s 303ms/step\n",
      "1/1 [==============================] - 0s 311ms/step\n",
      "11/11 [==============================] - 1s 77ms/step\n",
      "2/2 [==============================] - 0s 15ms/step\n",
      "2/2 [==============================] - 1s 691ms/step\n",
      "3/3 [==============================] - 0s 169ms/step\n",
      "1/1 [==============================] - 1s 752ms/step\n",
      "2/2 [==============================] - 0s 304ms/step\n",
      "2/2 [==============================] - 1s 757ms/step\n",
      "2/2 [==============================] - 1s 723ms/step\n",
      "1/1 [==============================] - 0s 23ms/step\n",
      "2/2 [==============================] - 0s 179ms/step\n",
      "4/4 [==============================] - 1s 202ms/step\n",
      "2/2 [==============================] - 1s 678ms/step\n",
      "1/1 [==============================] - 0s 295ms/step\n"
     ]
    }
   ],
   "source": [
    "test_pred_dict = create_prediction_dict(test_dict, loaded_model)"
   ]
  },
  {
   "cell_type": "code",
   "execution_count": 65,
   "id": "de529025",
   "metadata": {},
   "outputs": [],
   "source": [
    "test_true_lst, test_pred_lst, test_keys = create_true_and_prediction_lists(test_label_dict, test_pred_dict)"
   ]
  },
  {
   "cell_type": "code",
   "execution_count": 66,
   "id": "27fb67be",
   "metadata": {},
   "outputs": [
    {
     "name": "stdout",
     "output_type": "stream",
     "text": [
      "[[ 2  5]\n",
      " [11 63]]\n"
     ]
    }
   ],
   "source": [
    "print(confusion_matrix(test_true_lst, test_pred_lst))"
   ]
  },
  {
   "cell_type": "code",
   "execution_count": 67,
   "id": "3087d6f4",
   "metadata": {},
   "outputs": [
    {
     "name": "stdout",
     "output_type": "stream",
     "text": [
      "              precision    recall  f1-score   support\n",
      "\n",
      "         0.0     0.1538    0.2857    0.2000         7\n",
      "         1.0     0.9265    0.8514    0.8873        74\n",
      "\n",
      "    accuracy                         0.8025        81\n",
      "   macro avg     0.5402    0.5685    0.5437        81\n",
      "weighted avg     0.8597    0.8025    0.8279        81\n",
      "\n"
     ]
    }
   ],
   "source": [
    "print(classification_report(test_true_lst, test_pred_lst, digits = 4))"
   ]
  },
  {
   "cell_type": "code",
   "execution_count": null,
   "id": "954be4c8",
   "metadata": {},
   "outputs": [],
   "source": []
  },
  {
   "cell_type": "code",
   "execution_count": null,
   "id": "7a5e1588",
   "metadata": {},
   "outputs": [],
   "source": []
  }
 ],
 "metadata": {
  "kernelspec": {
   "display_name": "Python 3 (ipykernel)",
   "language": "python",
   "name": "python3"
  },
  "language_info": {
   "codemirror_mode": {
    "name": "ipython",
    "version": 3
   },
   "file_extension": ".py",
   "mimetype": "text/x-python",
   "name": "python",
   "nbconvert_exporter": "python",
   "pygments_lexer": "ipython3",
   "version": "3.10.9"
  }
 },
 "nbformat": 4,
 "nbformat_minor": 5
}
